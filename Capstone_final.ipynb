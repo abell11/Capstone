{
 "cells": [
  {
   "cell_type": "markdown",
   "metadata": {},
   "source": [
    "# Capstone Project"
   ]
  },
  {
   "cell_type": "markdown",
   "metadata": {},
   "source": [
    "## Trump Twitter Analysis and Predictability of Stock Market (SPY) Move "
   ]
  },
  {
   "cell_type": "markdown",
   "metadata": {},
   "source": [
    "### Problem Statement"
   ]
  },
  {
   "cell_type": "markdown",
   "metadata": {},
   "source": [
    "The idea for this project stemmed from my previous job.  Ever since the announcement and further election of current President of the United States Donald Trump, I became amazed at the way a man in position of power used social media, specifically Twitter, to express his views and thoughts.  With every passing day information is more easily accessible and with that much more easy to spread.  Because of this, I thought it would be a great idea to analyze Donald Trump's twitter feed and see if there is any type of correlation in a stock market move.  To gauge this, I used the exchange traded fund (etf) SPY.  This etf is connected with the bigger SP500 and mirrors the same moves up and down.  "
   ]
  },
  {
   "cell_type": "markdown",
   "metadata": {},
   "source": [
    "### Executive Summary"
   ]
  },
  {
   "cell_type": "markdown",
   "metadata": {},
   "source": [
    "First and foremost, I will state that I am not a financial advisor and the results of this project should not be used to make financial decisions. Please consult one if you would like further information...\n",
    "\n",
    "The goal for this project is to take Donald Trump's twitter texts and dissect and anaylze them.  I used a Count Vectorizer and VADER analysis to do this.  In doing so, I plan to look for words that correlate postively or negatively to moves in SPY etf.  Using the analyzed text data, I used each day's SPY data (Open, High, Low, Close, and Volume) and its numerical features to gauge the impact of the twitter texts.  Having this framework, the ultimate goal is to be able to take a tweet from President Trump and then be able to accurately predict a move in the SPY etf either postively or negatively.  \n",
    "\n",
    "The data collected from this project came from two different sources.  One is all of Donald Trump's twitter feed dating back to June 15, 2015 and going to August 20, 2019 (the last day collected for this project).  Together this accounted for over 17,000 tweets and instagram posts.  The data for this was taken from the website http://www.trumptwitterarchive.com/archive and using the parameters of the dates posted above.  This data was parsed and then exported via csv.  The other data needed for this project was market data on the SPY etf.  This includes the open, high, low, close, and volume for each day.  To get this, I used the yahoo website https://finance.yahoo.com/quote/SP/history?p=SP and exported this data via csv.  Once I had both csv's, I was able to import them both into a jupyter notebook and my analysis could begin.  Additional data and charts were used at www.stockcharts.com.\n",
    "\n",
    "To create this into a classification problem, I created a new column called 'up_day'.  This column would be my target variable for each of my models going forward.  To create it, I took the Close price for each day of the SPY and with the Datetime index, I used a .pct_change() method for all the numerical data.  This would simply tell you the percent change move from the day previous.  Any positive number would be considered a positive move in the market, or an \"up day.\"  Any negative number would be considered a negative move in market, or \"down day.\" To get this into binary terms, I made an up_day equal to 1 and down_day equal to 0.  \n",
    "\n",
    "Exploratory Data Analysis, or EDA, on the data took longer and was much more involved than I originally thought it would be.  After taking out the columns that I felt were an unncessary fit for my problem and working around a few nulls, my biggest problems came from using Datetime as an index as well as combining all of the text data together.  The first problem of Datetime indexing was hard but necessary as it was the only similar column within both data sets that I would be able to group on.  Once I joined the data sets together on date, the next problem that came up was what to do with the multiple texts that came from each day.  Since the same amount of texts weren't printed each day, I felt the best way to take care of the unbalanced issue was to take each days worth of tweets and combine them into one single string of text.  From here, my data would consist of the SPY market data and the grouped together tweets from that day. The texts from the tweets would undergo some sentiment analysis to determine the \"feeling\" of it. I used Valence Aware Dictionary and sEntiment Analysis, or VADER, to do this and added this info back into the data set. My text dissection wasn't complete yet.  Next I used a Count Vectorizer to find the most used and correlated words within all the text.  After a lot of trial and error, the parameters kept that performed the best were keeping stopwords in, having max features at 12,000, and having an n gram range of 3. \n",
    "\n",
    "The models used in this project were two types of Logistic Regression, a Gradient Boost Classifier, and a Random Forest Classifier.  All models used the metric of accuracy score to show whether they were a good at predicting an up SPY move or not.  The baseline accuracy score came out to be 54.18% and would be used to compare all the models against one another. This  score makes sense since if one looks at a chart of the SPY or even the overall market, the trend is to the positive just slightly.   \n",
    "\n",
    "The first logistic model performed was a basic one with default parameters and had an accuracy score of 50%.  This was worse than the baseline model. I then used Gridsearch to find the best parameters and the best logistic regression model came with lasso regularization.  The accuracy score was 57% so just slightly better than baseline model.  With this model, I found the highest and lowest coefficient words within the texts of the tweets and market data in general.  The words with the highest likelihood of having an up SPY move were \"healthcare\", \"york\", \"hillary clinton\", \"meeting\", \"mexico\", \"republican\", and \"border\".  The words with the lowest likelihood for an up move (so highest for a down move in SPY) were Volume column, \"justice\", \"president trump\", \"honor\", \"ohio\", \"wall\", \"country\", \"security\", and \"joe\".  These words for the most part don't have large odds of predicting the move in the SPY etf.  Most of them though had odds very low and close to 0 likelihood of predicting correctly.  However the top words out of these lists for an up move were \"healthcare\" with a 1.23 chance of being positive if mentioned in tweet, followed by \"hillary clinton\" with 1.11, \"meeting\" with 1.08, and \"mexico\" with 1.07.  For a negative move in SPY, the Volume column had highest correlation out of not only least correlated, but of all the potential coefficients. A higher volume on a date had odds of 1.59 more likely being a down day, followed by \"justice\" with 1.27, and \"president trump\" with 1.15.   \n",
    "\n",
    "Moving on to the other models, I used the same data into a Gradient Boost Classifier and a Random Forest model.  The accuracy scores for both of these were much better than the logistic model and the baseline.  The random forest model gave an accuracy score of 65% and the Gradient Boost model gave the best accuracy score of the bunch with 81%.  I ended up using this model and the logistic regression for my analyses.  The gradient boost because of its high accuracy and the logistic regression becuase of its interpretability. I performed confusion matrices on these and also got ROC AUC scores for them.  Gradient boost model yielded a score of 0.87 and the logistic model gave 0.55.  The goal for this score is to be as close to 1 as possible.  The closer to 1, the better the model is at classifying between the two classes (up day vs no up day).\n",
    "\n",
    "After performing all of the modeling and looking at the results, it is hard to say whether the impact a tweet has an impact on a move in the SPY or stock market.  I do believe that certain tweets had a large impact, however, with combining all of the tweets from each day together, I feel that impact may have been died down.  This I believe is a large downside to this overall project and further knowledge of use in TimeSeries would be key in alleviating that issue.  One good thing picked up though was that certain topics were talked about around major market moves, both up and down.  This allowed for the logistic regression model to find the top coefficients talked about above.  Seeing Volume column having the highest absolute value coefficient wasn't surprising, especially to the downside.  This is because most down days in the market have the highest amounts of volume.  With the markets crumbling down, investors are forced to manage their positions as they change.  \"Healthcare\" being the top positive coefficient was interesting.  I guess that means seemingly most people are excited about that field and what can come from it.  With all this being said, this model still needs much more work but I do believe the model can work well at predicting SPY moves with better text analyses and the ability to work with TimeSeries better.  \n"
   ]
  },
  {
   "cell_type": "markdown",
   "metadata": {},
   "source": [
    "## Imports"
   ]
  },
  {
   "cell_type": "code",
   "execution_count": 1,
   "metadata": {},
   "outputs": [],
   "source": [
    "import pandas as pd\n",
    "import numpy as np\n",
    "import matplotlib.pyplot as plt\n",
    "import seaborn as sns\n",
    "import string\n",
    "import re\n",
    "import demoji\n",
    "import emoji\n",
    "import regex\n",
    "import time\n",
    "import gensim\n",
    "\n",
    "from nltk.sentiment.vader import SentimentIntensityAnalyzer\n",
    "from sklearn.feature_extraction.text import CountVectorizer\n",
    "from sklearn.linear_model import LogisticRegression\n",
    "from sklearn.model_selection import GridSearchCV, train_test_split\n",
    "from sklearn.pipeline import Pipeline\n",
    "from sklearn.ensemble import GradientBoostingClassifier\n",
    "from sklearn.metrics import roc_auc_score\n",
    "from sklearn.metrics import confusion_matrix\n",
    "import sklearn.metrics as metrics"
   ]
  },
  {
   "cell_type": "code",
   "execution_count": 2,
   "metadata": {},
   "outputs": [
    {
     "data": {
      "text/html": [
       "<div>\n",
       "<style scoped>\n",
       "    .dataframe tbody tr th:only-of-type {\n",
       "        vertical-align: middle;\n",
       "    }\n",
       "\n",
       "    .dataframe tbody tr th {\n",
       "        vertical-align: top;\n",
       "    }\n",
       "\n",
       "    .dataframe thead th {\n",
       "        text-align: right;\n",
       "    }\n",
       "</style>\n",
       "<table border=\"1\" class=\"dataframe\">\n",
       "  <thead>\n",
       "    <tr style=\"text-align: right;\">\n",
       "      <th></th>\n",
       "      <th>Date</th>\n",
       "      <th>Open</th>\n",
       "      <th>High</th>\n",
       "      <th>Low</th>\n",
       "      <th>Close</th>\n",
       "      <th>Adj Close</th>\n",
       "      <th>Volume</th>\n",
       "    </tr>\n",
       "  </thead>\n",
       "  <tbody>\n",
       "    <tr>\n",
       "      <th>0</th>\n",
       "      <td>2015-06-15</td>\n",
       "      <td>208.639999</td>\n",
       "      <td>209.449997</td>\n",
       "      <td>207.789993</td>\n",
       "      <td>209.110001</td>\n",
       "      <td>192.159103</td>\n",
       "      <td>124384200</td>\n",
       "    </tr>\n",
       "    <tr>\n",
       "      <th>1</th>\n",
       "      <td>2015-06-16</td>\n",
       "      <td>208.929993</td>\n",
       "      <td>210.350006</td>\n",
       "      <td>208.720001</td>\n",
       "      <td>210.250000</td>\n",
       "      <td>193.206757</td>\n",
       "      <td>85308200</td>\n",
       "    </tr>\n",
       "    <tr>\n",
       "      <th>2</th>\n",
       "      <td>2015-06-17</td>\n",
       "      <td>210.589996</td>\n",
       "      <td>211.320007</td>\n",
       "      <td>209.360001</td>\n",
       "      <td>210.589996</td>\n",
       "      <td>193.519150</td>\n",
       "      <td>126708600</td>\n",
       "    </tr>\n",
       "  </tbody>\n",
       "</table>\n",
       "</div>"
      ],
      "text/plain": [
       "         Date        Open        High         Low       Close   Adj Close  \\\n",
       "0  2015-06-15  208.639999  209.449997  207.789993  209.110001  192.159103   \n",
       "1  2015-06-16  208.929993  210.350006  208.720001  210.250000  193.206757   \n",
       "2  2015-06-17  210.589996  211.320007  209.360001  210.589996  193.519150   \n",
       "\n",
       "      Volume  \n",
       "0  124384200  \n",
       "1   85308200  \n",
       "2  126708600  "
      ]
     },
     "execution_count": 2,
     "metadata": {},
     "output_type": "execute_result"
    }
   ],
   "source": [
    "# Importing SPY historical data from Yahoo Finance.  \n",
    "# Dates back to June 14, 2015, the date before Donald Trump announced Presidential run.\n",
    "spy_data = pd.read_csv('SPY.csv')\n",
    "spy_data.head(3)"
   ]
  },
  {
   "cell_type": "code",
   "execution_count": 3,
   "metadata": {},
   "outputs": [
    {
     "data": {
      "text/plain": [
       "(1053, 7)"
      ]
     },
     "execution_count": 3,
     "metadata": {},
     "output_type": "execute_result"
    }
   ],
   "source": [
    "spy_data.shape"
   ]
  },
  {
   "cell_type": "markdown",
   "metadata": {},
   "source": [
    "### Importing Donald Trump twitter data"
   ]
  },
  {
   "cell_type": "code",
   "execution_count": 4,
   "metadata": {},
   "outputs": [
    {
     "data": {
      "text/html": [
       "<div>\n",
       "<style scoped>\n",
       "    .dataframe tbody tr th:only-of-type {\n",
       "        vertical-align: middle;\n",
       "    }\n",
       "\n",
       "    .dataframe tbody tr th {\n",
       "        vertical-align: top;\n",
       "    }\n",
       "\n",
       "    .dataframe thead th {\n",
       "        text-align: right;\n",
       "    }\n",
       "</style>\n",
       "<table border=\"1\" class=\"dataframe\">\n",
       "  <thead>\n",
       "    <tr style=\"text-align: right;\">\n",
       "      <th></th>\n",
       "      <th>source</th>\n",
       "      <th>text</th>\n",
       "      <th>created_at</th>\n",
       "      <th>retweet_count</th>\n",
       "      <th>favorite_count</th>\n",
       "      <th>is_retweet</th>\n",
       "      <th>id_str</th>\n",
       "    </tr>\n",
       "  </thead>\n",
       "  <tbody>\n",
       "    <tr>\n",
       "      <th>0</th>\n",
       "      <td>Twitter for iPhone</td>\n",
       "      <td>Nobody ever heard of this dope until he met me...</td>\n",
       "      <td>08-20-2019 02:51:08</td>\n",
       "      <td>17323.0</td>\n",
       "      <td>71509.0</td>\n",
       "      <td>False</td>\n",
       "      <td>1.163645e+18</td>\n",
       "    </tr>\n",
       "    <tr>\n",
       "      <th>1</th>\n",
       "      <td>Twitter for iPhone</td>\n",
       "      <td>I promise not to do this to Greenland! https:/...</td>\n",
       "      <td>08-20-2019 00:07:14</td>\n",
       "      <td>61574.0</td>\n",
       "      <td>269528.0</td>\n",
       "      <td>False</td>\n",
       "      <td>1.163603e+18</td>\n",
       "    </tr>\n",
       "    <tr>\n",
       "      <th>2</th>\n",
       "      <td>Twitter for iPhone</td>\n",
       "      <td>Thank you to my great supporters at the 2019 @...</td>\n",
       "      <td>08-20-2019 00:04:57</td>\n",
       "      <td>13283.0</td>\n",
       "      <td>60576.0</td>\n",
       "      <td>False</td>\n",
       "      <td>1.163603e+18</td>\n",
       "    </tr>\n",
       "  </tbody>\n",
       "</table>\n",
       "</div>"
      ],
      "text/plain": [
       "               source                                               text  \\\n",
       "0  Twitter for iPhone  Nobody ever heard of this dope until he met me...   \n",
       "1  Twitter for iPhone  I promise not to do this to Greenland! https:/...   \n",
       "2  Twitter for iPhone  Thank you to my great supporters at the 2019 @...   \n",
       "\n",
       "            created_at  retweet_count  favorite_count is_retweet        id_str  \n",
       "0  08-20-2019 02:51:08        17323.0         71509.0      False  1.163645e+18  \n",
       "1  08-20-2019 00:07:14        61574.0        269528.0      False  1.163603e+18  \n",
       "2  08-20-2019 00:04:57        13283.0         60576.0      False  1.163603e+18  "
      ]
     },
     "execution_count": 4,
     "metadata": {},
     "output_type": "execute_result"
    }
   ],
   "source": [
    "trump = pd.read_csv('trump_data.csv')\n",
    "trump.head(3)"
   ]
  },
  {
   "cell_type": "code",
   "execution_count": 5,
   "metadata": {},
   "outputs": [
    {
     "data": {
      "text/plain": [
       "(17095, 7)"
      ]
     },
     "execution_count": 5,
     "metadata": {},
     "output_type": "execute_result"
    }
   ],
   "source": [
    "trump.shape"
   ]
  },
  {
   "cell_type": "code",
   "execution_count": 6,
   "metadata": {},
   "outputs": [
    {
     "name": "stdout",
     "output_type": "stream",
     "text": [
      "<class 'pandas.core.frame.DataFrame'>\n",
      "RangeIndex: 17095 entries, 0 to 17094\n",
      "Data columns (total 7 columns):\n",
      "source            17095 non-null object\n",
      "text              17095 non-null object\n",
      "created_at        17094 non-null object\n",
      "retweet_count     17094 non-null float64\n",
      "favorite_count    17094 non-null float64\n",
      "is_retweet        17036 non-null object\n",
      "id_str            17094 non-null float64\n",
      "dtypes: float64(3), object(4)\n",
      "memory usage: 935.0+ KB\n"
     ]
    }
   ],
   "source": [
    "trump.info()"
   ]
  },
  {
   "cell_type": "code",
   "execution_count": 7,
   "metadata": {},
   "outputs": [],
   "source": [
    "trump['created_at'] = pd.to_datetime(trump['created_at'])"
   ]
  },
  {
   "cell_type": "code",
   "execution_count": 8,
   "metadata": {},
   "outputs": [
    {
     "name": "stdout",
     "output_type": "stream",
     "text": [
      "<class 'pandas.core.frame.DataFrame'>\n",
      "RangeIndex: 17095 entries, 0 to 17094\n",
      "Data columns (total 7 columns):\n",
      "source            17095 non-null object\n",
      "text              17095 non-null object\n",
      "created_at        17094 non-null datetime64[ns]\n",
      "retweet_count     17094 non-null float64\n",
      "favorite_count    17094 non-null float64\n",
      "is_retweet        17036 non-null object\n",
      "id_str            17094 non-null float64\n",
      "dtypes: datetime64[ns](1), float64(3), object(3)\n",
      "memory usage: 935.0+ KB\n"
     ]
    }
   ],
   "source": [
    "trump.info()"
   ]
  },
  {
   "cell_type": "code",
   "execution_count": 9,
   "metadata": {},
   "outputs": [
    {
     "data": {
      "text/html": [
       "<div>\n",
       "<style scoped>\n",
       "    .dataframe tbody tr th:only-of-type {\n",
       "        vertical-align: middle;\n",
       "    }\n",
       "\n",
       "    .dataframe tbody tr th {\n",
       "        vertical-align: top;\n",
       "    }\n",
       "\n",
       "    .dataframe thead th {\n",
       "        text-align: right;\n",
       "    }\n",
       "</style>\n",
       "<table border=\"1\" class=\"dataframe\">\n",
       "  <thead>\n",
       "    <tr style=\"text-align: right;\">\n",
       "      <th></th>\n",
       "      <th>source</th>\n",
       "      <th>text</th>\n",
       "      <th>created_at</th>\n",
       "      <th>retweet_count</th>\n",
       "      <th>favorite_count</th>\n",
       "      <th>is_retweet</th>\n",
       "      <th>id_str</th>\n",
       "    </tr>\n",
       "  </thead>\n",
       "  <tbody>\n",
       "    <tr>\n",
       "      <th>0</th>\n",
       "      <td>Twitter for iPhone</td>\n",
       "      <td>Nobody ever heard of this dope until he met me...</td>\n",
       "      <td>2019-08-20 02:51:08</td>\n",
       "      <td>17323.0</td>\n",
       "      <td>71509.0</td>\n",
       "      <td>False</td>\n",
       "      <td>1.163645e+18</td>\n",
       "    </tr>\n",
       "    <tr>\n",
       "      <th>1</th>\n",
       "      <td>Twitter for iPhone</td>\n",
       "      <td>I promise not to do this to Greenland! https:/...</td>\n",
       "      <td>2019-08-20 00:07:14</td>\n",
       "      <td>61574.0</td>\n",
       "      <td>269528.0</td>\n",
       "      <td>False</td>\n",
       "      <td>1.163603e+18</td>\n",
       "    </tr>\n",
       "    <tr>\n",
       "      <th>2</th>\n",
       "      <td>Twitter for iPhone</td>\n",
       "      <td>Thank you to my great supporters at the 2019 @...</td>\n",
       "      <td>2019-08-20 00:04:57</td>\n",
       "      <td>13283.0</td>\n",
       "      <td>60576.0</td>\n",
       "      <td>False</td>\n",
       "      <td>1.163603e+18</td>\n",
       "    </tr>\n",
       "  </tbody>\n",
       "</table>\n",
       "</div>"
      ],
      "text/plain": [
       "               source                                               text  \\\n",
       "0  Twitter for iPhone  Nobody ever heard of this dope until he met me...   \n",
       "1  Twitter for iPhone  I promise not to do this to Greenland! https:/...   \n",
       "2  Twitter for iPhone  Thank you to my great supporters at the 2019 @...   \n",
       "\n",
       "           created_at  retweet_count  favorite_count is_retweet        id_str  \n",
       "0 2019-08-20 02:51:08        17323.0         71509.0      False  1.163645e+18  \n",
       "1 2019-08-20 00:07:14        61574.0        269528.0      False  1.163603e+18  \n",
       "2 2019-08-20 00:04:57        13283.0         60576.0      False  1.163603e+18  "
      ]
     },
     "execution_count": 9,
     "metadata": {},
     "output_type": "execute_result"
    }
   ],
   "source": [
    "trump.head(3)"
   ]
  },
  {
   "cell_type": "code",
   "execution_count": 10,
   "metadata": {},
   "outputs": [
    {
     "data": {
      "text/html": [
       "<div>\n",
       "<style scoped>\n",
       "    .dataframe tbody tr th:only-of-type {\n",
       "        vertical-align: middle;\n",
       "    }\n",
       "\n",
       "    .dataframe tbody tr th {\n",
       "        vertical-align: top;\n",
       "    }\n",
       "\n",
       "    .dataframe thead th {\n",
       "        text-align: right;\n",
       "    }\n",
       "</style>\n",
       "<table border=\"1\" class=\"dataframe\">\n",
       "  <thead>\n",
       "    <tr style=\"text-align: right;\">\n",
       "      <th></th>\n",
       "      <th>source</th>\n",
       "      <th>text</th>\n",
       "      <th>created_at</th>\n",
       "      <th>retweet_count</th>\n",
       "      <th>favorite_count</th>\n",
       "      <th>is_retweet</th>\n",
       "      <th>id_str</th>\n",
       "      <th>day</th>\n",
       "    </tr>\n",
       "  </thead>\n",
       "  <tbody>\n",
       "    <tr>\n",
       "      <th>0</th>\n",
       "      <td>Twitter for iPhone</td>\n",
       "      <td>Nobody ever heard of this dope until he met me...</td>\n",
       "      <td>2019-08-20 02:51:08</td>\n",
       "      <td>17323.0</td>\n",
       "      <td>71509.0</td>\n",
       "      <td>False</td>\n",
       "      <td>1.163645e+18</td>\n",
       "      <td>2019-08-20</td>\n",
       "    </tr>\n",
       "    <tr>\n",
       "      <th>1</th>\n",
       "      <td>Twitter for iPhone</td>\n",
       "      <td>I promise not to do this to Greenland! https:/...</td>\n",
       "      <td>2019-08-20 00:07:14</td>\n",
       "      <td>61574.0</td>\n",
       "      <td>269528.0</td>\n",
       "      <td>False</td>\n",
       "      <td>1.163603e+18</td>\n",
       "      <td>2019-08-20</td>\n",
       "    </tr>\n",
       "    <tr>\n",
       "      <th>2</th>\n",
       "      <td>Twitter for iPhone</td>\n",
       "      <td>Thank you to my great supporters at the 2019 @...</td>\n",
       "      <td>2019-08-20 00:04:57</td>\n",
       "      <td>13283.0</td>\n",
       "      <td>60576.0</td>\n",
       "      <td>False</td>\n",
       "      <td>1.163603e+18</td>\n",
       "      <td>2019-08-20</td>\n",
       "    </tr>\n",
       "  </tbody>\n",
       "</table>\n",
       "</div>"
      ],
      "text/plain": [
       "               source                                               text  \\\n",
       "0  Twitter for iPhone  Nobody ever heard of this dope until he met me...   \n",
       "1  Twitter for iPhone  I promise not to do this to Greenland! https:/...   \n",
       "2  Twitter for iPhone  Thank you to my great supporters at the 2019 @...   \n",
       "\n",
       "           created_at  retweet_count  favorite_count is_retweet        id_str  \\\n",
       "0 2019-08-20 02:51:08        17323.0         71509.0      False  1.163645e+18   \n",
       "1 2019-08-20 00:07:14        61574.0        269528.0      False  1.163603e+18   \n",
       "2 2019-08-20 00:04:57        13283.0         60576.0      False  1.163603e+18   \n",
       "\n",
       "          day  \n",
       "0  2019-08-20  \n",
       "1  2019-08-20  \n",
       "2  2019-08-20  "
      ]
     },
     "execution_count": 10,
     "metadata": {},
     "output_type": "execute_result"
    }
   ],
   "source": [
    "trump['day'] = trump['created_at'].dt.date\n",
    "trump.head(3)"
   ]
  },
  {
   "cell_type": "code",
   "execution_count": 11,
   "metadata": {},
   "outputs": [
    {
     "name": "stdout",
     "output_type": "stream",
     "text": [
      "<class 'pandas.core.frame.DataFrame'>\n",
      "RangeIndex: 17095 entries, 0 to 17094\n",
      "Data columns (total 8 columns):\n",
      "source            17095 non-null object\n",
      "text              17095 non-null object\n",
      "created_at        17094 non-null datetime64[ns]\n",
      "retweet_count     17094 non-null float64\n",
      "favorite_count    17094 non-null float64\n",
      "is_retweet        17036 non-null object\n",
      "id_str            17094 non-null float64\n",
      "day               17094 non-null object\n",
      "dtypes: datetime64[ns](1), float64(3), object(4)\n",
      "memory usage: 1.0+ MB\n"
     ]
    }
   ],
   "source": [
    "trump.info()"
   ]
  },
  {
   "cell_type": "code",
   "execution_count": 12,
   "metadata": {},
   "outputs": [],
   "source": [
    "trump['day'] = pd.to_datetime(trump['day'])"
   ]
  },
  {
   "cell_type": "code",
   "execution_count": 13,
   "metadata": {},
   "outputs": [
    {
     "name": "stdout",
     "output_type": "stream",
     "text": [
      "<class 'pandas.core.frame.DataFrame'>\n",
      "RangeIndex: 17095 entries, 0 to 17094\n",
      "Data columns (total 8 columns):\n",
      "source            17095 non-null object\n",
      "text              17095 non-null object\n",
      "created_at        17094 non-null datetime64[ns]\n",
      "retweet_count     17094 non-null float64\n",
      "favorite_count    17094 non-null float64\n",
      "is_retweet        17036 non-null object\n",
      "id_str            17094 non-null float64\n",
      "day               17094 non-null datetime64[ns]\n",
      "dtypes: datetime64[ns](2), float64(3), object(3)\n",
      "memory usage: 1.0+ MB\n"
     ]
    }
   ],
   "source": [
    "trump.info()"
   ]
  },
  {
   "cell_type": "code",
   "execution_count": 14,
   "metadata": {
    "scrolled": true
   },
   "outputs": [
    {
     "data": {
      "text/html": [
       "<div>\n",
       "<style scoped>\n",
       "    .dataframe tbody tr th:only-of-type {\n",
       "        vertical-align: middle;\n",
       "    }\n",
       "\n",
       "    .dataframe tbody tr th {\n",
       "        vertical-align: top;\n",
       "    }\n",
       "\n",
       "    .dataframe thead th {\n",
       "        text-align: right;\n",
       "    }\n",
       "</style>\n",
       "<table border=\"1\" class=\"dataframe\">\n",
       "  <thead>\n",
       "    <tr style=\"text-align: right;\">\n",
       "      <th></th>\n",
       "      <th>Date</th>\n",
       "      <th>Open</th>\n",
       "      <th>High</th>\n",
       "      <th>Low</th>\n",
       "      <th>Close</th>\n",
       "      <th>Adj Close</th>\n",
       "      <th>Volume</th>\n",
       "    </tr>\n",
       "  </thead>\n",
       "  <tbody>\n",
       "    <tr>\n",
       "      <th>0</th>\n",
       "      <td>2015-06-15</td>\n",
       "      <td>208.639999</td>\n",
       "      <td>209.449997</td>\n",
       "      <td>207.789993</td>\n",
       "      <td>209.110001</td>\n",
       "      <td>192.159103</td>\n",
       "      <td>124384200</td>\n",
       "    </tr>\n",
       "    <tr>\n",
       "      <th>1</th>\n",
       "      <td>2015-06-16</td>\n",
       "      <td>208.929993</td>\n",
       "      <td>210.350006</td>\n",
       "      <td>208.720001</td>\n",
       "      <td>210.250000</td>\n",
       "      <td>193.206757</td>\n",
       "      <td>85308200</td>\n",
       "    </tr>\n",
       "    <tr>\n",
       "      <th>2</th>\n",
       "      <td>2015-06-17</td>\n",
       "      <td>210.589996</td>\n",
       "      <td>211.320007</td>\n",
       "      <td>209.360001</td>\n",
       "      <td>210.589996</td>\n",
       "      <td>193.519150</td>\n",
       "      <td>126708600</td>\n",
       "    </tr>\n",
       "  </tbody>\n",
       "</table>\n",
       "</div>"
      ],
      "text/plain": [
       "         Date        Open        High         Low       Close   Adj Close  \\\n",
       "0  2015-06-15  208.639999  209.449997  207.789993  209.110001  192.159103   \n",
       "1  2015-06-16  208.929993  210.350006  208.720001  210.250000  193.206757   \n",
       "2  2015-06-17  210.589996  211.320007  209.360001  210.589996  193.519150   \n",
       "\n",
       "      Volume  \n",
       "0  124384200  \n",
       "1   85308200  \n",
       "2  126708600  "
      ]
     },
     "execution_count": 14,
     "metadata": {},
     "output_type": "execute_result"
    }
   ],
   "source": [
    "spy_data.head(3)"
   ]
  },
  {
   "cell_type": "code",
   "execution_count": 15,
   "metadata": {},
   "outputs": [
    {
     "name": "stdout",
     "output_type": "stream",
     "text": [
      "<class 'pandas.core.frame.DataFrame'>\n",
      "RangeIndex: 1053 entries, 0 to 1052\n",
      "Data columns (total 7 columns):\n",
      "Date         1053 non-null object\n",
      "Open         1053 non-null float64\n",
      "High         1053 non-null float64\n",
      "Low          1053 non-null float64\n",
      "Close        1053 non-null float64\n",
      "Adj Close    1053 non-null float64\n",
      "Volume       1053 non-null int64\n",
      "dtypes: float64(5), int64(1), object(1)\n",
      "memory usage: 57.7+ KB\n"
     ]
    }
   ],
   "source": [
    "spy_data.info()"
   ]
  },
  {
   "cell_type": "code",
   "execution_count": 16,
   "metadata": {},
   "outputs": [
    {
     "data": {
      "text/plain": [
       "(1053, 7)"
      ]
     },
     "execution_count": 16,
     "metadata": {},
     "output_type": "execute_result"
    }
   ],
   "source": [
    "spy_data.shape"
   ]
  },
  {
   "cell_type": "markdown",
   "metadata": {},
   "source": [
    "### Beginning DateTime "
   ]
  },
  {
   "cell_type": "code",
   "execution_count": 17,
   "metadata": {},
   "outputs": [],
   "source": [
    "spy_data['Date'] = pd.to_datetime(spy_data['Date'])"
   ]
  },
  {
   "cell_type": "code",
   "execution_count": 18,
   "metadata": {},
   "outputs": [
    {
     "name": "stdout",
     "output_type": "stream",
     "text": [
      "<class 'pandas.core.frame.DataFrame'>\n",
      "RangeIndex: 1053 entries, 0 to 1052\n",
      "Data columns (total 7 columns):\n",
      "Date         1053 non-null datetime64[ns]\n",
      "Open         1053 non-null float64\n",
      "High         1053 non-null float64\n",
      "Low          1053 non-null float64\n",
      "Close        1053 non-null float64\n",
      "Adj Close    1053 non-null float64\n",
      "Volume       1053 non-null int64\n",
      "dtypes: datetime64[ns](1), float64(5), int64(1)\n",
      "memory usage: 57.7 KB\n"
     ]
    }
   ],
   "source": [
    "spy_data.info()"
   ]
  },
  {
   "cell_type": "code",
   "execution_count": 19,
   "metadata": {},
   "outputs": [
    {
     "data": {
      "text/html": [
       "<div>\n",
       "<style scoped>\n",
       "    .dataframe tbody tr th:only-of-type {\n",
       "        vertical-align: middle;\n",
       "    }\n",
       "\n",
       "    .dataframe tbody tr th {\n",
       "        vertical-align: top;\n",
       "    }\n",
       "\n",
       "    .dataframe thead th {\n",
       "        text-align: right;\n",
       "    }\n",
       "</style>\n",
       "<table border=\"1\" class=\"dataframe\">\n",
       "  <thead>\n",
       "    <tr style=\"text-align: right;\">\n",
       "      <th></th>\n",
       "      <th>Open</th>\n",
       "      <th>High</th>\n",
       "      <th>Low</th>\n",
       "      <th>Close</th>\n",
       "      <th>Adj Close</th>\n",
       "      <th>Volume</th>\n",
       "    </tr>\n",
       "    <tr>\n",
       "      <th>Date</th>\n",
       "      <th></th>\n",
       "      <th></th>\n",
       "      <th></th>\n",
       "      <th></th>\n",
       "      <th></th>\n",
       "      <th></th>\n",
       "    </tr>\n",
       "  </thead>\n",
       "  <tbody>\n",
       "    <tr>\n",
       "      <th>2015-06-15</th>\n",
       "      <td>208.639999</td>\n",
       "      <td>209.449997</td>\n",
       "      <td>207.789993</td>\n",
       "      <td>209.110001</td>\n",
       "      <td>192.159103</td>\n",
       "      <td>124384200</td>\n",
       "    </tr>\n",
       "    <tr>\n",
       "      <th>2015-06-16</th>\n",
       "      <td>208.929993</td>\n",
       "      <td>210.350006</td>\n",
       "      <td>208.720001</td>\n",
       "      <td>210.250000</td>\n",
       "      <td>193.206757</td>\n",
       "      <td>85308200</td>\n",
       "    </tr>\n",
       "    <tr>\n",
       "      <th>2015-06-17</th>\n",
       "      <td>210.589996</td>\n",
       "      <td>211.320007</td>\n",
       "      <td>209.360001</td>\n",
       "      <td>210.589996</td>\n",
       "      <td>193.519150</td>\n",
       "      <td>126708600</td>\n",
       "    </tr>\n",
       "  </tbody>\n",
       "</table>\n",
       "</div>"
      ],
      "text/plain": [
       "                  Open        High         Low       Close   Adj Close  \\\n",
       "Date                                                                     \n",
       "2015-06-15  208.639999  209.449997  207.789993  209.110001  192.159103   \n",
       "2015-06-16  208.929993  210.350006  208.720001  210.250000  193.206757   \n",
       "2015-06-17  210.589996  211.320007  209.360001  210.589996  193.519150   \n",
       "\n",
       "               Volume  \n",
       "Date                   \n",
       "2015-06-15  124384200  \n",
       "2015-06-16   85308200  \n",
       "2015-06-17  126708600  "
      ]
     },
     "execution_count": 19,
     "metadata": {},
     "output_type": "execute_result"
    }
   ],
   "source": [
    "spy_data = spy_data.set_index('Date')\n",
    "spy_data.head(3)"
   ]
  },
  {
   "cell_type": "code",
   "execution_count": 20,
   "metadata": {},
   "outputs": [],
   "source": [
    "spy_data = spy_data.pct_change()"
   ]
  },
  {
   "cell_type": "code",
   "execution_count": 21,
   "metadata": {},
   "outputs": [
    {
     "data": {
      "text/html": [
       "<div>\n",
       "<style scoped>\n",
       "    .dataframe tbody tr th:only-of-type {\n",
       "        vertical-align: middle;\n",
       "    }\n",
       "\n",
       "    .dataframe tbody tr th {\n",
       "        vertical-align: top;\n",
       "    }\n",
       "\n",
       "    .dataframe thead th {\n",
       "        text-align: right;\n",
       "    }\n",
       "</style>\n",
       "<table border=\"1\" class=\"dataframe\">\n",
       "  <thead>\n",
       "    <tr style=\"text-align: right;\">\n",
       "      <th></th>\n",
       "      <th>source</th>\n",
       "      <th>text</th>\n",
       "      <th>created_at</th>\n",
       "      <th>retweet_count</th>\n",
       "      <th>favorite_count</th>\n",
       "      <th>is_retweet</th>\n",
       "      <th>id_str</th>\n",
       "    </tr>\n",
       "    <tr>\n",
       "      <th>day</th>\n",
       "      <th></th>\n",
       "      <th></th>\n",
       "      <th></th>\n",
       "      <th></th>\n",
       "      <th></th>\n",
       "      <th></th>\n",
       "      <th></th>\n",
       "    </tr>\n",
       "  </thead>\n",
       "  <tbody>\n",
       "    <tr>\n",
       "      <th>2015-06-14</th>\n",
       "      <td>Twitter for Android</td>\n",
       "      <td>@mirrorgrrl: Truly Great men come along only o...</td>\n",
       "      <td>2015-06-14 08:16:00</td>\n",
       "      <td>15.0</td>\n",
       "      <td>45.0</td>\n",
       "      <td>False</td>\n",
       "      <td>6.099977e+17</td>\n",
       "    </tr>\n",
       "    <tr>\n",
       "      <th>2015-06-14</th>\n",
       "      <td>Twitter for Android</td>\n",
       "      <td>@FuturisticHub: @realDonaldTrump I'd vote twic...</td>\n",
       "      <td>2015-06-14 21:15:20</td>\n",
       "      <td>56.0</td>\n",
       "      <td>131.0</td>\n",
       "      <td>False</td>\n",
       "      <td>6.101938e+17</td>\n",
       "    </tr>\n",
       "    <tr>\n",
       "      <th>2015-06-14</th>\n",
       "      <td>Twitter for Android</td>\n",
       "      <td>@MikeLongoNYC: @realDonaldTrump Happy Birthday...</td>\n",
       "      <td>2015-06-14 18:02:12</td>\n",
       "      <td>28.0</td>\n",
       "      <td>101.0</td>\n",
       "      <td>False</td>\n",
       "      <td>6.101452e+17</td>\n",
       "    </tr>\n",
       "  </tbody>\n",
       "</table>\n",
       "</div>"
      ],
      "text/plain": [
       "                         source  \\\n",
       "day                               \n",
       "2015-06-14  Twitter for Android   \n",
       "2015-06-14  Twitter for Android   \n",
       "2015-06-14  Twitter for Android   \n",
       "\n",
       "                                                         text  \\\n",
       "day                                                             \n",
       "2015-06-14  @mirrorgrrl: Truly Great men come along only o...   \n",
       "2015-06-14  @FuturisticHub: @realDonaldTrump I'd vote twic...   \n",
       "2015-06-14  @MikeLongoNYC: @realDonaldTrump Happy Birthday...   \n",
       "\n",
       "                    created_at  retweet_count  favorite_count is_retweet  \\\n",
       "day                                                                        \n",
       "2015-06-14 2015-06-14 08:16:00           15.0            45.0      False   \n",
       "2015-06-14 2015-06-14 21:15:20           56.0           131.0      False   \n",
       "2015-06-14 2015-06-14 18:02:12           28.0           101.0      False   \n",
       "\n",
       "                  id_str  \n",
       "day                       \n",
       "2015-06-14  6.099977e+17  \n",
       "2015-06-14  6.101938e+17  \n",
       "2015-06-14  6.101452e+17  "
      ]
     },
     "execution_count": 21,
     "metadata": {},
     "output_type": "execute_result"
    }
   ],
   "source": [
    "trump = trump.set_index('day')\n",
    "trump = trump.sort_values('day', ascending=True)\n",
    "trump.head(3)"
   ]
  },
  {
   "cell_type": "code",
   "execution_count": 22,
   "metadata": {},
   "outputs": [
    {
     "data": {
      "text/plain": [
       "Twitter for iPhone         11316\n",
       "Twitter for Android         4111\n",
       "Twitter Web Client          1189\n",
       "Media Studio                 154\n",
       "Twitter Ads                   97\n",
       "Twitter Media Studio          66\n",
       "Twitter for iPad              57\n",
       "Instagram                     42\n",
       "Twitter for BlackBerry        37\n",
       "Twitter QandA                 10\n",
       "Periscope                      7\n",
       "Twitter Web App                4\n",
       "TweetDeck                      2\n",
       "Mobile Web (M5)                1\n",
       "Twitter Mirror for iPad        1\n",
       "Facebook                       1\n",
       "Name: source, dtype: int64"
      ]
     },
     "execution_count": 22,
     "metadata": {},
     "output_type": "execute_result"
    }
   ],
   "source": [
    "trump['source'].value_counts()"
   ]
  },
  {
   "cell_type": "code",
   "execution_count": 23,
   "metadata": {},
   "outputs": [
    {
     "data": {
      "text/plain": [
       "source             0\n",
       "text               0\n",
       "created_at         1\n",
       "retweet_count      1\n",
       "favorite_count     1\n",
       "is_retweet        59\n",
       "id_str             1\n",
       "dtype: int64"
      ]
     },
     "execution_count": 23,
     "metadata": {},
     "output_type": "execute_result"
    }
   ],
   "source": [
    "trump.isnull().sum()"
   ]
  },
  {
   "cell_type": "code",
   "execution_count": 24,
   "metadata": {},
   "outputs": [],
   "source": [
    "trump.dropna(inplace=True)"
   ]
  },
  {
   "cell_type": "code",
   "execution_count": 25,
   "metadata": {},
   "outputs": [
    {
     "data": {
      "text/plain": [
       "source            0\n",
       "text              0\n",
       "created_at        0\n",
       "retweet_count     0\n",
       "favorite_count    0\n",
       "is_retweet        0\n",
       "id_str            0\n",
       "dtype: int64"
      ]
     },
     "execution_count": 25,
     "metadata": {},
     "output_type": "execute_result"
    }
   ],
   "source": [
    "trump.isnull().sum()"
   ]
  },
  {
   "cell_type": "code",
   "execution_count": 26,
   "metadata": {},
   "outputs": [
    {
     "data": {
      "text/plain": [
       "Open         1\n",
       "High         1\n",
       "Low          1\n",
       "Close        1\n",
       "Adj Close    1\n",
       "Volume       1\n",
       "dtype: int64"
      ]
     },
     "execution_count": 26,
     "metadata": {},
     "output_type": "execute_result"
    }
   ],
   "source": [
    "spy_data.isnull().sum()"
   ]
  },
  {
   "cell_type": "code",
   "execution_count": 27,
   "metadata": {},
   "outputs": [
    {
     "data": {
      "text/plain": [
       "(1053, 6)"
      ]
     },
     "execution_count": 27,
     "metadata": {},
     "output_type": "execute_result"
    }
   ],
   "source": [
    "spy_data.shape"
   ]
  },
  {
   "cell_type": "code",
   "execution_count": 28,
   "metadata": {},
   "outputs": [
    {
     "data": {
      "text/plain": [
       "(17036, 7)"
      ]
     },
     "execution_count": 28,
     "metadata": {},
     "output_type": "execute_result"
    }
   ],
   "source": [
    "trump.shape"
   ]
  },
  {
   "cell_type": "markdown",
   "metadata": {},
   "source": [
    "### Merging data frames together"
   ]
  },
  {
   "cell_type": "code",
   "execution_count": 29,
   "metadata": {},
   "outputs": [
    {
     "data": {
      "text/html": [
       "<div>\n",
       "<style scoped>\n",
       "    .dataframe tbody tr th:only-of-type {\n",
       "        vertical-align: middle;\n",
       "    }\n",
       "\n",
       "    .dataframe tbody tr th {\n",
       "        vertical-align: top;\n",
       "    }\n",
       "\n",
       "    .dataframe thead th {\n",
       "        text-align: right;\n",
       "    }\n",
       "</style>\n",
       "<table border=\"1\" class=\"dataframe\">\n",
       "  <thead>\n",
       "    <tr style=\"text-align: right;\">\n",
       "      <th></th>\n",
       "      <th>Open</th>\n",
       "      <th>High</th>\n",
       "      <th>Low</th>\n",
       "      <th>Close</th>\n",
       "      <th>Adj Close</th>\n",
       "      <th>Volume</th>\n",
       "      <th>source</th>\n",
       "      <th>text</th>\n",
       "      <th>created_at</th>\n",
       "      <th>retweet_count</th>\n",
       "      <th>favorite_count</th>\n",
       "      <th>is_retweet</th>\n",
       "      <th>id_str</th>\n",
       "    </tr>\n",
       "  </thead>\n",
       "  <tbody>\n",
       "    <tr>\n",
       "      <th>2015-06-15</th>\n",
       "      <td>NaN</td>\n",
       "      <td>NaN</td>\n",
       "      <td>NaN</td>\n",
       "      <td>NaN</td>\n",
       "      <td>NaN</td>\n",
       "      <td>NaN</td>\n",
       "      <td>Twitter Web Client</td>\n",
       "      <td>Will do thanks.  https://t.co/5Zc3D8YLNs</td>\n",
       "      <td>2015-06-15 16:33:32</td>\n",
       "      <td>18.0</td>\n",
       "      <td>69.0</td>\n",
       "      <td>False</td>\n",
       "      <td>6.104853e+17</td>\n",
       "    </tr>\n",
       "    <tr>\n",
       "      <th>2015-06-15</th>\n",
       "      <td>NaN</td>\n",
       "      <td>NaN</td>\n",
       "      <td>NaN</td>\n",
       "      <td>NaN</td>\n",
       "      <td>NaN</td>\n",
       "      <td>NaN</td>\n",
       "      <td>Twitter Web Client</td>\n",
       "      <td>Great! https://t.co/8O3eTKjZrd</td>\n",
       "      <td>2015-06-15 16:31:29</td>\n",
       "      <td>31.0</td>\n",
       "      <td>73.0</td>\n",
       "      <td>False</td>\n",
       "      <td>6.104848e+17</td>\n",
       "    </tr>\n",
       "    <tr>\n",
       "      <th>2015-06-15</th>\n",
       "      <td>NaN</td>\n",
       "      <td>NaN</td>\n",
       "      <td>NaN</td>\n",
       "      <td>NaN</td>\n",
       "      <td>NaN</td>\n",
       "      <td>NaN</td>\n",
       "      <td>Twitter Web Client</td>\n",
       "      <td>Thanks.  https://t.co/qh8TxiZPlX</td>\n",
       "      <td>2015-06-15 16:30:03</td>\n",
       "      <td>31.0</td>\n",
       "      <td>79.0</td>\n",
       "      <td>False</td>\n",
       "      <td>6.104844e+17</td>\n",
       "    </tr>\n",
       "    <tr>\n",
       "      <th>2015-06-15</th>\n",
       "      <td>NaN</td>\n",
       "      <td>NaN</td>\n",
       "      <td>NaN</td>\n",
       "      <td>NaN</td>\n",
       "      <td>NaN</td>\n",
       "      <td>NaN</td>\n",
       "      <td>Periscope</td>\n",
       "      <td>LIVE on #Periscope https://t.co/H8lRtZBGEb</td>\n",
       "      <td>2015-06-15 14:55:16</td>\n",
       "      <td>21.0</td>\n",
       "      <td>53.0</td>\n",
       "      <td>False</td>\n",
       "      <td>6.104606e+17</td>\n",
       "    </tr>\n",
       "    <tr>\n",
       "      <th>2015-06-15</th>\n",
       "      <td>NaN</td>\n",
       "      <td>NaN</td>\n",
       "      <td>NaN</td>\n",
       "      <td>NaN</td>\n",
       "      <td>NaN</td>\n",
       "      <td>NaN</td>\n",
       "      <td>Twitter for Android</td>\n",
       "      <td>@realJoeMurray: Hopefully tomorrow is the day ...</td>\n",
       "      <td>2015-06-15 16:36:47</td>\n",
       "      <td>36.0</td>\n",
       "      <td>60.0</td>\n",
       "      <td>False</td>\n",
       "      <td>6.104861e+17</td>\n",
       "    </tr>\n",
       "  </tbody>\n",
       "</table>\n",
       "</div>"
      ],
      "text/plain": [
       "            Open  High  Low  Close  Adj Close  Volume               source  \\\n",
       "2015-06-15   NaN   NaN  NaN    NaN        NaN     NaN   Twitter Web Client   \n",
       "2015-06-15   NaN   NaN  NaN    NaN        NaN     NaN   Twitter Web Client   \n",
       "2015-06-15   NaN   NaN  NaN    NaN        NaN     NaN   Twitter Web Client   \n",
       "2015-06-15   NaN   NaN  NaN    NaN        NaN     NaN            Periscope   \n",
       "2015-06-15   NaN   NaN  NaN    NaN        NaN     NaN  Twitter for Android   \n",
       "\n",
       "                                                         text  \\\n",
       "2015-06-15           Will do thanks.  https://t.co/5Zc3D8YLNs   \n",
       "2015-06-15                     Great! https://t.co/8O3eTKjZrd   \n",
       "2015-06-15                   Thanks.  https://t.co/qh8TxiZPlX   \n",
       "2015-06-15         LIVE on #Periscope https://t.co/H8lRtZBGEb   \n",
       "2015-06-15  @realJoeMurray: Hopefully tomorrow is the day ...   \n",
       "\n",
       "                    created_at  retweet_count  favorite_count is_retweet  \\\n",
       "2015-06-15 2015-06-15 16:33:32           18.0            69.0      False   \n",
       "2015-06-15 2015-06-15 16:31:29           31.0            73.0      False   \n",
       "2015-06-15 2015-06-15 16:30:03           31.0            79.0      False   \n",
       "2015-06-15 2015-06-15 14:55:16           21.0            53.0      False   \n",
       "2015-06-15 2015-06-15 16:36:47           36.0            60.0      False   \n",
       "\n",
       "                  id_str  \n",
       "2015-06-15  6.104853e+17  \n",
       "2015-06-15  6.104848e+17  \n",
       "2015-06-15  6.104844e+17  \n",
       "2015-06-15  6.104606e+17  \n",
       "2015-06-15  6.104861e+17  "
      ]
     },
     "execution_count": 29,
     "metadata": {},
     "output_type": "execute_result"
    }
   ],
   "source": [
    "df = pd.merge(spy_data, trump, how='left', left_index=True, right_index=True)\n",
    "df.head(5)"
   ]
  },
  {
   "cell_type": "code",
   "execution_count": 30,
   "metadata": {},
   "outputs": [
    {
     "data": {
      "text/plain": [
       "(12154, 13)"
      ]
     },
     "execution_count": 30,
     "metadata": {},
     "output_type": "execute_result"
    }
   ],
   "source": [
    "df.shape"
   ]
  },
  {
   "cell_type": "code",
   "execution_count": 31,
   "metadata": {},
   "outputs": [
    {
     "data": {
      "text/plain": [
       "Twitter for iPhone         8079\n",
       "Twitter for Android        2506\n",
       "Twitter Web Client         1146\n",
       "Media Studio                131\n",
       "Twitter Ads                  85\n",
       "Twitter Media Studio         63\n",
       "Twitter for iPad             46\n",
       "Instagram                    36\n",
       "Twitter for BlackBerry       18\n",
       "Twitter QandA                10\n",
       "Periscope                     6\n",
       "Twitter Web App               4\n",
       "TweetDeck                     2\n",
       "Twitter Mirror for iPad       1\n",
       "Facebook                      1\n",
       "Name: source, dtype: int64"
      ]
     },
     "execution_count": 31,
     "metadata": {},
     "output_type": "execute_result"
    }
   ],
   "source": [
    "df['source'].value_counts()"
   ]
  },
  {
   "cell_type": "markdown",
   "metadata": {},
   "source": [
    "### Grabbing the columns that I want for the final dataframe"
   ]
  },
  {
   "cell_type": "code",
   "execution_count": 32,
   "metadata": {},
   "outputs": [
    {
     "data": {
      "text/html": [
       "<div>\n",
       "<style scoped>\n",
       "    .dataframe tbody tr th:only-of-type {\n",
       "        vertical-align: middle;\n",
       "    }\n",
       "\n",
       "    .dataframe tbody tr th {\n",
       "        vertical-align: top;\n",
       "    }\n",
       "\n",
       "    .dataframe thead th {\n",
       "        text-align: right;\n",
       "    }\n",
       "</style>\n",
       "<table border=\"1\" class=\"dataframe\">\n",
       "  <thead>\n",
       "    <tr style=\"text-align: right;\">\n",
       "      <th></th>\n",
       "      <th>Open</th>\n",
       "      <th>High</th>\n",
       "      <th>Low</th>\n",
       "      <th>Close</th>\n",
       "      <th>Volume</th>\n",
       "      <th>text</th>\n",
       "      <th>retweet_count</th>\n",
       "      <th>favorite_count</th>\n",
       "    </tr>\n",
       "  </thead>\n",
       "  <tbody>\n",
       "    <tr>\n",
       "      <th>2015-06-15</th>\n",
       "      <td>NaN</td>\n",
       "      <td>NaN</td>\n",
       "      <td>NaN</td>\n",
       "      <td>NaN</td>\n",
       "      <td>NaN</td>\n",
       "      <td>Will do thanks.  https://t.co/5Zc3D8YLNs</td>\n",
       "      <td>18.0</td>\n",
       "      <td>69.0</td>\n",
       "    </tr>\n",
       "    <tr>\n",
       "      <th>2015-06-15</th>\n",
       "      <td>NaN</td>\n",
       "      <td>NaN</td>\n",
       "      <td>NaN</td>\n",
       "      <td>NaN</td>\n",
       "      <td>NaN</td>\n",
       "      <td>Great! https://t.co/8O3eTKjZrd</td>\n",
       "      <td>31.0</td>\n",
       "      <td>73.0</td>\n",
       "    </tr>\n",
       "    <tr>\n",
       "      <th>2015-06-15</th>\n",
       "      <td>NaN</td>\n",
       "      <td>NaN</td>\n",
       "      <td>NaN</td>\n",
       "      <td>NaN</td>\n",
       "      <td>NaN</td>\n",
       "      <td>Thanks.  https://t.co/qh8TxiZPlX</td>\n",
       "      <td>31.0</td>\n",
       "      <td>79.0</td>\n",
       "    </tr>\n",
       "    <tr>\n",
       "      <th>2015-06-15</th>\n",
       "      <td>NaN</td>\n",
       "      <td>NaN</td>\n",
       "      <td>NaN</td>\n",
       "      <td>NaN</td>\n",
       "      <td>NaN</td>\n",
       "      <td>LIVE on #Periscope https://t.co/H8lRtZBGEb</td>\n",
       "      <td>21.0</td>\n",
       "      <td>53.0</td>\n",
       "    </tr>\n",
       "    <tr>\n",
       "      <th>2015-06-15</th>\n",
       "      <td>NaN</td>\n",
       "      <td>NaN</td>\n",
       "      <td>NaN</td>\n",
       "      <td>NaN</td>\n",
       "      <td>NaN</td>\n",
       "      <td>@realJoeMurray: Hopefully tomorrow is the day ...</td>\n",
       "      <td>36.0</td>\n",
       "      <td>60.0</td>\n",
       "    </tr>\n",
       "  </tbody>\n",
       "</table>\n",
       "</div>"
      ],
      "text/plain": [
       "            Open  High  Low  Close  Volume  \\\n",
       "2015-06-15   NaN   NaN  NaN    NaN     NaN   \n",
       "2015-06-15   NaN   NaN  NaN    NaN     NaN   \n",
       "2015-06-15   NaN   NaN  NaN    NaN     NaN   \n",
       "2015-06-15   NaN   NaN  NaN    NaN     NaN   \n",
       "2015-06-15   NaN   NaN  NaN    NaN     NaN   \n",
       "\n",
       "                                                         text  retweet_count  \\\n",
       "2015-06-15           Will do thanks.  https://t.co/5Zc3D8YLNs           18.0   \n",
       "2015-06-15                     Great! https://t.co/8O3eTKjZrd           31.0   \n",
       "2015-06-15                   Thanks.  https://t.co/qh8TxiZPlX           31.0   \n",
       "2015-06-15         LIVE on #Periscope https://t.co/H8lRtZBGEb           21.0   \n",
       "2015-06-15  @realJoeMurray: Hopefully tomorrow is the day ...           36.0   \n",
       "\n",
       "            favorite_count  \n",
       "2015-06-15            69.0  \n",
       "2015-06-15            73.0  \n",
       "2015-06-15            79.0  \n",
       "2015-06-15            53.0  \n",
       "2015-06-15            60.0  "
      ]
     },
     "execution_count": 32,
     "metadata": {},
     "output_type": "execute_result"
    }
   ],
   "source": [
    "clean_df = df[['Open', 'High','Low', 'Close', 'Volume', 'text', 'retweet_count', 'favorite_count']]\n",
    "clean_df.head(5)"
   ]
  },
  {
   "cell_type": "code",
   "execution_count": 33,
   "metadata": {},
   "outputs": [
    {
     "data": {
      "text/plain": [
       "2015-06-15                       Great! https://t.co/8O3eTKjZrd\n",
       "2015-06-15                     Thanks.  https://t.co/qh8TxiZPlX\n",
       "2015-06-15           LIVE on #Periscope https://t.co/H8lRtZBGEb\n",
       "2015-06-15    @realJoeMurray: Hopefully tomorrow is the day ...\n",
       "2015-06-15    @Subdoc101:Trump said on @foxandfriends today ...\n",
       "2015-06-15    @ZStr8Up: After the liberal 60's and 70's how ...\n",
       "2015-06-15    @fyrftr211: @realDonaldTrump #Trump2016. Time ...\n",
       "2015-06-15    @MediciMario: @realDonaldTrump Pls run u would...\n",
       "2015-06-15    Tomorrow at 11AM #MakeAmericaGreatAgain https:...\n",
       "2015-06-16    It is almost time. I will be making a major an...\n",
       "2015-06-16    Today I officially declared my candidacy for P...\n",
       "2015-06-16                 Thanks Eric. https://t.co/phUbaTvq8d\n",
       "2015-06-16       #MakeAmericaGreatAgain https://t.co/JguVmqXqWA\n",
       "2015-06-16    LIVE on #Periscope: Major announcement! #MakeA...\n",
       "2015-06-16    Thanks Geraldo you're a champion. https://t.co...\n",
       "2015-06-16    11AM #MakeAmericaGreatAgain https://t.co/445bO...\n",
       "2015-06-16    Make sure to follow me on @periscopeco. I will...\n",
       "2015-06-16    In one hour I will be making a major announcem...\n",
       "2015-06-16    Make sure to follow me on @periscopeco #MakeAm...\n",
       "2015-06-16    @AppSame We are going to listen @realDonaldTru...\n",
       "2015-06-16    I am officially running for President of the U...\n",
       "2015-06-16    @Desheay: @realDonaldTrump Your twitter banner...\n",
       "2015-06-16    @premuse: @realDonaldTrump Let's take this cou...\n",
       "2015-06-16    @Jarod_Pitmon10: I am a full supporter of #Tru...\n",
       "Name: text, dtype: object"
      ]
     },
     "execution_count": 33,
     "metadata": {},
     "output_type": "execute_result"
    }
   ],
   "source": [
    "clean_df['text'][1:25]"
   ]
  },
  {
   "cell_type": "code",
   "execution_count": 34,
   "metadata": {},
   "outputs": [
    {
     "data": {
      "text/plain": [
       "pandas.core.indexes.datetimes.DatetimeIndex"
      ]
     },
     "execution_count": 34,
     "metadata": {},
     "output_type": "execute_result"
    }
   ],
   "source": [
    "type(clean_df.index)"
   ]
  },
  {
   "cell_type": "code",
   "execution_count": 35,
   "metadata": {},
   "outputs": [
    {
     "data": {
      "text/html": [
       "<div>\n",
       "<style scoped>\n",
       "    .dataframe tbody tr th:only-of-type {\n",
       "        vertical-align: middle;\n",
       "    }\n",
       "\n",
       "    .dataframe tbody tr th {\n",
       "        vertical-align: top;\n",
       "    }\n",
       "\n",
       "    .dataframe thead th {\n",
       "        text-align: right;\n",
       "    }\n",
       "</style>\n",
       "<table border=\"1\" class=\"dataframe\">\n",
       "  <thead>\n",
       "    <tr style=\"text-align: right;\">\n",
       "      <th></th>\n",
       "      <th>Open</th>\n",
       "      <th>High</th>\n",
       "      <th>Low</th>\n",
       "      <th>Close</th>\n",
       "      <th>Volume</th>\n",
       "      <th>text</th>\n",
       "      <th>retweet_count</th>\n",
       "      <th>favorite_count</th>\n",
       "    </tr>\n",
       "  </thead>\n",
       "  <tbody>\n",
       "    <tr>\n",
       "      <th>2015-06-15</th>\n",
       "      <td>NaN</td>\n",
       "      <td>NaN</td>\n",
       "      <td>NaN</td>\n",
       "      <td>NaN</td>\n",
       "      <td>NaN</td>\n",
       "      <td>Will do thanks.  https://t.co/5Zc3D8YLNs</td>\n",
       "      <td>18.0</td>\n",
       "      <td>69.0</td>\n",
       "    </tr>\n",
       "    <tr>\n",
       "      <th>2015-06-15</th>\n",
       "      <td>NaN</td>\n",
       "      <td>NaN</td>\n",
       "      <td>NaN</td>\n",
       "      <td>NaN</td>\n",
       "      <td>NaN</td>\n",
       "      <td>Great! https://t.co/8O3eTKjZrd</td>\n",
       "      <td>31.0</td>\n",
       "      <td>73.0</td>\n",
       "    </tr>\n",
       "    <tr>\n",
       "      <th>2015-06-15</th>\n",
       "      <td>NaN</td>\n",
       "      <td>NaN</td>\n",
       "      <td>NaN</td>\n",
       "      <td>NaN</td>\n",
       "      <td>NaN</td>\n",
       "      <td>Thanks.  https://t.co/qh8TxiZPlX</td>\n",
       "      <td>31.0</td>\n",
       "      <td>79.0</td>\n",
       "    </tr>\n",
       "    <tr>\n",
       "      <th>2015-06-15</th>\n",
       "      <td>NaN</td>\n",
       "      <td>NaN</td>\n",
       "      <td>NaN</td>\n",
       "      <td>NaN</td>\n",
       "      <td>NaN</td>\n",
       "      <td>LIVE on #Periscope https://t.co/H8lRtZBGEb</td>\n",
       "      <td>21.0</td>\n",
       "      <td>53.0</td>\n",
       "    </tr>\n",
       "    <tr>\n",
       "      <th>2015-06-15</th>\n",
       "      <td>NaN</td>\n",
       "      <td>NaN</td>\n",
       "      <td>NaN</td>\n",
       "      <td>NaN</td>\n",
       "      <td>NaN</td>\n",
       "      <td>@realJoeMurray: Hopefully tomorrow is the day ...</td>\n",
       "      <td>36.0</td>\n",
       "      <td>60.0</td>\n",
       "    </tr>\n",
       "  </tbody>\n",
       "</table>\n",
       "</div>"
      ],
      "text/plain": [
       "            Open  High  Low  Close  Volume  \\\n",
       "2015-06-15   NaN   NaN  NaN    NaN     NaN   \n",
       "2015-06-15   NaN   NaN  NaN    NaN     NaN   \n",
       "2015-06-15   NaN   NaN  NaN    NaN     NaN   \n",
       "2015-06-15   NaN   NaN  NaN    NaN     NaN   \n",
       "2015-06-15   NaN   NaN  NaN    NaN     NaN   \n",
       "\n",
       "                                                         text  retweet_count  \\\n",
       "2015-06-15           Will do thanks.  https://t.co/5Zc3D8YLNs           18.0   \n",
       "2015-06-15                     Great! https://t.co/8O3eTKjZrd           31.0   \n",
       "2015-06-15                   Thanks.  https://t.co/qh8TxiZPlX           31.0   \n",
       "2015-06-15         LIVE on #Periscope https://t.co/H8lRtZBGEb           21.0   \n",
       "2015-06-15  @realJoeMurray: Hopefully tomorrow is the day ...           36.0   \n",
       "\n",
       "            favorite_count  \n",
       "2015-06-15            69.0  \n",
       "2015-06-15            73.0  \n",
       "2015-06-15            79.0  \n",
       "2015-06-15            53.0  \n",
       "2015-06-15            60.0  "
      ]
     },
     "execution_count": 35,
     "metadata": {},
     "output_type": "execute_result"
    }
   ],
   "source": [
    "clean_df.head()"
   ]
  },
  {
   "cell_type": "markdown",
   "metadata": {},
   "source": [
    "### Taking the multiple texts from each day and summing them together so they are all together on same day"
   ]
  },
  {
   "cell_type": "code",
   "execution_count": 36,
   "metadata": {},
   "outputs": [
    {
     "data": {
      "text/html": [
       "<div>\n",
       "<style scoped>\n",
       "    .dataframe tbody tr th:only-of-type {\n",
       "        vertical-align: middle;\n",
       "    }\n",
       "\n",
       "    .dataframe tbody tr th {\n",
       "        vertical-align: top;\n",
       "    }\n",
       "\n",
       "    .dataframe thead th {\n",
       "        text-align: right;\n",
       "    }\n",
       "</style>\n",
       "<table border=\"1\" class=\"dataframe\">\n",
       "  <thead>\n",
       "    <tr style=\"text-align: right;\">\n",
       "      <th></th>\n",
       "      <th>text</th>\n",
       "    </tr>\n",
       "  </thead>\n",
       "  <tbody>\n",
       "    <tr>\n",
       "      <th>2015-06-15</th>\n",
       "      <td>Will do thanks.  https://t.co/5Zc3D8YLNsGreat!...</td>\n",
       "    </tr>\n",
       "    <tr>\n",
       "      <th>2015-06-16</th>\n",
       "      <td>It is almost time. I will be making a major an...</td>\n",
       "    </tr>\n",
       "    <tr>\n",
       "      <th>2015-06-17</th>\n",
       "      <td>Speaking to great patriots @MCC_CT. My first v...</td>\n",
       "    </tr>\n",
       "  </tbody>\n",
       "</table>\n",
       "</div>"
      ],
      "text/plain": [
       "                                                         text\n",
       "2015-06-15  Will do thanks.  https://t.co/5Zc3D8YLNsGreat!...\n",
       "2015-06-16  It is almost time. I will be making a major an...\n",
       "2015-06-17  Speaking to great patriots @MCC_CT. My first v..."
      ]
     },
     "execution_count": 36,
     "metadata": {},
     "output_type": "execute_result"
    }
   ],
   "source": [
    "agg_data = pd.DataFrame(clean_df.groupby(clean_df.index)['text'].sum())\n",
    "agg_data.head(3)"
   ]
  },
  {
   "cell_type": "markdown",
   "metadata": {},
   "source": [
    "### Going to add back in all of the other numerical data to summed up text data"
   ]
  },
  {
   "cell_type": "code",
   "execution_count": 37,
   "metadata": {},
   "outputs": [
    {
     "data": {
      "text/html": [
       "<div>\n",
       "<style scoped>\n",
       "    .dataframe tbody tr th:only-of-type {\n",
       "        vertical-align: middle;\n",
       "    }\n",
       "\n",
       "    .dataframe tbody tr th {\n",
       "        vertical-align: top;\n",
       "    }\n",
       "\n",
       "    .dataframe thead th {\n",
       "        text-align: right;\n",
       "    }\n",
       "</style>\n",
       "<table border=\"1\" class=\"dataframe\">\n",
       "  <thead>\n",
       "    <tr style=\"text-align: right;\">\n",
       "      <th></th>\n",
       "      <th>text</th>\n",
       "      <th>Open</th>\n",
       "    </tr>\n",
       "  </thead>\n",
       "  <tbody>\n",
       "    <tr>\n",
       "      <th>2015-06-15</th>\n",
       "      <td>Will do thanks.  https://t.co/5Zc3D8YLNsGreat!...</td>\n",
       "      <td>NaN</td>\n",
       "    </tr>\n",
       "    <tr>\n",
       "      <th>2015-06-16</th>\n",
       "      <td>It is almost time. I will be making a major an...</td>\n",
       "      <td>0.001390</td>\n",
       "    </tr>\n",
       "    <tr>\n",
       "      <th>2015-06-17</th>\n",
       "      <td>Speaking to great patriots @MCC_CT. My first v...</td>\n",
       "      <td>0.007945</td>\n",
       "    </tr>\n",
       "    <tr>\n",
       "      <th>2015-06-18</th>\n",
       "      <td>@JustinBorges1 Trump 4 president...has a nice ...</td>\n",
       "      <td>0.003419</td>\n",
       "    </tr>\n",
       "    <tr>\n",
       "      <th>2015-06-19</th>\n",
       "      <td>George Will was a big Iraq fool.  $2 trillion ...</td>\n",
       "      <td>0.000710</td>\n",
       "    </tr>\n",
       "  </tbody>\n",
       "</table>\n",
       "</div>"
      ],
      "text/plain": [
       "                                                         text      Open\n",
       "2015-06-15  Will do thanks.  https://t.co/5Zc3D8YLNsGreat!...       NaN\n",
       "2015-06-16  It is almost time. I will be making a major an...  0.001390\n",
       "2015-06-17  Speaking to great patriots @MCC_CT. My first v...  0.007945\n",
       "2015-06-18  @JustinBorges1 Trump 4 president...has a nice ...  0.003419\n",
       "2015-06-19  George Will was a big Iraq fool.  $2 trillion ...  0.000710"
      ]
     },
     "execution_count": 37,
     "metadata": {},
     "output_type": "execute_result"
    }
   ],
   "source": [
    "agg_data['Open'] = clean_df.groupby(clean_df.index)['Open'].mean()\n",
    "agg_data.head(5)"
   ]
  },
  {
   "cell_type": "code",
   "execution_count": 38,
   "metadata": {},
   "outputs": [
    {
     "data": {
      "text/html": [
       "<div>\n",
       "<style scoped>\n",
       "    .dataframe tbody tr th:only-of-type {\n",
       "        vertical-align: middle;\n",
       "    }\n",
       "\n",
       "    .dataframe tbody tr th {\n",
       "        vertical-align: top;\n",
       "    }\n",
       "\n",
       "    .dataframe thead th {\n",
       "        text-align: right;\n",
       "    }\n",
       "</style>\n",
       "<table border=\"1\" class=\"dataframe\">\n",
       "  <thead>\n",
       "    <tr style=\"text-align: right;\">\n",
       "      <th></th>\n",
       "      <th>text</th>\n",
       "      <th>Open</th>\n",
       "      <th>High</th>\n",
       "      <th>Low</th>\n",
       "      <th>Close</th>\n",
       "      <th>Volume</th>\n",
       "      <th>retweet_count</th>\n",
       "      <th>favorite_count</th>\n",
       "    </tr>\n",
       "  </thead>\n",
       "  <tbody>\n",
       "    <tr>\n",
       "      <th>2015-06-15</th>\n",
       "      <td>Will do thanks.  https://t.co/5Zc3D8YLNsGreat!...</td>\n",
       "      <td>NaN</td>\n",
       "      <td>NaN</td>\n",
       "      <td>NaN</td>\n",
       "      <td>NaN</td>\n",
       "      <td>NaN</td>\n",
       "      <td>384.0</td>\n",
       "      <td>782.0</td>\n",
       "    </tr>\n",
       "    <tr>\n",
       "      <th>2015-06-16</th>\n",
       "      <td>It is almost time. I will be making a major an...</td>\n",
       "      <td>0.001390</td>\n",
       "      <td>0.004297</td>\n",
       "      <td>0.004476</td>\n",
       "      <td>0.005452</td>\n",
       "      <td>-0.314156</td>\n",
       "      <td>20935.0</td>\n",
       "      <td>26674.0</td>\n",
       "    </tr>\n",
       "    <tr>\n",
       "      <th>2015-06-17</th>\n",
       "      <td>Speaking to great patriots @MCC_CT. My first v...</td>\n",
       "      <td>0.007945</td>\n",
       "      <td>0.004611</td>\n",
       "      <td>0.003066</td>\n",
       "      <td>0.001617</td>\n",
       "      <td>0.485304</td>\n",
       "      <td>2515.0</td>\n",
       "      <td>6304.0</td>\n",
       "    </tr>\n",
       "    <tr>\n",
       "      <th>2015-06-18</th>\n",
       "      <td>@JustinBorges1 Trump 4 president...has a nice ...</td>\n",
       "      <td>0.003419</td>\n",
       "      <td>0.009559</td>\n",
       "      <td>0.006066</td>\n",
       "      <td>0.010399</td>\n",
       "      <td>0.309050</td>\n",
       "      <td>937.0</td>\n",
       "      <td>2388.0</td>\n",
       "    </tr>\n",
       "    <tr>\n",
       "      <th>2015-06-19</th>\n",
       "      <td>George Will was a big Iraq fool.  $2 trillion ...</td>\n",
       "      <td>0.000710</td>\n",
       "      <td>-0.008390</td>\n",
       "      <td>-0.001282</td>\n",
       "      <td>-0.009258</td>\n",
       "      <td>-0.213358</td>\n",
       "      <td>5348.0</td>\n",
       "      <td>9723.0</td>\n",
       "    </tr>\n",
       "  </tbody>\n",
       "</table>\n",
       "</div>"
      ],
      "text/plain": [
       "                                                         text      Open  \\\n",
       "2015-06-15  Will do thanks.  https://t.co/5Zc3D8YLNsGreat!...       NaN   \n",
       "2015-06-16  It is almost time. I will be making a major an...  0.001390   \n",
       "2015-06-17  Speaking to great patriots @MCC_CT. My first v...  0.007945   \n",
       "2015-06-18  @JustinBorges1 Trump 4 president...has a nice ...  0.003419   \n",
       "2015-06-19  George Will was a big Iraq fool.  $2 trillion ...  0.000710   \n",
       "\n",
       "                High       Low     Close    Volume  retweet_count  \\\n",
       "2015-06-15       NaN       NaN       NaN       NaN          384.0   \n",
       "2015-06-16  0.004297  0.004476  0.005452 -0.314156        20935.0   \n",
       "2015-06-17  0.004611  0.003066  0.001617  0.485304         2515.0   \n",
       "2015-06-18  0.009559  0.006066  0.010399  0.309050          937.0   \n",
       "2015-06-19 -0.008390 -0.001282 -0.009258 -0.213358         5348.0   \n",
       "\n",
       "            favorite_count  \n",
       "2015-06-15           782.0  \n",
       "2015-06-16         26674.0  \n",
       "2015-06-17          6304.0  \n",
       "2015-06-18          2388.0  \n",
       "2015-06-19          9723.0  "
      ]
     },
     "execution_count": 38,
     "metadata": {},
     "output_type": "execute_result"
    }
   ],
   "source": [
    "agg_data['High'] = clean_df.groupby(clean_df.index)['High'].mean()\n",
    "agg_data['Low'] = clean_df.groupby(clean_df.index)['Low'].mean()\n",
    "agg_data['Close'] = clean_df.groupby(clean_df.index)['Close'].mean()\n",
    "agg_data['Volume'] = clean_df.groupby(clean_df.index)['Volume'].mean()\n",
    "agg_data['retweet_count'] = clean_df.groupby(clean_df.index)['retweet_count'].sum()\n",
    "agg_data['favorite_count'] = clean_df.groupby(clean_df.index)['favorite_count'].sum()\n",
    "agg_data.head(5)"
   ]
  },
  {
   "cell_type": "code",
   "execution_count": 39,
   "metadata": {},
   "outputs": [
    {
     "data": {
      "text/plain": [
       "(1053, 8)"
      ]
     },
     "execution_count": 39,
     "metadata": {},
     "output_type": "execute_result"
    }
   ],
   "source": [
    "agg_data.shape"
   ]
  },
  {
   "cell_type": "markdown",
   "metadata": {},
   "source": [
    "### Now time to use VADER for Sentiment Analysis\n",
    "(Valence Aware Dictionary and sEntiment Analysis)"
   ]
  },
  {
   "cell_type": "code",
   "execution_count": 40,
   "metadata": {},
   "outputs": [
    {
     "data": {
      "text/plain": [
       "'Will do thanks.  https://t.co/5Zc3D8YLNsGreat! https://t.co/8O3eTKjZrdThanks.  https://t.co/qh8TxiZPlXLIVE on #Periscope https://t.co/H8lRtZBGEb@realJoeMurray: Hopefully tomorrow is the day we start to make America great again! Looking forward to it @realDonaldTrump. #Trump2016,06-16-2015 07:04:03,35,75,false,610704372415229952\\nInstagram,Do we really need another Bush in the White House--- we have had enough of them. https://t.co/sbUVyBG6KE,06-15-2015 19:12:57,251,353,false,610525417175425024\\nTwitter Web Client,Great! https://t.co/U7G3tR4nFS,06-15-2015 16:43:56,37,132,false,610487918478671873\\nTwitter Web Client,Thanks.  https://t.co/feCMQ53SwE,06-15-2015 16:42:47,28,92,false,610487629952491520\\nTwitter Web Client,@DurandSentinus @JebBush may get headlines today but @realDonaldTrump will dominate news for week regardless of his announcement tomorrow\"@Subdoc101:Trump said on @foxandfriends today PPL are asking why would anyone give up his lifestyle to be #POTUS. The answer is #TRUMPCARES,06-15-2015 11:51:49,73,131,false,610414404157501440\\nTwitter for Android,@LooneyTunes002: Politicians are not going to get us out of this mess. They are all talk. #SimpleTruth #MakeAmericaGreatAgain\"@ZStr8Up: After the liberal 60\\'s and 70\\'s how did we end up with Reagan? Hollywood. The Donald may have a serious chance. @realDonaldTrump@fyrftr211: @realDonaldTrump #Trump2016. Time for a true leader to lead our great country!@MediciMario: @realDonaldTrump Pls run u would be great!Tomorrow at 11AM #MakeAmericaGreatAgain https://t.co/pDMndTOVvc'"
      ]
     },
     "execution_count": 40,
     "metadata": {},
     "output_type": "execute_result"
    }
   ],
   "source": [
    "corpus = list(agg_data['text'])\n",
    "corpus[0]"
   ]
  },
  {
   "cell_type": "code",
   "execution_count": 41,
   "metadata": {},
   "outputs": [
    {
     "name": "stderr",
     "output_type": "stream",
     "text": [
      "[nltk_data] Downloading package vader_lexicon to\n",
      "[nltk_data]     /Users/alexbell/nltk_data...\n",
      "[nltk_data]   Package vader_lexicon is already up-to-date!\n"
     ]
    },
    {
     "data": {
      "text/plain": [
       "True"
      ]
     },
     "execution_count": 41,
     "metadata": {},
     "output_type": "execute_result"
    }
   ],
   "source": [
    "import nltk\n",
    "nltk.download('vader_lexicon')"
   ]
  },
  {
   "cell_type": "code",
   "execution_count": 42,
   "metadata": {},
   "outputs": [
    {
     "data": {
      "text/plain": [
       "{'neg': 0.039, 'neu': 0.843, 'pos': 0.117, 'compound': 0.9301}"
      ]
     },
     "execution_count": 42,
     "metadata": {},
     "output_type": "execute_result"
    }
   ],
   "source": [
    "#instantiate SIA\n",
    "sia = SentimentIntensityAnalyzer()\n",
    "\n",
    "#Get polarity scores for the first tweet\n",
    "sia.polarity_scores(corpus[0])"
   ]
  },
  {
   "cell_type": "code",
   "execution_count": 43,
   "metadata": {},
   "outputs": [
    {
     "data": {
      "text/html": [
       "<div>\n",
       "<style scoped>\n",
       "    .dataframe tbody tr th:only-of-type {\n",
       "        vertical-align: middle;\n",
       "    }\n",
       "\n",
       "    .dataframe tbody tr th {\n",
       "        vertical-align: top;\n",
       "    }\n",
       "\n",
       "    .dataframe thead th {\n",
       "        text-align: right;\n",
       "    }\n",
       "</style>\n",
       "<table border=\"1\" class=\"dataframe\">\n",
       "  <thead>\n",
       "    <tr style=\"text-align: right;\">\n",
       "      <th></th>\n",
       "      <th>compound</th>\n",
       "      <th>neg</th>\n",
       "      <th>neu</th>\n",
       "      <th>pos</th>\n",
       "      <th>text</th>\n",
       "    </tr>\n",
       "  </thead>\n",
       "  <tbody>\n",
       "    <tr>\n",
       "      <th>0</th>\n",
       "      <td>0.9301</td>\n",
       "      <td>0.039</td>\n",
       "      <td>0.843</td>\n",
       "      <td>0.117</td>\n",
       "      <td>Will do thanks.  https://t.co/5Zc3D8YLNsGreat!...</td>\n",
       "    </tr>\n",
       "    <tr>\n",
       "      <th>1</th>\n",
       "      <td>0.9979</td>\n",
       "      <td>0.036</td>\n",
       "      <td>0.729</td>\n",
       "      <td>0.234</td>\n",
       "      <td>It is almost time. I will be making a major an...</td>\n",
       "    </tr>\n",
       "    <tr>\n",
       "      <th>2</th>\n",
       "      <td>0.9862</td>\n",
       "      <td>0.043</td>\n",
       "      <td>0.732</td>\n",
       "      <td>0.224</td>\n",
       "      <td>Speaking to great patriots @MCC_CT. My first v...</td>\n",
       "    </tr>\n",
       "    <tr>\n",
       "      <th>3</th>\n",
       "      <td>0.7712</td>\n",
       "      <td>0.050</td>\n",
       "      <td>0.823</td>\n",
       "      <td>0.127</td>\n",
       "      <td>@JustinBorges1 Trump 4 president...has a nice ...</td>\n",
       "    </tr>\n",
       "    <tr>\n",
       "      <th>4</th>\n",
       "      <td>0.9851</td>\n",
       "      <td>0.097</td>\n",
       "      <td>0.758</td>\n",
       "      <td>0.145</td>\n",
       "      <td>George Will was a big Iraq fool.  $2 trillion ...</td>\n",
       "    </tr>\n",
       "  </tbody>\n",
       "</table>\n",
       "</div>"
      ],
      "text/plain": [
       "   compound    neg    neu    pos  \\\n",
       "0    0.9301  0.039  0.843  0.117   \n",
       "1    0.9979  0.036  0.729  0.234   \n",
       "2    0.9862  0.043  0.732  0.224   \n",
       "3    0.7712  0.050  0.823  0.127   \n",
       "4    0.9851  0.097  0.758  0.145   \n",
       "\n",
       "                                                text  \n",
       "0  Will do thanks.  https://t.co/5Zc3D8YLNsGreat!...  \n",
       "1  It is almost time. I will be making a major an...  \n",
       "2  Speaking to great patriots @MCC_CT. My first v...  \n",
       "3  @JustinBorges1 Trump 4 president...has a nice ...  \n",
       "4  George Will was a big Iraq fool.  $2 trillion ...  "
      ]
     },
     "execution_count": 43,
     "metadata": {},
     "output_type": "execute_result"
    }
   ],
   "source": [
    "# Going through each tweet and assigning sentiment scores\n",
    "dicts = []    \n",
    "\n",
    "for tweet in corpus:\n",
    "    scores = sia.polarity_scores(str(tweet))\n",
    "    scores['text'] = tweet\n",
    "    dicts.append(scores)\n",
    "\n",
    "vader_df = pd.DataFrame(dicts)\n",
    "vader_df.head(5)"
   ]
  },
  {
   "cell_type": "code",
   "execution_count": 44,
   "metadata": {
    "scrolled": true
   },
   "outputs": [
    {
     "data": {
      "text/plain": [
       "(1053, 5)"
      ]
     },
     "execution_count": 44,
     "metadata": {},
     "output_type": "execute_result"
    }
   ],
   "source": [
    "vader_df.shape"
   ]
  },
  {
   "cell_type": "markdown",
   "metadata": {},
   "source": [
    "### Adding sentiment data to final data frame"
   ]
  },
  {
   "cell_type": "code",
   "execution_count": 45,
   "metadata": {},
   "outputs": [
    {
     "data": {
      "text/html": [
       "<div>\n",
       "<style scoped>\n",
       "    .dataframe tbody tr th:only-of-type {\n",
       "        vertical-align: middle;\n",
       "    }\n",
       "\n",
       "    .dataframe tbody tr th {\n",
       "        vertical-align: top;\n",
       "    }\n",
       "\n",
       "    .dataframe thead th {\n",
       "        text-align: right;\n",
       "    }\n",
       "</style>\n",
       "<table border=\"1\" class=\"dataframe\">\n",
       "  <thead>\n",
       "    <tr style=\"text-align: right;\">\n",
       "      <th></th>\n",
       "      <th>text</th>\n",
       "      <th>Open</th>\n",
       "      <th>High</th>\n",
       "      <th>Low</th>\n",
       "      <th>Close</th>\n",
       "      <th>Volume</th>\n",
       "      <th>retweet_count</th>\n",
       "      <th>favorite_count</th>\n",
       "      <th>compound</th>\n",
       "      <th>neg</th>\n",
       "      <th>neu</th>\n",
       "      <th>pos</th>\n",
       "    </tr>\n",
       "  </thead>\n",
       "  <tbody>\n",
       "    <tr>\n",
       "      <th>2015-06-15</th>\n",
       "      <td>Will do thanks.  https://t.co/5Zc3D8YLNsGreat!...</td>\n",
       "      <td>NaN</td>\n",
       "      <td>NaN</td>\n",
       "      <td>NaN</td>\n",
       "      <td>NaN</td>\n",
       "      <td>NaN</td>\n",
       "      <td>384.0</td>\n",
       "      <td>782.0</td>\n",
       "      <td>0.9301</td>\n",
       "      <td>0.039</td>\n",
       "      <td>0.843</td>\n",
       "      <td>0.117</td>\n",
       "    </tr>\n",
       "    <tr>\n",
       "      <th>2015-06-16</th>\n",
       "      <td>It is almost time. I will be making a major an...</td>\n",
       "      <td>0.001390</td>\n",
       "      <td>0.004297</td>\n",
       "      <td>0.004476</td>\n",
       "      <td>0.005452</td>\n",
       "      <td>-0.314156</td>\n",
       "      <td>20935.0</td>\n",
       "      <td>26674.0</td>\n",
       "      <td>0.9979</td>\n",
       "      <td>0.036</td>\n",
       "      <td>0.729</td>\n",
       "      <td>0.234</td>\n",
       "    </tr>\n",
       "    <tr>\n",
       "      <th>2015-06-17</th>\n",
       "      <td>Speaking to great patriots @MCC_CT. My first v...</td>\n",
       "      <td>0.007945</td>\n",
       "      <td>0.004611</td>\n",
       "      <td>0.003066</td>\n",
       "      <td>0.001617</td>\n",
       "      <td>0.485304</td>\n",
       "      <td>2515.0</td>\n",
       "      <td>6304.0</td>\n",
       "      <td>0.9862</td>\n",
       "      <td>0.043</td>\n",
       "      <td>0.732</td>\n",
       "      <td>0.224</td>\n",
       "    </tr>\n",
       "    <tr>\n",
       "      <th>2015-06-18</th>\n",
       "      <td>@JustinBorges1 Trump 4 president...has a nice ...</td>\n",
       "      <td>0.003419</td>\n",
       "      <td>0.009559</td>\n",
       "      <td>0.006066</td>\n",
       "      <td>0.010399</td>\n",
       "      <td>0.309050</td>\n",
       "      <td>937.0</td>\n",
       "      <td>2388.0</td>\n",
       "      <td>0.7712</td>\n",
       "      <td>0.050</td>\n",
       "      <td>0.823</td>\n",
       "      <td>0.127</td>\n",
       "    </tr>\n",
       "    <tr>\n",
       "      <th>2015-06-19</th>\n",
       "      <td>George Will was a big Iraq fool.  $2 trillion ...</td>\n",
       "      <td>0.000710</td>\n",
       "      <td>-0.008390</td>\n",
       "      <td>-0.001282</td>\n",
       "      <td>-0.009258</td>\n",
       "      <td>-0.213358</td>\n",
       "      <td>5348.0</td>\n",
       "      <td>9723.0</td>\n",
       "      <td>0.9851</td>\n",
       "      <td>0.097</td>\n",
       "      <td>0.758</td>\n",
       "      <td>0.145</td>\n",
       "    </tr>\n",
       "  </tbody>\n",
       "</table>\n",
       "</div>"
      ],
      "text/plain": [
       "                                                         text      Open  \\\n",
       "2015-06-15  Will do thanks.  https://t.co/5Zc3D8YLNsGreat!...       NaN   \n",
       "2015-06-16  It is almost time. I will be making a major an...  0.001390   \n",
       "2015-06-17  Speaking to great patriots @MCC_CT. My first v...  0.007945   \n",
       "2015-06-18  @JustinBorges1 Trump 4 president...has a nice ...  0.003419   \n",
       "2015-06-19  George Will was a big Iraq fool.  $2 trillion ...  0.000710   \n",
       "\n",
       "                High       Low     Close    Volume  retweet_count  \\\n",
       "2015-06-15       NaN       NaN       NaN       NaN          384.0   \n",
       "2015-06-16  0.004297  0.004476  0.005452 -0.314156        20935.0   \n",
       "2015-06-17  0.004611  0.003066  0.001617  0.485304         2515.0   \n",
       "2015-06-18  0.009559  0.006066  0.010399  0.309050          937.0   \n",
       "2015-06-19 -0.008390 -0.001282 -0.009258 -0.213358         5348.0   \n",
       "\n",
       "            favorite_count  compound    neg    neu    pos  \n",
       "2015-06-15           782.0    0.9301  0.039  0.843  0.117  \n",
       "2015-06-16         26674.0    0.9979  0.036  0.729  0.234  \n",
       "2015-06-17          6304.0    0.9862  0.043  0.732  0.224  \n",
       "2015-06-18          2388.0    0.7712  0.050  0.823  0.127  \n",
       "2015-06-19          9723.0    0.9851  0.097  0.758  0.145  "
      ]
     },
     "execution_count": 45,
     "metadata": {},
     "output_type": "execute_result"
    }
   ],
   "source": [
    "agg_data['compound'] = vader_df['compound'].values\n",
    "agg_data['neg'] = vader_df['neg'].values\n",
    "agg_data['neu'] = vader_df['neu'].values\n",
    "agg_data['pos'] = vader_df['pos'].values\n",
    "agg_data.head()"
   ]
  },
  {
   "cell_type": "code",
   "execution_count": 46,
   "metadata": {},
   "outputs": [
    {
     "data": {
      "text/plain": [
       "(1053, 12)"
      ]
     },
     "execution_count": 46,
     "metadata": {},
     "output_type": "execute_result"
    }
   ],
   "source": [
    "agg_data.shape"
   ]
  },
  {
   "cell_type": "code",
   "execution_count": 47,
   "metadata": {},
   "outputs": [],
   "source": [
    "agg_data['reg_text'] = agg_data['text'].str.lower()"
   ]
  },
  {
   "cell_type": "code",
   "execution_count": 48,
   "metadata": {},
   "outputs": [
    {
     "data": {
      "text/plain": [
       "'will do thanks.  https://t.co/5zc3d8ylnsgreat! https://t.co/8o3etkjzrdthanks.  https://t.co/qh8txizplxlive on #periscope https://t.co/h8lrtzbgeb@realjoemurray: hopefully tomorrow is the day we start to make america great again! looking forward to it @realdonaldtrump. #trump2016,06-16-2015 07:04:03,35,75,false,610704372415229952\\ninstagram,do we really need another bush in the white house--- we have had enough of them. https://t.co/sbuvybg6ke,06-15-2015 19:12:57,251,353,false,610525417175425024\\ntwitter web client,great! https://t.co/u7g3tr4nfs,06-15-2015 16:43:56,37,132,false,610487918478671873\\ntwitter web client,thanks.  https://t.co/fecmq53swe,06-15-2015 16:42:47,28,92,false,610487629952491520\\ntwitter web client,@durandsentinus @jebbush may get headlines today but @realdonaldtrump will dominate news for week regardless of his announcement tomorrow\"@subdoc101:trump said on @foxandfriends today ppl are asking why would anyone give up his lifestyle to be #potus. the answer is #trumpcares,06-15-2015 11:51:49,73,131,false,610414404157501440\\ntwitter for android,@looneytunes002: politicians are not going to get us out of this mess. they are all talk. #simpletruth #makeamericagreatagain\"@zstr8up: after the liberal 60\\'s and 70\\'s how did we end up with reagan? hollywood. the donald may have a serious chance. @realdonaldtrump@fyrftr211: @realdonaldtrump #trump2016. time for a true leader to lead our great country!@medicimario: @realdonaldtrump pls run u would be great!tomorrow at 11am #makeamericagreatagain https://t.co/pdmndtovvc'"
      ]
     },
     "execution_count": 48,
     "metadata": {},
     "output_type": "execute_result"
    }
   ],
   "source": [
    "agg_data['reg_text'][0]"
   ]
  },
  {
   "cell_type": "code",
   "execution_count": 49,
   "metadata": {},
   "outputs": [
    {
     "data": {
      "text/plain": [
       "str"
      ]
     },
     "execution_count": 49,
     "metadata": {},
     "output_type": "execute_result"
    }
   ],
   "source": [
    "type(agg_data['reg_text'][0])"
   ]
  },
  {
   "cell_type": "code",
   "execution_count": 50,
   "metadata": {},
   "outputs": [
    {
     "data": {
      "text/html": [
       "<div>\n",
       "<style scoped>\n",
       "    .dataframe tbody tr th:only-of-type {\n",
       "        vertical-align: middle;\n",
       "    }\n",
       "\n",
       "    .dataframe tbody tr th {\n",
       "        vertical-align: top;\n",
       "    }\n",
       "\n",
       "    .dataframe thead th {\n",
       "        text-align: right;\n",
       "    }\n",
       "</style>\n",
       "<table border=\"1\" class=\"dataframe\">\n",
       "  <thead>\n",
       "    <tr style=\"text-align: right;\">\n",
       "      <th></th>\n",
       "      <th>text</th>\n",
       "      <th>Open</th>\n",
       "      <th>High</th>\n",
       "      <th>Low</th>\n",
       "      <th>Close</th>\n",
       "      <th>Volume</th>\n",
       "      <th>retweet_count</th>\n",
       "      <th>favorite_count</th>\n",
       "      <th>compound</th>\n",
       "      <th>neg</th>\n",
       "      <th>neu</th>\n",
       "      <th>pos</th>\n",
       "      <th>reg_text</th>\n",
       "    </tr>\n",
       "  </thead>\n",
       "  <tbody>\n",
       "    <tr>\n",
       "      <th>2015-06-15</th>\n",
       "      <td>Will do thanks.  https://t.co/5Zc3D8YLNsGreat!...</td>\n",
       "      <td>NaN</td>\n",
       "      <td>NaN</td>\n",
       "      <td>NaN</td>\n",
       "      <td>NaN</td>\n",
       "      <td>NaN</td>\n",
       "      <td>384.0</td>\n",
       "      <td>782.0</td>\n",
       "      <td>0.9301</td>\n",
       "      <td>0.039</td>\n",
       "      <td>0.843</td>\n",
       "      <td>0.117</td>\n",
       "      <td>will do thanks.  https://t.co/5zc3d8ylnsgreat!...</td>\n",
       "    </tr>\n",
       "    <tr>\n",
       "      <th>2015-06-16</th>\n",
       "      <td>It is almost time. I will be making a major an...</td>\n",
       "      <td>0.001390</td>\n",
       "      <td>0.004297</td>\n",
       "      <td>0.004476</td>\n",
       "      <td>0.005452</td>\n",
       "      <td>-0.314156</td>\n",
       "      <td>20935.0</td>\n",
       "      <td>26674.0</td>\n",
       "      <td>0.9979</td>\n",
       "      <td>0.036</td>\n",
       "      <td>0.729</td>\n",
       "      <td>0.234</td>\n",
       "      <td>it is almost time. i will be making a major an...</td>\n",
       "    </tr>\n",
       "    <tr>\n",
       "      <th>2015-06-17</th>\n",
       "      <td>Speaking to great patriots @MCC_CT. My first v...</td>\n",
       "      <td>0.007945</td>\n",
       "      <td>0.004611</td>\n",
       "      <td>0.003066</td>\n",
       "      <td>0.001617</td>\n",
       "      <td>0.485304</td>\n",
       "      <td>2515.0</td>\n",
       "      <td>6304.0</td>\n",
       "      <td>0.9862</td>\n",
       "      <td>0.043</td>\n",
       "      <td>0.732</td>\n",
       "      <td>0.224</td>\n",
       "      <td>speaking to great patriots @mcc_ct. my first v...</td>\n",
       "    </tr>\n",
       "  </tbody>\n",
       "</table>\n",
       "</div>"
      ],
      "text/plain": [
       "                                                         text      Open  \\\n",
       "2015-06-15  Will do thanks.  https://t.co/5Zc3D8YLNsGreat!...       NaN   \n",
       "2015-06-16  It is almost time. I will be making a major an...  0.001390   \n",
       "2015-06-17  Speaking to great patriots @MCC_CT. My first v...  0.007945   \n",
       "\n",
       "                High       Low     Close    Volume  retweet_count  \\\n",
       "2015-06-15       NaN       NaN       NaN       NaN          384.0   \n",
       "2015-06-16  0.004297  0.004476  0.005452 -0.314156        20935.0   \n",
       "2015-06-17  0.004611  0.003066  0.001617  0.485304         2515.0   \n",
       "\n",
       "            favorite_count  compound    neg    neu    pos  \\\n",
       "2015-06-15           782.0    0.9301  0.039  0.843  0.117   \n",
       "2015-06-16         26674.0    0.9979  0.036  0.729  0.234   \n",
       "2015-06-17          6304.0    0.9862  0.043  0.732  0.224   \n",
       "\n",
       "                                                     reg_text  \n",
       "2015-06-15  will do thanks.  https://t.co/5zc3d8ylnsgreat!...  \n",
       "2015-06-16  it is almost time. i will be making a major an...  \n",
       "2015-06-17  speaking to great patriots @mcc_ct. my first v...  "
      ]
     },
     "execution_count": 50,
     "metadata": {},
     "output_type": "execute_result"
    }
   ],
   "source": [
    "agg_data.head(3)"
   ]
  },
  {
   "cell_type": "markdown",
   "metadata": {},
   "source": [
    "## Now have data set configured and time for natural language processing on text column."
   ]
  },
  {
   "cell_type": "code",
   "execution_count": 51,
   "metadata": {},
   "outputs": [],
   "source": [
    "# Learned a lot about Regex here and found there are a ton of nuances in English language. \n",
    "# Could probably find a much easier way to do this..."
   ]
  },
  {
   "cell_type": "code",
   "execution_count": 52,
   "metadata": {},
   "outputs": [],
   "source": [
    "agg_data['reg_text'] = agg_data['reg_text'].replace('http\\S+', '', regex=True).replace('www\\S+', '', regex=True).replace('\\n\\n\\S+', '', regex=True).replace('#\\S+','', regex = True).replace('\\n\\S+', '', regex=True).replace('\\n\\n\\n\\S+','',regex=True).replace(',', ' ', regex=True).replace('!', ' ', regex=True).replace('\\?', ' ',regex=True)"
   ]
  },
  {
   "cell_type": "code",
   "execution_count": 53,
   "metadata": {},
   "outputs": [],
   "source": [
    "agg_data['reg_text'] = agg_data['reg_text'].str.replace('\\d+','').replace(\"\\\\'s\",'', regex=True).replace('\\-', ' ', regex=True).replace('\\:', '', regex=True).replace('\\xa0',' ', regex=True)"
   ]
  },
  {
   "cell_type": "code",
   "execution_count": 54,
   "metadata": {},
   "outputs": [],
   "source": [
    "agg_data['reg_text'] = agg_data['reg_text'].str.replace('\\\"',' ', regex=True).replace(\"\\'\", ' ', regex=True).replace('\\.',' ', regex=True)"
   ]
  },
  {
   "cell_type": "code",
   "execution_count": 55,
   "metadata": {},
   "outputs": [
    {
     "data": {
      "text/plain": [
       "'Will do thanks.  https://t.co/5Zc3D8YLNsGreat! https://t.co/8O3eTKjZrdThanks.  https://t.co/qh8TxiZPlXLIVE on #Periscope https://t.co/H8lRtZBGEb@realJoeMurray: Hopefully tomorrow is the day we start to make America great again! Looking forward to it @realDonaldTrump. #Trump2016,06-16-2015 07:04:03,35,75,false,610704372415229952\\nInstagram,Do we really need another Bush in the White House--- we have had enough of them. https://t.co/sbUVyBG6KE,06-15-2015 19:12:57,251,353,false,610525417175425024\\nTwitter Web Client,Great! https://t.co/U7G3tR4nFS,06-15-2015 16:43:56,37,132,false,610487918478671873\\nTwitter Web Client,Thanks.  https://t.co/feCMQ53SwE,06-15-2015 16:42:47,28,92,false,610487629952491520\\nTwitter Web Client,@DurandSentinus @JebBush may get headlines today but @realDonaldTrump will dominate news for week regardless of his announcement tomorrow\"@Subdoc101:Trump said on @foxandfriends today PPL are asking why would anyone give up his lifestyle to be #POTUS. The answer is #TRUMPCARES,06-15-2015 11:51:49,73,131,false,610414404157501440\\nTwitter for Android,@LooneyTunes002: Politicians are not going to get us out of this mess. They are all talk. #SimpleTruth #MakeAmericaGreatAgain\"@ZStr8Up: After the liberal 60\\'s and 70\\'s how did we end up with Reagan? Hollywood. The Donald may have a serious chance. @realDonaldTrump@fyrftr211: @realDonaldTrump #Trump2016. Time for a true leader to lead our great country!@MediciMario: @realDonaldTrump Pls run u would be great!Tomorrow at 11AM #MakeAmericaGreatAgain https://t.co/pDMndTOVvc'"
      ]
     },
     "execution_count": 55,
     "metadata": {},
     "output_type": "execute_result"
    }
   ],
   "source": [
    "agg_data['text'][0]"
   ]
  },
  {
   "cell_type": "code",
   "execution_count": 56,
   "metadata": {
    "scrolled": false
   },
   "outputs": [
    {
     "data": {
      "text/plain": [
       "'will do thanks       on   hopefully tomorrow is the day we start to make america great again  looking forward to it @realdonaldtrump      false  we really need another bush in the white house    we have had enough of them      false  web client great      false  web client thanks       false  web client @durandsentinus @jebbush may get headlines today but @realdonaldtrump will dominate news for week regardless of his announcement tomorrow @subdoctrump said on @foxandfriends today ppl are asking why would anyone give up his lifestyle to be  the answer is     false  for android @looneytunes politicians are not going to get us out of this mess  they are all talk    after the liberal  and  how did we end up with reagan  hollywood  the donald may have a serious chance  @realdonaldtrump@fyrftr @realdonaldtrump  time for a true leader to lead our great country @medicimario @realdonaldtrump pls run u would be great tomorrow at am  '"
      ]
     },
     "execution_count": 56,
     "metadata": {},
     "output_type": "execute_result"
    }
   ],
   "source": [
    "agg_data['reg_text'][0]"
   ]
  },
  {
   "cell_type": "code",
   "execution_count": 57,
   "metadata": {},
   "outputs": [
    {
     "data": {
      "text/html": [
       "<div>\n",
       "<style scoped>\n",
       "    .dataframe tbody tr th:only-of-type {\n",
       "        vertical-align: middle;\n",
       "    }\n",
       "\n",
       "    .dataframe tbody tr th {\n",
       "        vertical-align: top;\n",
       "    }\n",
       "\n",
       "    .dataframe thead th {\n",
       "        text-align: right;\n",
       "    }\n",
       "</style>\n",
       "<table border=\"1\" class=\"dataframe\">\n",
       "  <thead>\n",
       "    <tr style=\"text-align: right;\">\n",
       "      <th></th>\n",
       "      <th>text</th>\n",
       "      <th>Open</th>\n",
       "      <th>High</th>\n",
       "      <th>Low</th>\n",
       "      <th>Close</th>\n",
       "      <th>Volume</th>\n",
       "      <th>retweet_count</th>\n",
       "      <th>favorite_count</th>\n",
       "      <th>compound</th>\n",
       "      <th>neg</th>\n",
       "      <th>neu</th>\n",
       "      <th>pos</th>\n",
       "      <th>reg_text</th>\n",
       "    </tr>\n",
       "  </thead>\n",
       "  <tbody>\n",
       "    <tr>\n",
       "      <th>2015-06-15</th>\n",
       "      <td>Will do thanks.  https://t.co/5Zc3D8YLNsGreat!...</td>\n",
       "      <td>NaN</td>\n",
       "      <td>NaN</td>\n",
       "      <td>NaN</td>\n",
       "      <td>NaN</td>\n",
       "      <td>NaN</td>\n",
       "      <td>384.0</td>\n",
       "      <td>782.0</td>\n",
       "      <td>0.9301</td>\n",
       "      <td>0.039</td>\n",
       "      <td>0.843</td>\n",
       "      <td>0.117</td>\n",
       "      <td>will do thanks       on   hopefully tomorrow i...</td>\n",
       "    </tr>\n",
       "    <tr>\n",
       "      <th>2015-06-16</th>\n",
       "      <td>It is almost time. I will be making a major an...</td>\n",
       "      <td>0.001390</td>\n",
       "      <td>0.004297</td>\n",
       "      <td>0.004476</td>\n",
       "      <td>0.005452</td>\n",
       "      <td>-0.314156</td>\n",
       "      <td>20935.0</td>\n",
       "      <td>26674.0</td>\n",
       "      <td>0.9979</td>\n",
       "      <td>0.036</td>\n",
       "      <td>0.729</td>\n",
       "      <td>0.234</td>\n",
       "      <td>it is almost time  i will be making a major an...</td>\n",
       "    </tr>\n",
       "    <tr>\n",
       "      <th>2015-06-17</th>\n",
       "      <td>Speaking to great patriots @MCC_CT. My first v...</td>\n",
       "      <td>0.007945</td>\n",
       "      <td>0.004611</td>\n",
       "      <td>0.003066</td>\n",
       "      <td>0.001617</td>\n",
       "      <td>0.485304</td>\n",
       "      <td>2515.0</td>\n",
       "      <td>6304.0</td>\n",
       "      <td>0.9862</td>\n",
       "      <td>0.043</td>\n",
       "      <td>0.732</td>\n",
       "      <td>0.224</td>\n",
       "      <td>speaking to great patriots @mcc_ct  my first v...</td>\n",
       "    </tr>\n",
       "    <tr>\n",
       "      <th>2015-06-18</th>\n",
       "      <td>@JustinBorges1 Trump 4 president...has a nice ...</td>\n",
       "      <td>0.003419</td>\n",
       "      <td>0.009559</td>\n",
       "      <td>0.006066</td>\n",
       "      <td>0.010399</td>\n",
       "      <td>0.309050</td>\n",
       "      <td>937.0</td>\n",
       "      <td>2388.0</td>\n",
       "      <td>0.7712</td>\n",
       "      <td>0.050</td>\n",
       "      <td>0.823</td>\n",
       "      <td>0.127</td>\n",
       "      <td>@justinborges trump  president   has a nice ri...</td>\n",
       "    </tr>\n",
       "  </tbody>\n",
       "</table>\n",
       "</div>"
      ],
      "text/plain": [
       "                                                         text      Open  \\\n",
       "2015-06-15  Will do thanks.  https://t.co/5Zc3D8YLNsGreat!...       NaN   \n",
       "2015-06-16  It is almost time. I will be making a major an...  0.001390   \n",
       "2015-06-17  Speaking to great patriots @MCC_CT. My first v...  0.007945   \n",
       "2015-06-18  @JustinBorges1 Trump 4 president...has a nice ...  0.003419   \n",
       "\n",
       "                High       Low     Close    Volume  retweet_count  \\\n",
       "2015-06-15       NaN       NaN       NaN       NaN          384.0   \n",
       "2015-06-16  0.004297  0.004476  0.005452 -0.314156        20935.0   \n",
       "2015-06-17  0.004611  0.003066  0.001617  0.485304         2515.0   \n",
       "2015-06-18  0.009559  0.006066  0.010399  0.309050          937.0   \n",
       "\n",
       "            favorite_count  compound    neg    neu    pos  \\\n",
       "2015-06-15           782.0    0.9301  0.039  0.843  0.117   \n",
       "2015-06-16         26674.0    0.9979  0.036  0.729  0.234   \n",
       "2015-06-17          6304.0    0.9862  0.043  0.732  0.224   \n",
       "2015-06-18          2388.0    0.7712  0.050  0.823  0.127   \n",
       "\n",
       "                                                     reg_text  \n",
       "2015-06-15  will do thanks       on   hopefully tomorrow i...  \n",
       "2015-06-16  it is almost time  i will be making a major an...  \n",
       "2015-06-17  speaking to great patriots @mcc_ct  my first v...  \n",
       "2015-06-18  @justinborges trump  president   has a nice ri...  "
      ]
     },
     "execution_count": 57,
     "metadata": {},
     "output_type": "execute_result"
    }
   ],
   "source": [
    "agg_data.head(4)"
   ]
  },
  {
   "cell_type": "code",
   "execution_count": 58,
   "metadata": {},
   "outputs": [
    {
     "data": {
      "text/plain": [
       "(1053, 13)"
      ]
     },
     "execution_count": 58,
     "metadata": {},
     "output_type": "execute_result"
    }
   ],
   "source": [
    "agg_data.shape"
   ]
  },
  {
   "cell_type": "markdown",
   "metadata": {},
   "source": [
    "## Creating Target Variable for models -- \n",
    "### Up day is any percent change greater than 0 of the SPY close the previous day"
   ]
  },
  {
   "cell_type": "code",
   "execution_count": 59,
   "metadata": {},
   "outputs": [],
   "source": [
    "agg_data['up_day'] = agg_data['Close'].map(lambda x: 1 if x > 0 else 0)"
   ]
  },
  {
   "cell_type": "code",
   "execution_count": 60,
   "metadata": {},
   "outputs": [
    {
     "data": {
      "text/plain": [
       "(1053, 14)"
      ]
     },
     "execution_count": 60,
     "metadata": {},
     "output_type": "execute_result"
    }
   ],
   "source": [
    "agg_data.shape"
   ]
  },
  {
   "cell_type": "code",
   "execution_count": 61,
   "metadata": {},
   "outputs": [
    {
     "data": {
      "text/html": [
       "<div>\n",
       "<style scoped>\n",
       "    .dataframe tbody tr th:only-of-type {\n",
       "        vertical-align: middle;\n",
       "    }\n",
       "\n",
       "    .dataframe tbody tr th {\n",
       "        vertical-align: top;\n",
       "    }\n",
       "\n",
       "    .dataframe thead th {\n",
       "        text-align: right;\n",
       "    }\n",
       "</style>\n",
       "<table border=\"1\" class=\"dataframe\">\n",
       "  <thead>\n",
       "    <tr style=\"text-align: right;\">\n",
       "      <th></th>\n",
       "      <th>text</th>\n",
       "      <th>Open</th>\n",
       "      <th>High</th>\n",
       "      <th>Low</th>\n",
       "      <th>Close</th>\n",
       "      <th>Volume</th>\n",
       "      <th>retweet_count</th>\n",
       "      <th>favorite_count</th>\n",
       "      <th>compound</th>\n",
       "      <th>neg</th>\n",
       "      <th>neu</th>\n",
       "      <th>pos</th>\n",
       "      <th>reg_text</th>\n",
       "      <th>up_day</th>\n",
       "    </tr>\n",
       "  </thead>\n",
       "  <tbody>\n",
       "    <tr>\n",
       "      <th>2015-06-15</th>\n",
       "      <td>Will do thanks.  https://t.co/5Zc3D8YLNsGreat!...</td>\n",
       "      <td>NaN</td>\n",
       "      <td>NaN</td>\n",
       "      <td>NaN</td>\n",
       "      <td>NaN</td>\n",
       "      <td>NaN</td>\n",
       "      <td>384.0</td>\n",
       "      <td>782.0</td>\n",
       "      <td>0.9301</td>\n",
       "      <td>0.039</td>\n",
       "      <td>0.843</td>\n",
       "      <td>0.117</td>\n",
       "      <td>will do thanks       on   hopefully tomorrow i...</td>\n",
       "      <td>0</td>\n",
       "    </tr>\n",
       "    <tr>\n",
       "      <th>2015-06-16</th>\n",
       "      <td>It is almost time. I will be making a major an...</td>\n",
       "      <td>0.001390</td>\n",
       "      <td>0.004297</td>\n",
       "      <td>0.004476</td>\n",
       "      <td>0.005452</td>\n",
       "      <td>-0.314156</td>\n",
       "      <td>20935.0</td>\n",
       "      <td>26674.0</td>\n",
       "      <td>0.9979</td>\n",
       "      <td>0.036</td>\n",
       "      <td>0.729</td>\n",
       "      <td>0.234</td>\n",
       "      <td>it is almost time  i will be making a major an...</td>\n",
       "      <td>1</td>\n",
       "    </tr>\n",
       "    <tr>\n",
       "      <th>2015-06-17</th>\n",
       "      <td>Speaking to great patriots @MCC_CT. My first v...</td>\n",
       "      <td>0.007945</td>\n",
       "      <td>0.004611</td>\n",
       "      <td>0.003066</td>\n",
       "      <td>0.001617</td>\n",
       "      <td>0.485304</td>\n",
       "      <td>2515.0</td>\n",
       "      <td>6304.0</td>\n",
       "      <td>0.9862</td>\n",
       "      <td>0.043</td>\n",
       "      <td>0.732</td>\n",
       "      <td>0.224</td>\n",
       "      <td>speaking to great patriots @mcc_ct  my first v...</td>\n",
       "      <td>1</td>\n",
       "    </tr>\n",
       "  </tbody>\n",
       "</table>\n",
       "</div>"
      ],
      "text/plain": [
       "                                                         text      Open  \\\n",
       "2015-06-15  Will do thanks.  https://t.co/5Zc3D8YLNsGreat!...       NaN   \n",
       "2015-06-16  It is almost time. I will be making a major an...  0.001390   \n",
       "2015-06-17  Speaking to great patriots @MCC_CT. My first v...  0.007945   \n",
       "\n",
       "                High       Low     Close    Volume  retweet_count  \\\n",
       "2015-06-15       NaN       NaN       NaN       NaN          384.0   \n",
       "2015-06-16  0.004297  0.004476  0.005452 -0.314156        20935.0   \n",
       "2015-06-17  0.004611  0.003066  0.001617  0.485304         2515.0   \n",
       "\n",
       "            favorite_count  compound    neg    neu    pos  \\\n",
       "2015-06-15           782.0    0.9301  0.039  0.843  0.117   \n",
       "2015-06-16         26674.0    0.9979  0.036  0.729  0.234   \n",
       "2015-06-17          6304.0    0.9862  0.043  0.732  0.224   \n",
       "\n",
       "                                                     reg_text  up_day  \n",
       "2015-06-15  will do thanks       on   hopefully tomorrow i...       0  \n",
       "2015-06-16  it is almost time  i will be making a major an...       1  \n",
       "2015-06-17  speaking to great patriots @mcc_ct  my first v...       1  "
      ]
     },
     "execution_count": 61,
     "metadata": {},
     "output_type": "execute_result"
    }
   ],
   "source": [
    "agg_data.head(3)"
   ]
  },
  {
   "cell_type": "markdown",
   "metadata": {},
   "source": [
    "### Dropping first date of texts (day before Presidential announcement was made) to account for NA's created in first row from .pct_change method"
   ]
  },
  {
   "cell_type": "code",
   "execution_count": 62,
   "metadata": {},
   "outputs": [
    {
     "data": {
      "text/html": [
       "<div>\n",
       "<style scoped>\n",
       "    .dataframe tbody tr th:only-of-type {\n",
       "        vertical-align: middle;\n",
       "    }\n",
       "\n",
       "    .dataframe tbody tr th {\n",
       "        vertical-align: top;\n",
       "    }\n",
       "\n",
       "    .dataframe thead th {\n",
       "        text-align: right;\n",
       "    }\n",
       "</style>\n",
       "<table border=\"1\" class=\"dataframe\">\n",
       "  <thead>\n",
       "    <tr style=\"text-align: right;\">\n",
       "      <th></th>\n",
       "      <th>text</th>\n",
       "      <th>Open</th>\n",
       "      <th>High</th>\n",
       "      <th>Low</th>\n",
       "      <th>Close</th>\n",
       "      <th>Volume</th>\n",
       "      <th>retweet_count</th>\n",
       "      <th>favorite_count</th>\n",
       "      <th>compound</th>\n",
       "      <th>neg</th>\n",
       "      <th>neu</th>\n",
       "      <th>pos</th>\n",
       "      <th>reg_text</th>\n",
       "      <th>up_day</th>\n",
       "    </tr>\n",
       "  </thead>\n",
       "  <tbody>\n",
       "    <tr>\n",
       "      <th>2015-06-16</th>\n",
       "      <td>It is almost time. I will be making a major an...</td>\n",
       "      <td>0.001390</td>\n",
       "      <td>0.004297</td>\n",
       "      <td>0.004476</td>\n",
       "      <td>0.005452</td>\n",
       "      <td>-0.314156</td>\n",
       "      <td>20935.0</td>\n",
       "      <td>26674.0</td>\n",
       "      <td>0.9979</td>\n",
       "      <td>0.036</td>\n",
       "      <td>0.729</td>\n",
       "      <td>0.234</td>\n",
       "      <td>it is almost time  i will be making a major an...</td>\n",
       "      <td>1</td>\n",
       "    </tr>\n",
       "    <tr>\n",
       "      <th>2015-06-17</th>\n",
       "      <td>Speaking to great patriots @MCC_CT. My first v...</td>\n",
       "      <td>0.007945</td>\n",
       "      <td>0.004611</td>\n",
       "      <td>0.003066</td>\n",
       "      <td>0.001617</td>\n",
       "      <td>0.485304</td>\n",
       "      <td>2515.0</td>\n",
       "      <td>6304.0</td>\n",
       "      <td>0.9862</td>\n",
       "      <td>0.043</td>\n",
       "      <td>0.732</td>\n",
       "      <td>0.224</td>\n",
       "      <td>speaking to great patriots @mcc_ct  my first v...</td>\n",
       "      <td>1</td>\n",
       "    </tr>\n",
       "    <tr>\n",
       "      <th>2015-06-18</th>\n",
       "      <td>@JustinBorges1 Trump 4 president...has a nice ...</td>\n",
       "      <td>0.003419</td>\n",
       "      <td>0.009559</td>\n",
       "      <td>0.006066</td>\n",
       "      <td>0.010399</td>\n",
       "      <td>0.309050</td>\n",
       "      <td>937.0</td>\n",
       "      <td>2388.0</td>\n",
       "      <td>0.7712</td>\n",
       "      <td>0.050</td>\n",
       "      <td>0.823</td>\n",
       "      <td>0.127</td>\n",
       "      <td>@justinborges trump  president   has a nice ri...</td>\n",
       "      <td>1</td>\n",
       "    </tr>\n",
       "  </tbody>\n",
       "</table>\n",
       "</div>"
      ],
      "text/plain": [
       "                                                         text      Open  \\\n",
       "2015-06-16  It is almost time. I will be making a major an...  0.001390   \n",
       "2015-06-17  Speaking to great patriots @MCC_CT. My first v...  0.007945   \n",
       "2015-06-18  @JustinBorges1 Trump 4 president...has a nice ...  0.003419   \n",
       "\n",
       "                High       Low     Close    Volume  retweet_count  \\\n",
       "2015-06-16  0.004297  0.004476  0.005452 -0.314156        20935.0   \n",
       "2015-06-17  0.004611  0.003066  0.001617  0.485304         2515.0   \n",
       "2015-06-18  0.009559  0.006066  0.010399  0.309050          937.0   \n",
       "\n",
       "            favorite_count  compound    neg    neu    pos  \\\n",
       "2015-06-16         26674.0    0.9979  0.036  0.729  0.234   \n",
       "2015-06-17          6304.0    0.9862  0.043  0.732  0.224   \n",
       "2015-06-18          2388.0    0.7712  0.050  0.823  0.127   \n",
       "\n",
       "                                                     reg_text  up_day  \n",
       "2015-06-16  it is almost time  i will be making a major an...       1  \n",
       "2015-06-17  speaking to great patriots @mcc_ct  my first v...       1  \n",
       "2015-06-18  @justinborges trump  president   has a nice ri...       1  "
      ]
     },
     "execution_count": 62,
     "metadata": {},
     "output_type": "execute_result"
    }
   ],
   "source": [
    "agg_data = agg_data.drop(pd.Timestamp('2015-06-15'))\n",
    "agg_data.head(3)"
   ]
  },
  {
   "cell_type": "code",
   "execution_count": 63,
   "metadata": {
    "scrolled": false
   },
   "outputs": [
    {
     "data": {
      "text/plain": [
       "(1052, 14)"
      ]
     },
     "execution_count": 63,
     "metadata": {},
     "output_type": "execute_result"
    }
   ],
   "source": [
    "agg_data.shape"
   ]
  },
  {
   "cell_type": "code",
   "execution_count": 64,
   "metadata": {},
   "outputs": [
    {
     "data": {
      "text/plain": [
       "<matplotlib.axes._subplots.AxesSubplot at 0x1a28c1dda0>"
      ]
     },
     "execution_count": 64,
     "metadata": {},
     "output_type": "execute_result"
    },
    {
     "data": {
      "image/png": "[encoded data removed]",
      "text/plain": [
       "<Figure size 720x720 with 2 Axes>"
      ]
     },
     "metadata": {
      "needs_background": "light"
     },
     "output_type": "display_data"
    }
   ],
   "source": [
    "plt.figure(figsize = (10, 10))\n",
    "corr = agg_data.corr()\n",
    "corr_sort = corr.sort_values(by = ['up_day'], axis = 0, ascending = False)\n",
    "sns.heatmap(corr_sort[['up_day']], annot=True)"
   ]
  },
  {
   "cell_type": "markdown",
   "metadata": {},
   "source": [
    "### Saving data set to csv so able to use in other notebooks"
   ]
  },
  {
   "cell_type": "code",
   "execution_count": 65,
   "metadata": {},
   "outputs": [],
   "source": [
    "agg_data.to_csv('agg_data.csv')"
   ]
  },
  {
   "cell_type": "markdown",
   "metadata": {},
   "source": [
    "# Train Test Split"
   ]
  },
  {
   "cell_type": "code",
   "execution_count": 66,
   "metadata": {},
   "outputs": [],
   "source": [
    "# Selecting columns that contain that variable data I need\n",
    "\n",
    "X = agg_data[['reg_text', 'Open', 'High', 'Low', #'Close', \n",
    "              'Volume', \n",
    "              'retweet_count', 'favorite_count', 'compound',\n",
    "              'neg', 'neu', 'pos']]\n",
    "y = agg_data['up_day']"
   ]
  },
  {
   "cell_type": "code",
   "execution_count": 67,
   "metadata": {},
   "outputs": [
    {
     "data": {
      "text/plain": [
       "1    0.541825\n",
       "0    0.458175\n",
       "Name: up_day, dtype: float64"
      ]
     },
     "execution_count": 67,
     "metadata": {},
     "output_type": "execute_result"
    }
   ],
   "source": [
    "y.value_counts(normalize=True)   # This gives baseline score for predicting 'up day' or positive move in the market \n",
    "                                 # 1 is positive day and 0 is negative day"
   ]
  },
  {
   "cell_type": "markdown",
   "metadata": {},
   "source": [
    "###   54.18% is baseline and average amount of time a move in SPY increases from the previous day"
   ]
  },
  {
   "cell_type": "code",
   "execution_count": 68,
   "metadata": {},
   "outputs": [],
   "source": [
    "X_train, X_test, y_train, y_test = train_test_split(X, y, random_state=42, stratify=y, \n",
    "                                                    test_size=0.15)"
   ]
  },
  {
   "cell_type": "code",
   "execution_count": 69,
   "metadata": {},
   "outputs": [
    {
     "data": {
      "text/plain": [
       "(0.5413870246085011, 0.5443037974683544)"
      ]
     },
     "execution_count": 69,
     "metadata": {},
     "output_type": "execute_result"
    }
   ],
   "source": [
    "y_train.mean(), y_test.mean()"
   ]
  },
  {
   "cell_type": "code",
   "execution_count": 70,
   "metadata": {},
   "outputs": [
    {
     "data": {
      "text/html": [
       "<div>\n",
       "<style scoped>\n",
       "    .dataframe tbody tr th:only-of-type {\n",
       "        vertical-align: middle;\n",
       "    }\n",
       "\n",
       "    .dataframe tbody tr th {\n",
       "        vertical-align: top;\n",
       "    }\n",
       "\n",
       "    .dataframe thead th {\n",
       "        text-align: right;\n",
       "    }\n",
       "</style>\n",
       "<table border=\"1\" class=\"dataframe\">\n",
       "  <thead>\n",
       "    <tr style=\"text-align: right;\">\n",
       "      <th></th>\n",
       "      <th>reg_text</th>\n",
       "      <th>Open</th>\n",
       "      <th>High</th>\n",
       "      <th>Low</th>\n",
       "      <th>Volume</th>\n",
       "      <th>retweet_count</th>\n",
       "      <th>favorite_count</th>\n",
       "      <th>compound</th>\n",
       "      <th>neg</th>\n",
       "      <th>neu</th>\n",
       "      <th>pos</th>\n",
       "    </tr>\n",
       "  </thead>\n",
       "  <tbody>\n",
       "    <tr>\n",
       "      <th>2018-05-02</th>\n",
       "      <td>“this isn’t some game  you are screwing with t...</td>\n",
       "      <td>0.003373</td>\n",
       "      <td>0.002188</td>\n",
       "      <td>0.002480</td>\n",
       "      <td>0.163948</td>\n",
       "      <td>157788.0</td>\n",
       "      <td>631545.0</td>\n",
       "      <td>-0.7083</td>\n",
       "      <td>0.100</td>\n",
       "      <td>0.832</td>\n",
       "      <td>0.068</td>\n",
       "    </tr>\n",
       "    <tr>\n",
       "      <th>2016-09-14</th>\n",
       "      <td>thank you ohio  just landed in canton for a ra...</td>\n",
       "      <td>-0.007215</td>\n",
       "      <td>-0.002092</td>\n",
       "      <td>0.000000</td>\n",
       "      <td>-0.266059</td>\n",
       "      <td>92033.0</td>\n",
       "      <td>244584.0</td>\n",
       "      <td>0.9719</td>\n",
       "      <td>0.000</td>\n",
       "      <td>0.824</td>\n",
       "      <td>0.176</td>\n",
       "    </tr>\n",
       "    <tr>\n",
       "      <th>2016-07-18</th>\n",
       "      <td>is the worst they go to their dumb one sid...</td>\n",
       "      <td>-0.003736</td>\n",
       "      <td>-0.001889</td>\n",
       "      <td>0.001672</td>\n",
       "      <td>-0.451956</td>\n",
       "      <td>34026.0</td>\n",
       "      <td>111030.0</td>\n",
       "      <td>0.9074</td>\n",
       "      <td>0.058</td>\n",
       "      <td>0.762</td>\n",
       "      <td>0.180</td>\n",
       "    </tr>\n",
       "    <tr>\n",
       "      <th>2015-09-30</th>\n",
       "      <td>wow so nice  thank you wayne allyn root   i ju...</td>\n",
       "      <td>0.011154</td>\n",
       "      <td>0.011015</td>\n",
       "      <td>0.013428</td>\n",
       "      <td>0.027705</td>\n",
       "      <td>19473.0</td>\n",
       "      <td>32468.0</td>\n",
       "      <td>0.9519</td>\n",
       "      <td>0.096</td>\n",
       "      <td>0.729</td>\n",
       "      <td>0.175</td>\n",
       "    </tr>\n",
       "    <tr>\n",
       "      <th>2015-10-16</th>\n",
       "      <td>@trumphiant i ve never seen a candidate as dom...</td>\n",
       "      <td>0.013745</td>\n",
       "      <td>0.004596</td>\n",
       "      <td>0.011421</td>\n",
       "      <td>-0.145831</td>\n",
       "      <td>15936.0</td>\n",
       "      <td>35377.0</td>\n",
       "      <td>0.9963</td>\n",
       "      <td>0.054</td>\n",
       "      <td>0.763</td>\n",
       "      <td>0.184</td>\n",
       "    </tr>\n",
       "  </tbody>\n",
       "</table>\n",
       "</div>"
      ],
      "text/plain": [
       "                                                     reg_text      Open  \\\n",
       "2018-05-02  “this isn’t some game  you are screwing with t...  0.003373   \n",
       "2016-09-14  thank you ohio  just landed in canton for a ra... -0.007215   \n",
       "2016-07-18      is the worst they go to their dumb one sid... -0.003736   \n",
       "2015-09-30  wow so nice  thank you wayne allyn root   i ju...  0.011154   \n",
       "2015-10-16  @trumphiant i ve never seen a candidate as dom...  0.013745   \n",
       "\n",
       "                High       Low    Volume  retweet_count  favorite_count  \\\n",
       "2018-05-02  0.002188  0.002480  0.163948       157788.0        631545.0   \n",
       "2016-09-14 -0.002092  0.000000 -0.266059        92033.0        244584.0   \n",
       "2016-07-18 -0.001889  0.001672 -0.451956        34026.0        111030.0   \n",
       "2015-09-30  0.011015  0.013428  0.027705        19473.0         32468.0   \n",
       "2015-10-16  0.004596  0.011421 -0.145831        15936.0         35377.0   \n",
       "\n",
       "            compound    neg    neu    pos  \n",
       "2018-05-02   -0.7083  0.100  0.832  0.068  \n",
       "2016-09-14    0.9719  0.000  0.824  0.176  \n",
       "2016-07-18    0.9074  0.058  0.762  0.180  \n",
       "2015-09-30    0.9519  0.096  0.729  0.175  \n",
       "2015-10-16    0.9963  0.054  0.763  0.184  "
      ]
     },
     "execution_count": 70,
     "metadata": {},
     "output_type": "execute_result"
    }
   ],
   "source": [
    "X_train.head()"
   ]
  },
  {
   "cell_type": "markdown",
   "metadata": {},
   "source": [
    "### Instantiating a CountVectorizer that will collect the texts and find the most correlated"
   ]
  },
  {
   "cell_type": "code",
   "execution_count": 71,
   "metadata": {},
   "outputs": [],
   "source": [
    "cv = CountVectorizer(ngram_range=(1,3), max_features=12000, stop_words='english')\n",
    "\n",
    "X_train_cv = cv.fit_transform(X_train['reg_text'].astype('str'))\n",
    "X_test_cv = cv.transform(X_test['reg_text'].astype('str'))"
   ]
  },
  {
   "cell_type": "code",
   "execution_count": 72,
   "metadata": {},
   "outputs": [
    {
     "data": {
      "text/html": [
       "<div>\n",
       "<style scoped>\n",
       "    .dataframe tbody tr th:only-of-type {\n",
       "        vertical-align: middle;\n",
       "    }\n",
       "\n",
       "    .dataframe tbody tr th {\n",
       "        vertical-align: top;\n",
       "    }\n",
       "\n",
       "    .dataframe thead th {\n",
       "        text-align: right;\n",
       "    }\n",
       "</style>\n",
       "<table border=\"1\" class=\"dataframe\">\n",
       "  <thead>\n",
       "    <tr style=\"text-align: right;\">\n",
       "      <th></th>\n",
       "      <th>abandon</th>\n",
       "      <th>abandoned</th>\n",
       "      <th>abbas</th>\n",
       "      <th>abc</th>\n",
       "      <th>abc nbc</th>\n",
       "      <th>abc news</th>\n",
       "      <th>abe</th>\n",
       "      <th>abe japan</th>\n",
       "      <th>aberdeen</th>\n",
       "      <th>abeshinzo</th>\n",
       "      <th>...</th>\n",
       "      <th>zealand</th>\n",
       "      <th>zero</th>\n",
       "      <th>zero credibility</th>\n",
       "      <th>zero work</th>\n",
       "      <th>zero work congress</th>\n",
       "      <th>zogby</th>\n",
       "      <th>zogby poll</th>\n",
       "      <th>zone</th>\n",
       "      <th>zones</th>\n",
       "      <th>zuckerman</th>\n",
       "    </tr>\n",
       "  </thead>\n",
       "  <tbody>\n",
       "    <tr>\n",
       "      <th>0</th>\n",
       "      <td>0</td>\n",
       "      <td>0</td>\n",
       "      <td>0</td>\n",
       "      <td>0</td>\n",
       "      <td>0</td>\n",
       "      <td>0</td>\n",
       "      <td>0</td>\n",
       "      <td>0</td>\n",
       "      <td>0</td>\n",
       "      <td>0</td>\n",
       "      <td>...</td>\n",
       "      <td>0</td>\n",
       "      <td>0</td>\n",
       "      <td>0</td>\n",
       "      <td>0</td>\n",
       "      <td>0</td>\n",
       "      <td>0</td>\n",
       "      <td>0</td>\n",
       "      <td>0</td>\n",
       "      <td>0</td>\n",
       "      <td>0</td>\n",
       "    </tr>\n",
       "    <tr>\n",
       "      <th>1</th>\n",
       "      <td>0</td>\n",
       "      <td>0</td>\n",
       "      <td>0</td>\n",
       "      <td>0</td>\n",
       "      <td>0</td>\n",
       "      <td>0</td>\n",
       "      <td>0</td>\n",
       "      <td>0</td>\n",
       "      <td>0</td>\n",
       "      <td>0</td>\n",
       "      <td>...</td>\n",
       "      <td>0</td>\n",
       "      <td>0</td>\n",
       "      <td>0</td>\n",
       "      <td>0</td>\n",
       "      <td>0</td>\n",
       "      <td>0</td>\n",
       "      <td>0</td>\n",
       "      <td>0</td>\n",
       "      <td>0</td>\n",
       "      <td>0</td>\n",
       "    </tr>\n",
       "    <tr>\n",
       "      <th>2</th>\n",
       "      <td>0</td>\n",
       "      <td>0</td>\n",
       "      <td>0</td>\n",
       "      <td>0</td>\n",
       "      <td>0</td>\n",
       "      <td>0</td>\n",
       "      <td>0</td>\n",
       "      <td>0</td>\n",
       "      <td>0</td>\n",
       "      <td>0</td>\n",
       "      <td>...</td>\n",
       "      <td>0</td>\n",
       "      <td>0</td>\n",
       "      <td>0</td>\n",
       "      <td>0</td>\n",
       "      <td>0</td>\n",
       "      <td>0</td>\n",
       "      <td>0</td>\n",
       "      <td>0</td>\n",
       "      <td>0</td>\n",
       "      <td>0</td>\n",
       "    </tr>\n",
       "    <tr>\n",
       "      <th>3</th>\n",
       "      <td>0</td>\n",
       "      <td>0</td>\n",
       "      <td>0</td>\n",
       "      <td>0</td>\n",
       "      <td>0</td>\n",
       "      <td>0</td>\n",
       "      <td>0</td>\n",
       "      <td>0</td>\n",
       "      <td>0</td>\n",
       "      <td>0</td>\n",
       "      <td>...</td>\n",
       "      <td>0</td>\n",
       "      <td>0</td>\n",
       "      <td>0</td>\n",
       "      <td>0</td>\n",
       "      <td>0</td>\n",
       "      <td>0</td>\n",
       "      <td>0</td>\n",
       "      <td>0</td>\n",
       "      <td>0</td>\n",
       "      <td>0</td>\n",
       "    </tr>\n",
       "    <tr>\n",
       "      <th>4</th>\n",
       "      <td>0</td>\n",
       "      <td>0</td>\n",
       "      <td>0</td>\n",
       "      <td>0</td>\n",
       "      <td>0</td>\n",
       "      <td>0</td>\n",
       "      <td>0</td>\n",
       "      <td>0</td>\n",
       "      <td>0</td>\n",
       "      <td>0</td>\n",
       "      <td>...</td>\n",
       "      <td>0</td>\n",
       "      <td>0</td>\n",
       "      <td>0</td>\n",
       "      <td>0</td>\n",
       "      <td>0</td>\n",
       "      <td>0</td>\n",
       "      <td>0</td>\n",
       "      <td>0</td>\n",
       "      <td>0</td>\n",
       "      <td>0</td>\n",
       "    </tr>\n",
       "  </tbody>\n",
       "</table>\n",
       "<p>5 rows × 12000 columns</p>\n",
       "</div>"
      ],
      "text/plain": [
       "   abandon  abandoned  abbas  abc  abc nbc  abc news  abe  abe japan  \\\n",
       "0        0          0      0    0        0         0    0          0   \n",
       "1        0          0      0    0        0         0    0          0   \n",
       "2        0          0      0    0        0         0    0          0   \n",
       "3        0          0      0    0        0         0    0          0   \n",
       "4        0          0      0    0        0         0    0          0   \n",
       "\n",
       "   aberdeen  abeshinzo  ...  zealand  zero  zero credibility  zero work  \\\n",
       "0         0          0  ...        0     0                 0          0   \n",
       "1         0          0  ...        0     0                 0          0   \n",
       "2         0          0  ...        0     0                 0          0   \n",
       "3         0          0  ...        0     0                 0          0   \n",
       "4         0          0  ...        0     0                 0          0   \n",
       "\n",
       "   zero work congress  zogby  zogby poll  zone  zones  zuckerman  \n",
       "0                   0      0           0     0      0          0  \n",
       "1                   0      0           0     0      0          0  \n",
       "2                   0      0           0     0      0          0  \n",
       "3                   0      0           0     0      0          0  \n",
       "4                   0      0           0     0      0          0  \n",
       "\n",
       "[5 rows x 12000 columns]"
      ]
     },
     "execution_count": 72,
     "metadata": {},
     "output_type": "execute_result"
    }
   ],
   "source": [
    "df_X_train = pd.DataFrame(X_train_cv.todense(), columns=cv.get_feature_names())\n",
    "df_X_test = pd.DataFrame(X_test_cv.todense(), columns=cv.get_feature_names())\n",
    "df_X_train.head()"
   ]
  },
  {
   "cell_type": "code",
   "execution_count": 73,
   "metadata": {},
   "outputs": [],
   "source": [
    "df_X_train.reset_index(drop=True, inplace=True)\n",
    "X_train.reset_index(drop=True, inplace=True)\n",
    "df_X_test.reset_index(drop=True, inplace=True)\n",
    "X_test.reset_index(drop=True, inplace=True)"
   ]
  },
  {
   "cell_type": "code",
   "execution_count": 74,
   "metadata": {},
   "outputs": [
    {
     "data": {
      "text/html": [
       "<div>\n",
       "<style scoped>\n",
       "    .dataframe tbody tr th:only-of-type {\n",
       "        vertical-align: middle;\n",
       "    }\n",
       "\n",
       "    .dataframe tbody tr th {\n",
       "        vertical-align: top;\n",
       "    }\n",
       "\n",
       "    .dataframe thead th {\n",
       "        text-align: right;\n",
       "    }\n",
       "</style>\n",
       "<table border=\"1\" class=\"dataframe\">\n",
       "  <thead>\n",
       "    <tr style=\"text-align: right;\">\n",
       "      <th></th>\n",
       "      <th>abandon</th>\n",
       "      <th>abandoned</th>\n",
       "      <th>abbas</th>\n",
       "      <th>abc</th>\n",
       "      <th>abc nbc</th>\n",
       "      <th>abc news</th>\n",
       "      <th>abe</th>\n",
       "      <th>abe japan</th>\n",
       "      <th>aberdeen</th>\n",
       "      <th>abeshinzo</th>\n",
       "      <th>...</th>\n",
       "      <th>Open</th>\n",
       "      <th>High</th>\n",
       "      <th>Low</th>\n",
       "      <th>Volume</th>\n",
       "      <th>retweet_count</th>\n",
       "      <th>favorite_count</th>\n",
       "      <th>compound</th>\n",
       "      <th>neg</th>\n",
       "      <th>neu</th>\n",
       "      <th>pos</th>\n",
       "    </tr>\n",
       "  </thead>\n",
       "  <tbody>\n",
       "    <tr>\n",
       "      <th>0</th>\n",
       "      <td>0</td>\n",
       "      <td>0</td>\n",
       "      <td>0</td>\n",
       "      <td>0</td>\n",
       "      <td>0</td>\n",
       "      <td>0</td>\n",
       "      <td>0</td>\n",
       "      <td>0</td>\n",
       "      <td>0</td>\n",
       "      <td>0</td>\n",
       "      <td>...</td>\n",
       "      <td>0.003373</td>\n",
       "      <td>0.002188</td>\n",
       "      <td>0.00248</td>\n",
       "      <td>0.163948</td>\n",
       "      <td>157788.0</td>\n",
       "      <td>631545.0</td>\n",
       "      <td>-0.7083</td>\n",
       "      <td>0.1</td>\n",
       "      <td>0.832</td>\n",
       "      <td>0.068</td>\n",
       "    </tr>\n",
       "  </tbody>\n",
       "</table>\n",
       "<p>1 rows × 12011 columns</p>\n",
       "</div>"
      ],
      "text/plain": [
       "   abandon  abandoned  abbas  abc  abc nbc  abc news  abe  abe japan  \\\n",
       "0        0          0      0    0        0         0    0          0   \n",
       "\n",
       "   aberdeen  abeshinzo  ...      Open      High      Low    Volume  \\\n",
       "0         0          0  ...  0.003373  0.002188  0.00248  0.163948   \n",
       "\n",
       "   retweet_count  favorite_count  compound  neg    neu    pos  \n",
       "0       157788.0        631545.0   -0.7083  0.1  0.832  0.068  \n",
       "\n",
       "[1 rows x 12011 columns]"
      ]
     },
     "execution_count": 74,
     "metadata": {},
     "output_type": "execute_result"
    }
   ],
   "source": [
    "combined_X_train = pd.concat([df_X_train, X_train], axis =1)\n",
    "combined_X_train.head(1)"
   ]
  },
  {
   "cell_type": "code",
   "execution_count": 75,
   "metadata": {},
   "outputs": [],
   "source": [
    "combined_X_test = pd.concat([df_X_test, X_test], axis = 1)"
   ]
  },
  {
   "cell_type": "code",
   "execution_count": 76,
   "metadata": {},
   "outputs": [],
   "source": [
    "combined_X_train.drop(columns = 'reg_text', inplace=True)\n",
    "combined_X_test.drop(columns = 'reg_text', inplace=True)"
   ]
  },
  {
   "cell_type": "markdown",
   "metadata": {},
   "source": [
    "#### Checking the final shapes of both X and y data sets"
   ]
  },
  {
   "cell_type": "code",
   "execution_count": 77,
   "metadata": {},
   "outputs": [
    {
     "data": {
      "text/plain": [
       "((894, 12010), (158, 12010))"
      ]
     },
     "execution_count": 77,
     "metadata": {},
     "output_type": "execute_result"
    }
   ],
   "source": [
    "combined_X_train.shape, combined_X_test.shape"
   ]
  },
  {
   "cell_type": "code",
   "execution_count": 78,
   "metadata": {},
   "outputs": [
    {
     "data": {
      "text/plain": [
       "((894,), (158,))"
      ]
     },
     "execution_count": 78,
     "metadata": {},
     "output_type": "execute_result"
    }
   ],
   "source": [
    "y_train.shape, y_test.shape"
   ]
  },
  {
   "cell_type": "markdown",
   "metadata": {},
   "source": [
    "# Model me baby"
   ]
  },
  {
   "cell_type": "code",
   "execution_count": 79,
   "metadata": {},
   "outputs": [
    {
     "name": "stderr",
     "output_type": "stream",
     "text": [
      "/anaconda3/lib/python3.7/site-packages/sklearn/linear_model/logistic.py:432: FutureWarning: Default solver will be changed to 'lbfgs' in 0.22. Specify a solver to silence this warning.\n",
      "  FutureWarning)\n"
     ]
    },
    {
     "data": {
      "text/plain": [
       "LogisticRegression(C=1.0, class_weight=None, dual=False, fit_intercept=True,\n",
       "                   intercept_scaling=1, l1_ratio=None, max_iter=100,\n",
       "                   multi_class='warn', n_jobs=None, penalty='l2',\n",
       "                   random_state=None, solver='warn', tol=0.0001, verbose=0,\n",
       "                   warm_start=False)"
      ]
     },
     "execution_count": 79,
     "metadata": {},
     "output_type": "execute_result"
    }
   ],
   "source": [
    "# Basic Logistic Regression with default parameters\n",
    "lr = LogisticRegression()\n",
    "lr.fit(combined_X_train, y_train)"
   ]
  },
  {
   "cell_type": "code",
   "execution_count": 80,
   "metadata": {},
   "outputs": [
    {
     "data": {
      "text/plain": [
       "(0.5604026845637584, 0.5)"
      ]
     },
     "execution_count": 80,
     "metadata": {},
     "output_type": "execute_result"
    }
   ],
   "source": [
    "lr.score(combined_X_train, y_train), lr.score(combined_X_test, y_test)"
   ]
  },
  {
   "cell_type": "markdown",
   "metadata": {},
   "source": [
    "#### Basic logistic model was only 50% accurate on test data..."
   ]
  },
  {
   "cell_type": "code",
   "execution_count": 81,
   "metadata": {},
   "outputs": [],
   "source": [
    "# Going to use a pipeline to put into a Gridsearch that will give best parameters for Logistic Regression model\n",
    "pipe = Pipeline([('lr', LogisticRegression(n_jobs=-1))])"
   ]
  },
  {
   "cell_type": "code",
   "execution_count": 82,
   "metadata": {},
   "outputs": [],
   "source": [
    "pipe_params = {\n",
    "#     Ending up not using CountVectorizer in Pipeline because it kept messing with data shape.  So applied it before \n",
    "#     modeling \n",
    "#     'cv__max_features': [10000, 15000, 20000],\n",
    "#     'cv__min_df': [2, 3],\n",
    "#     'cv__max_df': [.9, .95],\n",
    "#     'cv__ngram_range': [(1,1), (1,2), (1,3)],\n",
    "#     'lr__class_weight': [None, 'balanced']   Didn't use this parameter either as all runs came up using default best\n",
    "    'lr__penalty': ['l1','l2'],\n",
    "    'lr__C': [0.001,0.01,0.1,1,10],\n",
    "}"
   ]
  },
  {
   "cell_type": "markdown",
   "metadata": {},
   "source": [
    "# Gridsearch "
   ]
  },
  {
   "cell_type": "code",
   "execution_count": 83,
   "metadata": {},
   "outputs": [],
   "source": [
    "gs = GridSearchCV(pipe, param_grid=pipe_params, cv=5, n_jobs=-1)"
   ]
  },
  {
   "cell_type": "code",
   "execution_count": 84,
   "metadata": {
    "scrolled": true
   },
   "outputs": [
    {
     "name": "stderr",
     "output_type": "stream",
     "text": [
      "/anaconda3/lib/python3.7/site-packages/sklearn/linear_model/logistic.py:432: FutureWarning: Default solver will be changed to 'lbfgs' in 0.22. Specify a solver to silence this warning.\n",
      "  FutureWarning)\n",
      "/anaconda3/lib/python3.7/site-packages/sklearn/linear_model/logistic.py:1544: UserWarning: 'n_jobs' > 1 does not have any effect when 'solver' is set to 'liblinear'. Got 'n_jobs' = 4.\n",
      "  \" = {}.\".format(effective_n_jobs(self.n_jobs)))\n"
     ]
    },
    {
     "data": {
      "text/plain": [
       "GridSearchCV(cv=5, error_score='raise-deprecating',\n",
       "             estimator=Pipeline(memory=None,\n",
       "                                steps=[('lr',\n",
       "                                        LogisticRegression(C=1.0,\n",
       "                                                           class_weight=None,\n",
       "                                                           dual=False,\n",
       "                                                           fit_intercept=True,\n",
       "                                                           intercept_scaling=1,\n",
       "                                                           l1_ratio=None,\n",
       "                                                           max_iter=100,\n",
       "                                                           multi_class='warn',\n",
       "                                                           n_jobs=-1,\n",
       "                                                           penalty='l2',\n",
       "                                                           random_state=None,\n",
       "                                                           solver='warn',\n",
       "                                                           tol=0.0001,\n",
       "                                                           verbose=0,\n",
       "                                                           warm_start=False))],\n",
       "                                verbose=False),\n",
       "             iid='warn', n_jobs=-1,\n",
       "             param_grid={'lr__C': [0.001, 0.01, 0.1, 1, 10],\n",
       "                         'lr__penalty': ['l1', 'l2']},\n",
       "             pre_dispatch='2*n_jobs', refit=True, return_train_score=False,\n",
       "             scoring=None, verbose=0)"
      ]
     },
     "execution_count": 84,
     "metadata": {},
     "output_type": "execute_result"
    }
   ],
   "source": [
    "gs.fit(combined_X_train, y_train)"
   ]
  },
  {
   "cell_type": "code",
   "execution_count": 85,
   "metadata": {},
   "outputs": [
    {
     "data": {
      "text/plain": [
       "{'lr__C': 0.1, 'lr__penalty': 'l1'}"
      ]
     },
     "execution_count": 85,
     "metadata": {},
     "output_type": "execute_result"
    }
   ],
   "source": [
    "gs.best_params_"
   ]
  },
  {
   "cell_type": "code",
   "execution_count": 86,
   "metadata": {},
   "outputs": [
    {
     "data": {
      "text/plain": [
       "0.6633109619686801"
      ]
     },
     "execution_count": 86,
     "metadata": {},
     "output_type": "execute_result"
    }
   ],
   "source": [
    "gs.score(combined_X_train, y_train)"
   ]
  },
  {
   "cell_type": "code",
   "execution_count": 87,
   "metadata": {},
   "outputs": [
    {
     "data": {
      "text/plain": [
       "0.5759493670886076"
      ]
     },
     "execution_count": 87,
     "metadata": {},
     "output_type": "execute_result"
    }
   ],
   "source": [
    "gs.score(combined_X_test, y_test)"
   ]
  },
  {
   "cell_type": "code",
   "execution_count": 88,
   "metadata": {},
   "outputs": [
    {
     "data": {
      "text/plain": [
       "0.5961968680089486"
      ]
     },
     "execution_count": 88,
     "metadata": {},
     "output_type": "execute_result"
    }
   ],
   "source": [
    "gs.best_score_"
   ]
  },
  {
   "cell_type": "code",
   "execution_count": 89,
   "metadata": {},
   "outputs": [
    {
     "name": "stderr",
     "output_type": "stream",
     "text": [
      "/anaconda3/lib/python3.7/site-packages/sklearn/linear_model/logistic.py:432: FutureWarning: Default solver will be changed to 'lbfgs' in 0.22. Specify a solver to silence this warning.\n",
      "  FutureWarning)\n"
     ]
    },
    {
     "name": "stdout",
     "output_type": "stream",
     "text": [
      "[LibLinear]"
     ]
    },
    {
     "data": {
      "text/plain": [
       "LogisticRegression(C=0.1, class_weight=None, dual=False, fit_intercept=True,\n",
       "                   intercept_scaling=1, l1_ratio=None, max_iter=100,\n",
       "                   multi_class='warn', n_jobs=None, penalty='l1',\n",
       "                   random_state=42, solver='warn', tol=0.0001, verbose=1,\n",
       "                   warm_start=False)"
      ]
     },
     "execution_count": 89,
     "metadata": {},
     "output_type": "execute_result"
    }
   ],
   "source": [
    "# Using the best parameters from the Gridsearch above to create best Logistic Regression model\n",
    "lr = LogisticRegression(C=0.1, verbose=1, penalty='l1', random_state=42)\n",
    "lr.fit(combined_X_train, y_train)"
   ]
  },
  {
   "cell_type": "code",
   "execution_count": 90,
   "metadata": {},
   "outputs": [
    {
     "data": {
      "text/plain": [
       "0.5759493670886076"
      ]
     },
     "execution_count": 90,
     "metadata": {},
     "output_type": "execute_result"
    }
   ],
   "source": [
    "lr.score(combined_X_test, y_test)"
   ]
  },
  {
   "cell_type": "markdown",
   "metadata": {},
   "source": [
    "#### The Lasso regularization performed the best in Logistic Regression model.  \n",
    "#### Accuracy of 57.59% is better than baseline model of 54.18%, but not by much"
   ]
  },
  {
   "cell_type": "code",
   "execution_count": 91,
   "metadata": {},
   "outputs": [],
   "source": [
    "preds_lr = lr.predict(combined_X_test)"
   ]
  },
  {
   "cell_type": "code",
   "execution_count": 92,
   "metadata": {},
   "outputs": [
    {
     "data": {
      "text/html": [
       "<div>\n",
       "<style scoped>\n",
       "    .dataframe tbody tr th:only-of-type {\n",
       "        vertical-align: middle;\n",
       "    }\n",
       "\n",
       "    .dataframe tbody tr th {\n",
       "        vertical-align: top;\n",
       "    }\n",
       "\n",
       "    .dataframe thead th {\n",
       "        text-align: right;\n",
       "    }\n",
       "</style>\n",
       "<table border=\"1\" class=\"dataframe\">\n",
       "  <thead>\n",
       "    <tr style=\"text-align: right;\">\n",
       "      <th></th>\n",
       "      <th>predict up</th>\n",
       "      <th>predict down</th>\n",
       "    </tr>\n",
       "  </thead>\n",
       "  <tbody>\n",
       "    <tr>\n",
       "      <th>actual up</th>\n",
       "      <td>33</td>\n",
       "      <td>39</td>\n",
       "    </tr>\n",
       "    <tr>\n",
       "      <th>actual down</th>\n",
       "      <td>28</td>\n",
       "      <td>58</td>\n",
       "    </tr>\n",
       "  </tbody>\n",
       "</table>\n",
       "</div>"
      ],
      "text/plain": [
       "             predict up  predict down\n",
       "actual up            33            39\n",
       "actual down          28            58"
      ]
     },
     "execution_count": 92,
     "metadata": {},
     "output_type": "execute_result"
    }
   ],
   "source": [
    "cm_lr = confusion_matrix(y_test, preds_lr)\n",
    "cm_lr_df = pd.DataFrame(cm_lr, columns=['predict up','predict down'], \n",
    "             index=['actual up','actual down'])\n",
    "cm_lr_df"
   ]
  },
  {
   "cell_type": "code",
   "execution_count": 93,
   "metadata": {},
   "outputs": [
    {
     "name": "stdout",
     "output_type": "stream",
     "text": [
      "              precision    recall  f1-score   support\n",
      "\n",
      "           0       0.54      0.46      0.50        72\n",
      "           1       0.60      0.67      0.63        86\n",
      "\n",
      "    accuracy                           0.58       158\n",
      "   macro avg       0.57      0.57      0.57       158\n",
      "weighted avg       0.57      0.58      0.57       158\n",
      "\n"
     ]
    }
   ],
   "source": [
    "print(metrics.classification_report(y_test, preds_lr))"
   ]
  },
  {
   "cell_type": "code",
   "execution_count": 94,
   "metadata": {
    "scrolled": true
   },
   "outputs": [
    {
     "data": {
      "text/plain": [
       "0.5663759689922481"
      ]
     },
     "execution_count": 94,
     "metadata": {},
     "output_type": "execute_result"
    }
   ],
   "source": [
    "roc_auc_score(y_test, preds_lr)"
   ]
  },
  {
   "cell_type": "code",
   "execution_count": 95,
   "metadata": {},
   "outputs": [
    {
     "data": {
      "image/png": "[encoded data removed]",
      "text/plain": [
       "<Figure size 432x288 with 1 Axes>"
      ]
     },
     "metadata": {
      "needs_background": "light"
     },
     "output_type": "display_data"
    }
   ],
   "source": [
    "# calculate the fpr and tpr for all thresholds of the classification\n",
    "probs = lr.predict_proba(combined_X_test)\n",
    "preds = probs[:,1]\n",
    "fpr, tpr, threshold = metrics.roc_curve(y_test, preds)\n",
    "roc_auc = metrics.auc(fpr, tpr)\n",
    "\n",
    "\n",
    "plt.title('Receiver Operating Characteristic')\n",
    "plt.plot(fpr, tpr, 'b', label = 'AUC = %0.2f' % roc_auc)\n",
    "plt.legend(loc = 'lower right')\n",
    "plt.plot([0, 1], [0, 1],'r--')\n",
    "plt.xlim([0, 1])\n",
    "plt.ylim([0, 1])\n",
    "plt.ylabel('True Positive Rate')\n",
    "plt.xlabel('False Positive Rate')\n",
    "plt.show()"
   ]
  },
  {
   "cell_type": "markdown",
   "metadata": {},
   "source": [
    "#### Having a roc_auc score of .55 is not great.  Meaning that the model doesn't do a great job of classifying into an up or down day"
   ]
  },
  {
   "cell_type": "code",
   "execution_count": 96,
   "metadata": {},
   "outputs": [
    {
     "data": {
      "text/plain": [
       "array([[0., 0., 0., ..., 0., 0., 0.]])"
      ]
     },
     "execution_count": 96,
     "metadata": {},
     "output_type": "execute_result"
    }
   ],
   "source": [
    "# Finding coefficients of top 12,000 words used\n",
    "lr.coef_"
   ]
  },
  {
   "cell_type": "code",
   "execution_count": 97,
   "metadata": {},
   "outputs": [],
   "source": [
    "# Taking coefficients and mapping them to their respective 'Words'\n",
    "coefs = list(zip(list(lr.coef_[0]),combined_X_test.columns,))"
   ]
  },
  {
   "cell_type": "code",
   "execution_count": 98,
   "metadata": {},
   "outputs": [],
   "source": [
    "# Sorting those coefficients by numeric size instead of alphabetical\n",
    "coefs.sort()"
   ]
  },
  {
   "cell_type": "code",
   "execution_count": 99,
   "metadata": {},
   "outputs": [],
   "source": [
    "# Shows the lowest correlated features for an Up day\n",
    "low_coefs = coefs[:30]"
   ]
  },
  {
   "cell_type": "code",
   "execution_count": 100,
   "metadata": {},
   "outputs": [],
   "source": [
    "# Shows the top most correlated features to an Up day\n",
    "high_coefs = coefs[-30:]"
   ]
  },
  {
   "cell_type": "code",
   "execution_count": 101,
   "metadata": {},
   "outputs": [
    {
     "name": "stdout",
     "output_type": "stream",
     "text": [
      "0.5910186467468774\n",
      "0.2670391181874131\n",
      "0.1530510750428602\n"
     ]
    }
   ],
   "source": [
    "print(1-np.exp(-0.8940857150467996))\n",
    "print(1-np.exp(-0.3106629457602401))\n",
    "print(1-np.exp(-0.16611488726144405))"
   ]
  },
  {
   "cell_type": "code",
   "execution_count": 102,
   "metadata": {
    "scrolled": true
   },
   "outputs": [
    {
     "data": {
      "text/plain": [
       "[(-0.8940857150467996, 'Volume'),\n",
       " (-0.3106629457602401, 'justice'),\n",
       " (-0.16611488726144405, 'president trump'),\n",
       " (-0.13319607406327674, 'mr'),\n",
       " (-0.13282728887570397, 'honor'),\n",
       " (-0.10597233512322016, 'wants'),\n",
       " (-0.09755525746216744, 'ohio'),\n",
       " (-0.0783938106716143, 'wall'),\n",
       " (-0.06975985839410777, 'good'),\n",
       " (-0.05440968025843304, 'country'),\n",
       " (-0.05153977352427454, 'security'),\n",
       " (-0.04837913195938315, 'joe'),\n",
       " (-0.04697332468838774, 'doing'),\n",
       " (-0.032908002498624356, 'people'),\n",
       " (-0.03050541033395895, 'trump'),\n",
       " (-0.019509093896907883, 'north'),\n",
       " (-0.015125672694345173, 'bush'),\n",
       " (-0.014666015497241417, 'debate'),\n",
       " (-0.011817605767453642, 'ted'),\n",
       " (-0.007874662841908112, 'realdonaldtrump'),\n",
       " (-0.006222997323184629, 'dbongino'),\n",
       " (-0.004194184047929741, 'think'),\n",
       " (-0.0005607401046675142, 'year'),\n",
       " (-5.6554323081289804e-05, 'way'),\n",
       " (-2.805343972102877e-06, 'retweet_count'),\n",
       " (0.0, 'High'),\n",
       " (0.0, 'Low'),\n",
       " (0.0, 'Open'),\n",
       " (0.0, 'abandon'),\n",
       " (0.0, 'abandoned')]"
      ]
     },
     "execution_count": 102,
     "metadata": {},
     "output_type": "execute_result"
    }
   ],
   "source": [
    "low_coefs"
   ]
  },
  {
   "cell_type": "code",
   "execution_count": 103,
   "metadata": {},
   "outputs": [
    {
     "data": {
      "text/plain": [
       "[(0.0, 'zogby poll'),\n",
       " (0.0, 'zone'),\n",
       " (0.0, 'zones'),\n",
       " (0.0, 'zuckerman'),\n",
       " (9.535484671003055e-07, 'favorite_count'),\n",
       " (0.003673263172669902, 'americans'),\n",
       " (0.012333643849394662, 'governor'),\n",
       " (0.014388096247668722, 'times'),\n",
       " (0.01485351220662449, 'mueller'),\n",
       " (0.017928249936323994, 'government'),\n",
       " (0.018525267028579616, 'thank'),\n",
       " (0.023924767488221258, 'bad'),\n",
       " (0.02455762595097104, 'prime'),\n",
       " (0.024992827957739744, 'new'),\n",
       " (0.02646787735006596, 'law'),\n",
       " (0.034323096569239216, 'want'),\n",
       " (0.03567645949398568, 'amp'),\n",
       " (0.03801843847183507, 'clinton'),\n",
       " (0.04084381251265826, 'national'),\n",
       " (0.042615497143376944, 'false'),\n",
       " (0.044904595529774174, 'intelligence'),\n",
       " (0.05577089403139014, 'border'),\n",
       " (0.05715182526974873, 'great'),\n",
       " (0.057167092984036445, 'did'),\n",
       " (0.05828124763970634, 'republican'),\n",
       " (0.07183370172337897, 'mexico'),\n",
       " (0.076344262076319, 'meeting'),\n",
       " (0.1015872629837697, 'hillary clinton'),\n",
       " (0.10351498254159372, 'york'),\n",
       " (0.2052925449923923, 'healthcare')]"
      ]
     },
     "execution_count": 103,
     "metadata": {},
     "output_type": "execute_result"
    }
   ],
   "source": [
    "high_coefs"
   ]
  },
  {
   "cell_type": "code",
   "execution_count": 104,
   "metadata": {},
   "outputs": [],
   "source": [
    "# Setting up to graph Words\n",
    "low_coefficients, low_item = zip(*low_coefs)"
   ]
  },
  {
   "cell_type": "code",
   "execution_count": 105,
   "metadata": {},
   "outputs": [],
   "source": [
    "high_coefficients, high_item = zip(*high_coefs)"
   ]
  },
  {
   "cell_type": "code",
   "execution_count": 169,
   "metadata": {
    "scrolled": true
   },
   "outputs": [
    {
     "data": {
      "image/png": "[encoded data removed]",
      "text/plain": [
       "<Figure size 720x720 with 1 Axes>"
      ]
     },
     "metadata": {
      "needs_background": "light"
     },
     "output_type": "display_data"
    }
   ],
   "source": [
    "# Barchart of Words least correlated to an up day\n",
    "plt.figure(figsize=(10,10))\n",
    "plt.barh(low_item, (low_coefficients), color='red')\n",
    "plt.xlim()\n",
    "plt.xlabel('Log Odds')\n",
    "plt.ylabel('Top Variables for SPY Decrease');"
   ]
  },
  {
   "cell_type": "code",
   "execution_count": 153,
   "metadata": {},
   "outputs": [
    {
     "data": {
      "image/png": "[encoded data removed]",
      "text/plain": [
       "<Figure size 720x720 with 1 Axes>"
      ]
     },
     "metadata": {
      "needs_background": "light"
     },
     "output_type": "display_data"
    }
   ],
   "source": [
    "# Barchart of Words with highest correlation to an up day\n",
    "plt.figure(figsize=(10,10))\n",
    "plt.barh(high_item, np.exp(high_coefficients))\n",
    "plt.xlim(1,1.25)\n",
    "plt.xlabel('Odds')\n",
    "plt.ylabel('Top Variables for SPY Increase');"
   ]
  },
  {
   "cell_type": "code",
   "execution_count": 154,
   "metadata": {},
   "outputs": [
    {
     "name": "stdout",
     "output_type": "stream",
     "text": [
      "1.2278842238064678\n",
      "1.1090624098142743\n",
      "1.1069265078874226\n",
      "1.0793340839980392\n",
      "1.07447664559117\n"
     ]
    }
   ],
   "source": [
    "print(np.exp(0.2052925449923923))\n",
    "print(np.exp(0.10351498254159372))\n",
    "print(np.exp(0.1015872629837697))\n",
    "print(np.exp(0.076344262076319))\n",
    "print(np.exp(0.07183370172337897))"
   ]
  },
  {
   "cell_type": "code",
   "execution_count": 109,
   "metadata": {},
   "outputs": [],
   "source": [
    "# Since Gridsearch asked for Lasso regularization, I wanted to do a Ridge as well to see how well it would perform.\n",
    "ridge_params = {\n",
    "    'lr__penalty': ['l2'],\n",
    "    'lr__C': [0.001,0.01,0.1,1,10],\n",
    "}"
   ]
  },
  {
   "cell_type": "code",
   "execution_count": 110,
   "metadata": {},
   "outputs": [],
   "source": [
    "gs_ridge = GridSearchCV(pipe, param_grid=ridge_params, cv=5, n_jobs=-1)"
   ]
  },
  {
   "cell_type": "code",
   "execution_count": 111,
   "metadata": {},
   "outputs": [
    {
     "name": "stderr",
     "output_type": "stream",
     "text": [
      "/anaconda3/lib/python3.7/site-packages/sklearn/linear_model/logistic.py:432: FutureWarning: Default solver will be changed to 'lbfgs' in 0.22. Specify a solver to silence this warning.\n",
      "  FutureWarning)\n",
      "/anaconda3/lib/python3.7/site-packages/sklearn/linear_model/logistic.py:1544: UserWarning: 'n_jobs' > 1 does not have any effect when 'solver' is set to 'liblinear'. Got 'n_jobs' = 4.\n",
      "  \" = {}.\".format(effective_n_jobs(self.n_jobs)))\n"
     ]
    },
    {
     "data": {
      "text/plain": [
       "GridSearchCV(cv=5, error_score='raise-deprecating',\n",
       "             estimator=Pipeline(memory=None,\n",
       "                                steps=[('lr',\n",
       "                                        LogisticRegression(C=1.0,\n",
       "                                                           class_weight=None,\n",
       "                                                           dual=False,\n",
       "                                                           fit_intercept=True,\n",
       "                                                           intercept_scaling=1,\n",
       "                                                           l1_ratio=None,\n",
       "                                                           max_iter=100,\n",
       "                                                           multi_class='warn',\n",
       "                                                           n_jobs=-1,\n",
       "                                                           penalty='l2',\n",
       "                                                           random_state=None,\n",
       "                                                           solver='warn',\n",
       "                                                           tol=0.0001,\n",
       "                                                           verbose=0,\n",
       "                                                           warm_start=False))],\n",
       "                                verbose=False),\n",
       "             iid='warn', n_jobs=-1,\n",
       "             param_grid={'lr__C': [0.001, 0.01, 0.1, 1, 10],\n",
       "                         'lr__penalty': ['l2']},\n",
       "             pre_dispatch='2*n_jobs', refit=True, return_train_score=False,\n",
       "             scoring=None, verbose=0)"
      ]
     },
     "execution_count": 111,
     "metadata": {},
     "output_type": "execute_result"
    }
   ],
   "source": [
    "gs_ridge.fit(combined_X_train, y_train)"
   ]
  },
  {
   "cell_type": "code",
   "execution_count": 112,
   "metadata": {},
   "outputs": [
    {
     "data": {
      "text/plain": [
       "{'lr__C': 0.001, 'lr__penalty': 'l2'}"
      ]
     },
     "execution_count": 112,
     "metadata": {},
     "output_type": "execute_result"
    }
   ],
   "source": [
    "gs_ridge.best_params_"
   ]
  },
  {
   "cell_type": "code",
   "execution_count": 113,
   "metadata": {},
   "outputs": [
    {
     "data": {
      "text/plain": [
       "0.5447427293064877"
      ]
     },
     "execution_count": 113,
     "metadata": {},
     "output_type": "execute_result"
    }
   ],
   "source": [
    "gs_ridge.best_score_"
   ]
  },
  {
   "cell_type": "code",
   "execution_count": 114,
   "metadata": {},
   "outputs": [
    {
     "data": {
      "text/plain": [
       "0.5604026845637584"
      ]
     },
     "execution_count": 114,
     "metadata": {},
     "output_type": "execute_result"
    }
   ],
   "source": [
    "gs_ridge.score(combined_X_train, y_train)"
   ]
  },
  {
   "cell_type": "code",
   "execution_count": 115,
   "metadata": {},
   "outputs": [
    {
     "data": {
      "text/plain": [
       "0.5"
      ]
     },
     "execution_count": 115,
     "metadata": {},
     "output_type": "execute_result"
    }
   ],
   "source": [
    "gs_ridge.score(combined_X_test, y_test)"
   ]
  },
  {
   "cell_type": "markdown",
   "metadata": {},
   "source": [
    "#### Ridge accuracy score was less than Lasso model and also worse than baseline on test data"
   ]
  },
  {
   "cell_type": "code",
   "execution_count": 116,
   "metadata": {},
   "outputs": [],
   "source": [
    "# Going to use a Gradient Boost Classifier model to see if it can perform better than Logistic Regression"
   ]
  },
  {
   "cell_type": "code",
   "execution_count": 117,
   "metadata": {},
   "outputs": [],
   "source": [
    "gboost = GradientBoostingClassifier(random_state=42)"
   ]
  },
  {
   "cell_type": "code",
   "execution_count": 118,
   "metadata": {},
   "outputs": [],
   "source": [
    "gboost_params = {\n",
    "    'learning_rate': [0.001,0.01,0.1,1],\n",
    "    'min_samples_leaf': [1,2,3,4],\n",
    "#     'min_samples_split': [1,2,3,4],\n",
    "    'max_depth': [3,4,5,6,7]\n",
    "}"
   ]
  },
  {
   "cell_type": "code",
   "execution_count": 119,
   "metadata": {},
   "outputs": [],
   "source": [
    "# Un hash the code below to tune the parameters of gradient boost model\n",
    "#gs_boost = GridSearchCV(gboost, param_grid=gboost_params, cv=5, n_jobs=-1)"
   ]
  },
  {
   "cell_type": "code",
   "execution_count": 120,
   "metadata": {},
   "outputs": [],
   "source": [
    "#gs_boost.fit(combined_X_train, y_train)"
   ]
  },
  {
   "cell_type": "code",
   "execution_count": 121,
   "metadata": {},
   "outputs": [],
   "source": [
    "#gs_boost.score(combined_X_train, y_train)"
   ]
  },
  {
   "cell_type": "code",
   "execution_count": 122,
   "metadata": {},
   "outputs": [],
   "source": [
    "#gs_boost.score(combined_X_test, y_test)"
   ]
  },
  {
   "cell_type": "code",
   "execution_count": 123,
   "metadata": {},
   "outputs": [],
   "source": [
    "#gs_boost.best_params_"
   ]
  },
  {
   "cell_type": "code",
   "execution_count": 124,
   "metadata": {},
   "outputs": [],
   "source": [
    "#gs_boost.best_score_"
   ]
  },
  {
   "cell_type": "code",
   "execution_count": 125,
   "metadata": {
    "scrolled": true
   },
   "outputs": [],
   "source": [
    "gboost_bestmodel = GradientBoostingClassifier(learning_rate=0.1, max_depth=4, min_samples_leaf=2, random_state=42)"
   ]
  },
  {
   "cell_type": "code",
   "execution_count": 126,
   "metadata": {
    "scrolled": true
   },
   "outputs": [
    {
     "data": {
      "text/plain": [
       "GradientBoostingClassifier(criterion='friedman_mse', init=None,\n",
       "                           learning_rate=0.1, loss='deviance', max_depth=4,\n",
       "                           max_features=None, max_leaf_nodes=None,\n",
       "                           min_impurity_decrease=0.0, min_impurity_split=None,\n",
       "                           min_samples_leaf=2, min_samples_split=2,\n",
       "                           min_weight_fraction_leaf=0.0, n_estimators=100,\n",
       "                           n_iter_no_change=None, presort='auto',\n",
       "                           random_state=42, subsample=1.0, tol=0.0001,\n",
       "                           validation_fraction=0.1, verbose=0,\n",
       "                           warm_start=False)"
      ]
     },
     "execution_count": 126,
     "metadata": {},
     "output_type": "execute_result"
    }
   ],
   "source": [
    "gboost_bestmodel.fit(combined_X_train, y_train)"
   ]
  },
  {
   "cell_type": "code",
   "execution_count": 127,
   "metadata": {},
   "outputs": [
    {
     "data": {
      "text/plain": [
       "0.9832214765100671"
      ]
     },
     "execution_count": 127,
     "metadata": {},
     "output_type": "execute_result"
    }
   ],
   "source": [
    "gboost_bestmodel.score(combined_X_train, y_train)"
   ]
  },
  {
   "cell_type": "code",
   "execution_count": 128,
   "metadata": {},
   "outputs": [
    {
     "data": {
      "text/plain": [
       "0.810126582278481"
      ]
     },
     "execution_count": 128,
     "metadata": {},
     "output_type": "execute_result"
    }
   ],
   "source": [
    "gboost_bestmodel.score(combined_X_test, y_test)"
   ]
  },
  {
   "cell_type": "markdown",
   "metadata": {},
   "source": [
    "#### Gradient Boost performed pretty well compared to the Logistic Regression models with a score of 81% accuracy on test data\n",
    "This ends up being the best model overall in terms of accuracy score!"
   ]
  },
  {
   "cell_type": "code",
   "execution_count": 129,
   "metadata": {},
   "outputs": [],
   "source": [
    "# Going to use a Random Forest Classifier as well \n",
    "from sklearn.ensemble import RandomForestClassifier"
   ]
  },
  {
   "cell_type": "code",
   "execution_count": 130,
   "metadata": {},
   "outputs": [
    {
     "name": "stderr",
     "output_type": "stream",
     "text": [
      "/anaconda3/lib/python3.7/site-packages/sklearn/ensemble/forest.py:245: FutureWarning: The default value of n_estimators will change from 10 in version 0.20 to 100 in 0.22.\n",
      "  \"10 in version 0.20 to 100 in 0.22.\", FutureWarning)\n"
     ]
    },
    {
     "data": {
      "text/plain": [
       "0.6582278481012658"
      ]
     },
     "execution_count": 130,
     "metadata": {},
     "output_type": "execute_result"
    }
   ],
   "source": [
    "rf = RandomForestClassifier(random_state=42)\n",
    "rf.fit(combined_X_train,y_train)\n",
    "rf.score(combined_X_test,y_test)"
   ]
  },
  {
   "cell_type": "markdown",
   "metadata": {},
   "source": [
    "#### Random Forest performed slightly worse than Gradient Boost Classifier but better than both Logistic Regression models"
   ]
  },
  {
   "cell_type": "markdown",
   "metadata": {},
   "source": [
    "# Predicting on Gradient Boost model"
   ]
  },
  {
   "cell_type": "code",
   "execution_count": 131,
   "metadata": {},
   "outputs": [],
   "source": [
    "preds_gboost = gboost_bestmodel.predict(combined_X_test)"
   ]
  },
  {
   "cell_type": "code",
   "execution_count": 132,
   "metadata": {},
   "outputs": [
    {
     "data": {
      "text/plain": [
       "158"
      ]
     },
     "execution_count": 132,
     "metadata": {},
     "output_type": "execute_result"
    }
   ],
   "source": [
    "len(preds_gboost)"
   ]
  },
  {
   "cell_type": "code",
   "execution_count": 133,
   "metadata": {},
   "outputs": [],
   "source": [
    "from sklearn.metrics import confusion_matrix\n",
    "import sklearn.metrics as metrics"
   ]
  },
  {
   "cell_type": "code",
   "execution_count": 134,
   "metadata": {},
   "outputs": [],
   "source": [
    "cm_gboost = confusion_matrix(y_test, preds_gboost)"
   ]
  },
  {
   "cell_type": "code",
   "execution_count": 135,
   "metadata": {},
   "outputs": [
    {
     "data": {
      "text/html": [
       "<div>\n",
       "<style scoped>\n",
       "    .dataframe tbody tr th:only-of-type {\n",
       "        vertical-align: middle;\n",
       "    }\n",
       "\n",
       "    .dataframe tbody tr th {\n",
       "        vertical-align: top;\n",
       "    }\n",
       "\n",
       "    .dataframe thead th {\n",
       "        text-align: right;\n",
       "    }\n",
       "</style>\n",
       "<table border=\"1\" class=\"dataframe\">\n",
       "  <thead>\n",
       "    <tr style=\"text-align: right;\">\n",
       "      <th></th>\n",
       "      <th>predict up</th>\n",
       "      <th>predict down</th>\n",
       "    </tr>\n",
       "  </thead>\n",
       "  <tbody>\n",
       "    <tr>\n",
       "      <th>actual up</th>\n",
       "      <td>60</td>\n",
       "      <td>12</td>\n",
       "    </tr>\n",
       "    <tr>\n",
       "      <th>actual down</th>\n",
       "      <td>18</td>\n",
       "      <td>68</td>\n",
       "    </tr>\n",
       "  </tbody>\n",
       "</table>\n",
       "</div>"
      ],
      "text/plain": [
       "             predict up  predict down\n",
       "actual up            60            12\n",
       "actual down          18            68"
      ]
     },
     "execution_count": 135,
     "metadata": {},
     "output_type": "execute_result"
    }
   ],
   "source": [
    "cm_gboost_df = pd.DataFrame(cm_gboost, columns=['predict up','predict down'], \n",
    "             index=['actual up','actual down'])\n",
    "cm_gboost_df"
   ]
  },
  {
   "cell_type": "code",
   "execution_count": 136,
   "metadata": {},
   "outputs": [
    {
     "name": "stdout",
     "output_type": "stream",
     "text": [
      "              precision    recall  f1-score   support\n",
      "\n",
      "           0       0.77      0.83      0.80        72\n",
      "           1       0.85      0.79      0.82        86\n",
      "\n",
      "    accuracy                           0.81       158\n",
      "   macro avg       0.81      0.81      0.81       158\n",
      "weighted avg       0.81      0.81      0.81       158\n",
      "\n"
     ]
    }
   ],
   "source": [
    "print(metrics.classification_report(y_test, preds_gboost))"
   ]
  },
  {
   "cell_type": "code",
   "execution_count": 137,
   "metadata": {},
   "outputs": [
    {
     "data": {
      "text/plain": [
       "0.8120155038759691"
      ]
     },
     "execution_count": 137,
     "metadata": {},
     "output_type": "execute_result"
    }
   ],
   "source": [
    "roc_auc_score(y_test, preds_gboost)"
   ]
  },
  {
   "cell_type": "markdown",
   "metadata": {},
   "source": [
    "#### A roc_auc score of 0.87 means the model performs much better than any of the other models when classifying an up or down day"
   ]
  },
  {
   "cell_type": "code",
   "execution_count": 138,
   "metadata": {},
   "outputs": [
    {
     "data": {
      "image/png": "[encoded data removed]",
      "text/plain": [
       "<Figure size 432x288 with 1 Axes>"
      ]
     },
     "metadata": {
      "needs_background": "light"
     },
     "output_type": "display_data"
    }
   ],
   "source": [
    "# Plotting roc_auc score\n",
    "# calculate the fpr and tpr for all thresholds of the classification\n",
    "probs = gboost_bestmodel.predict_proba(combined_X_test)\n",
    "preds = probs[:,1]\n",
    "fpr, tpr, threshold = metrics.roc_curve(y_test, preds)\n",
    "roc_auc = metrics.auc(fpr, tpr)\n",
    "\n",
    "\n",
    "plt.title('Receiver Operating Characteristic')\n",
    "plt.plot(fpr, tpr, 'b', label = 'AUC = %0.2f' % roc_auc)\n",
    "plt.legend(loc = 'lower right')\n",
    "plt.plot([0, 1], [0, 1],'r--')\n",
    "plt.xlim([0, 1])\n",
    "plt.ylim([0, 1])\n",
    "plt.ylabel('True Positive Rate')\n",
    "plt.xlabel('False Positive Rate')\n",
    "plt.show()"
   ]
  },
  {
   "cell_type": "code",
   "execution_count": null,
   "metadata": {},
   "outputs": [],
   "source": []
  }
 ],
 "metadata": {
  "kernelspec": {
   "display_name": "Python 3",
   "language": "python",
   "name": "python3"
  },
  "language_info": {
   "codemirror_mode": {
    "name": "ipython",
    "version": 3
   },
   "file_extension": ".py",
   "mimetype": "text/x-python",
   "name": "python",
   "nbconvert_exporter": "python",
   "pygments_lexer": "ipython3",
   "version": "3.7.3"
  }
 },
 "nbformat": 4,
 "nbformat_minor": 2
}
