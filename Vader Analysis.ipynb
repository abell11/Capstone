{
 "cells": [
  {
   "cell_type": "code",
   "execution_count": 2,
   "metadata": {},
   "outputs": [],
   "source": [
    "import pandas as pd\n",
    "df=pd.read_csv('trump_data.csv')"
   ]
  },
  {
   "cell_type": "code",
   "execution_count": 3,
   "metadata": {},
   "outputs": [
    {
     "data": {
      "text/html": [
       "<div>\n",
       "<style scoped>\n",
       "    .dataframe tbody tr th:only-of-type {\n",
       "        vertical-align: middle;\n",
       "    }\n",
       "\n",
       "    .dataframe tbody tr th {\n",
       "        vertical-align: top;\n",
       "    }\n",
       "\n",
       "    .dataframe thead th {\n",
       "        text-align: right;\n",
       "    }\n",
       "</style>\n",
       "<table border=\"1\" class=\"dataframe\">\n",
       "  <thead>\n",
       "    <tr style=\"text-align: right;\">\n",
       "      <th></th>\n",
       "      <th>source</th>\n",
       "      <th>text</th>\n",
       "      <th>created_at</th>\n",
       "      <th>retweet_count</th>\n",
       "      <th>favorite_count</th>\n",
       "      <th>is_retweet</th>\n",
       "      <th>id_str</th>\n",
       "    </tr>\n",
       "  </thead>\n",
       "  <tbody>\n",
       "    <tr>\n",
       "      <th>0</th>\n",
       "      <td>Twitter for iPhone</td>\n",
       "      <td>Nobody ever heard of this dope until he met me...</td>\n",
       "      <td>08-20-2019 02:51:08</td>\n",
       "      <td>17323.0</td>\n",
       "      <td>71509.0</td>\n",
       "      <td>False</td>\n",
       "      <td>1.163645e+18</td>\n",
       "    </tr>\n",
       "    <tr>\n",
       "      <th>1</th>\n",
       "      <td>Twitter for iPhone</td>\n",
       "      <td>I promise not to do this to Greenland! https:/...</td>\n",
       "      <td>08-20-2019 00:07:14</td>\n",
       "      <td>61574.0</td>\n",
       "      <td>269528.0</td>\n",
       "      <td>False</td>\n",
       "      <td>1.163603e+18</td>\n",
       "    </tr>\n",
       "    <tr>\n",
       "      <th>2</th>\n",
       "      <td>Twitter for iPhone</td>\n",
       "      <td>Thank you to my great supporters at the 2019 @...</td>\n",
       "      <td>08-20-2019 00:04:57</td>\n",
       "      <td>13283.0</td>\n",
       "      <td>60576.0</td>\n",
       "      <td>False</td>\n",
       "      <td>1.163603e+18</td>\n",
       "    </tr>\n",
       "    <tr>\n",
       "      <th>3</th>\n",
       "      <td>Twitter for iPhone</td>\n",
       "      <td>Great discussion with Prime Minister @BorisJoh...</td>\n",
       "      <td>08-19-2019 23:55:57</td>\n",
       "      <td>14769.0</td>\n",
       "      <td>62221.0</td>\n",
       "      <td>False</td>\n",
       "      <td>1.163601e+18</td>\n",
       "    </tr>\n",
       "    <tr>\n",
       "      <th>4</th>\n",
       "      <td>Twitter for iPhone</td>\n",
       "      <td>Spoke to my two good friends Prime Minister Mo...</td>\n",
       "      <td>08-19-2019 23:43:54</td>\n",
       "      <td>21215.0</td>\n",
       "      <td>102835.0</td>\n",
       "      <td>False</td>\n",
       "      <td>1.163597e+18</td>\n",
       "    </tr>\n",
       "  </tbody>\n",
       "</table>\n",
       "</div>"
      ],
      "text/plain": [
       "               source                                               text  \\\n",
       "0  Twitter for iPhone  Nobody ever heard of this dope until he met me...   \n",
       "1  Twitter for iPhone  I promise not to do this to Greenland! https:/...   \n",
       "2  Twitter for iPhone  Thank you to my great supporters at the 2019 @...   \n",
       "3  Twitter for iPhone  Great discussion with Prime Minister @BorisJoh...   \n",
       "4  Twitter for iPhone  Spoke to my two good friends Prime Minister Mo...   \n",
       "\n",
       "            created_at  retweet_count  favorite_count is_retweet        id_str  \n",
       "0  08-20-2019 02:51:08        17323.0         71509.0      False  1.163645e+18  \n",
       "1  08-20-2019 00:07:14        61574.0        269528.0      False  1.163603e+18  \n",
       "2  08-20-2019 00:04:57        13283.0         60576.0      False  1.163603e+18  \n",
       "3  08-19-2019 23:55:57        14769.0         62221.0      False  1.163601e+18  \n",
       "4  08-19-2019 23:43:54        21215.0        102835.0      False  1.163597e+18  "
      ]
     },
     "execution_count": 3,
     "metadata": {},
     "output_type": "execute_result"
    }
   ],
   "source": [
    "df.head()"
   ]
  },
  {
   "cell_type": "code",
   "execution_count": 5,
   "metadata": {},
   "outputs": [],
   "source": [
    "corpus = list(df['text'])"
   ]
  },
  {
   "cell_type": "code",
   "execution_count": 6,
   "metadata": {},
   "outputs": [
    {
     "name": "stderr",
     "output_type": "stream",
     "text": [
      "[nltk_data] Downloading package vader_lexicon to\n",
      "[nltk_data]     /Users/alexbell/nltk_data...\n",
      "[nltk_data]   Package vader_lexicon is already up-to-date!\n"
     ]
    },
    {
     "data": {
      "text/plain": [
       "True"
      ]
     },
     "execution_count": 6,
     "metadata": {},
     "output_type": "execute_result"
    }
   ],
   "source": [
    "import nltk\n",
    "nltk.download('vader_lexicon')"
   ]
  },
  {
   "cell_type": "code",
   "execution_count": 8,
   "metadata": {},
   "outputs": [
    {
     "data": {
      "text/plain": [
       "{'neg': 0.0, 'neu': 1.0, 'pos': 0.0, 'compound': 0.0}"
      ]
     },
     "execution_count": 8,
     "metadata": {},
     "output_type": "execute_result"
    }
   ],
   "source": [
    "from nltk.sentiment.vader import SentimentIntensityAnalyzer\n",
    "#instantiate SIA\n",
    "sia = SentimentIntensityAnalyzer()\n",
    "\n",
    "#Get polarity scores for the first tweet\n",
    "sia.polarity_scores(corpus[0])"
   ]
  },
  {
   "cell_type": "code",
   "execution_count": 9,
   "metadata": {},
   "outputs": [
    {
     "data": {
      "text/html": [
       "<div>\n",
       "<style scoped>\n",
       "    .dataframe tbody tr th:only-of-type {\n",
       "        vertical-align: middle;\n",
       "    }\n",
       "\n",
       "    .dataframe tbody tr th {\n",
       "        vertical-align: top;\n",
       "    }\n",
       "\n",
       "    .dataframe thead th {\n",
       "        text-align: right;\n",
       "    }\n",
       "</style>\n",
       "<table border=\"1\" class=\"dataframe\">\n",
       "  <thead>\n",
       "    <tr style=\"text-align: right;\">\n",
       "      <th></th>\n",
       "      <th>compound</th>\n",
       "      <th>neg</th>\n",
       "      <th>neu</th>\n",
       "      <th>pos</th>\n",
       "      <th>text</th>\n",
       "    </tr>\n",
       "  </thead>\n",
       "  <tbody>\n",
       "    <tr>\n",
       "      <th>0</th>\n",
       "      <td>0.0000</td>\n",
       "      <td>0.000</td>\n",
       "      <td>1.000</td>\n",
       "      <td>0.000</td>\n",
       "      <td>Nobody ever heard of this dope until he met me...</td>\n",
       "    </tr>\n",
       "    <tr>\n",
       "      <th>1</th>\n",
       "      <td>0.3802</td>\n",
       "      <td>0.000</td>\n",
       "      <td>0.730</td>\n",
       "      <td>0.270</td>\n",
       "      <td>I promise not to do this to Greenland! https:/...</td>\n",
       "    </tr>\n",
       "    <tr>\n",
       "      <th>2</th>\n",
       "      <td>0.8687</td>\n",
       "      <td>0.000</td>\n",
       "      <td>0.450</td>\n",
       "      <td>0.550</td>\n",
       "      <td>Thank you to my great supporters at the 2019 @...</td>\n",
       "    </tr>\n",
       "    <tr>\n",
       "      <th>3</th>\n",
       "      <td>0.8268</td>\n",
       "      <td>0.000</td>\n",
       "      <td>0.811</td>\n",
       "      <td>0.189</td>\n",
       "      <td>Great discussion with Prime Minister @BorisJoh...</td>\n",
       "    </tr>\n",
       "    <tr>\n",
       "      <th>4</th>\n",
       "      <td>0.7807</td>\n",
       "      <td>0.066</td>\n",
       "      <td>0.723</td>\n",
       "      <td>0.211</td>\n",
       "      <td>Spoke to my two good friends Prime Minister Mo...</td>\n",
       "    </tr>\n",
       "  </tbody>\n",
       "</table>\n",
       "</div>"
      ],
      "text/plain": [
       "   compound    neg    neu    pos  \\\n",
       "0    0.0000  0.000  1.000  0.000   \n",
       "1    0.3802  0.000  0.730  0.270   \n",
       "2    0.8687  0.000  0.450  0.550   \n",
       "3    0.8268  0.000  0.811  0.189   \n",
       "4    0.7807  0.066  0.723  0.211   \n",
       "\n",
       "                                                text  \n",
       "0  Nobody ever heard of this dope until he met me...  \n",
       "1  I promise not to do this to Greenland! https:/...  \n",
       "2  Thank you to my great supporters at the 2019 @...  \n",
       "3  Great discussion with Prime Minister @BorisJoh...  \n",
       "4  Spoke to my two good friends Prime Minister Mo...  "
      ]
     },
     "execution_count": 9,
     "metadata": {},
     "output_type": "execute_result"
    }
   ],
   "source": [
    "# Going through each tweet and assigning sentiment scores\n",
    "dicts = []    \n",
    "\n",
    "for tweet in corpus:\n",
    "    scores = sia.polarity_scores(str(tweet))\n",
    "    scores['text'] = tweet\n",
    "    dicts.append(scores)\n",
    "\n",
    "vader_df = pd.DataFrame(dicts)\n",
    "vader_df.head(5)"
   ]
  },
  {
   "cell_type": "code",
   "execution_count": 22,
   "metadata": {},
   "outputs": [
    {
     "data": {
      "text/html": [
       "<div>\n",
       "<style scoped>\n",
       "    .dataframe tbody tr th:only-of-type {\n",
       "        vertical-align: middle;\n",
       "    }\n",
       "\n",
       "    .dataframe tbody tr th {\n",
       "        vertical-align: top;\n",
       "    }\n",
       "\n",
       "    .dataframe thead th {\n",
       "        text-align: right;\n",
       "    }\n",
       "</style>\n",
       "<table border=\"1\" class=\"dataframe\">\n",
       "  <thead>\n",
       "    <tr style=\"text-align: right;\">\n",
       "      <th></th>\n",
       "      <th>compound</th>\n",
       "      <th>text</th>\n",
       "    </tr>\n",
       "  </thead>\n",
       "  <tbody>\n",
       "    <tr>\n",
       "      <th>11588</th>\n",
       "      <td>0.9978</td>\n",
       "      <td>@DarrenWaggener: @realDonaldTrump What has hap...</td>\n",
       "    </tr>\n",
       "    <tr>\n",
       "      <th>12336</th>\n",
       "      <td>0.9965</td>\n",
       "      <td>@vikkideiter: Something VERY close to my heart...</td>\n",
       "    </tr>\n",
       "    <tr>\n",
       "      <th>13931</th>\n",
       "      <td>0.9963</td>\n",
       "      <td>@Carolin42539648:  @realDonaldTrump oh my word...</td>\n",
       "    </tr>\n",
       "    <tr>\n",
       "      <th>12486</th>\n",
       "      <td>0.9942</td>\n",
       "      <td>@jojo2foxy: TRUMP IS NOT AFRAID OF ANYTHING OR...</td>\n",
       "    </tr>\n",
       "    <tr>\n",
       "      <th>15885</th>\n",
       "      <td>0.9932</td>\n",
       "      <td>@WendyJFluga28: DonaldTrump is an emblem of HO...</td>\n",
       "    </tr>\n",
       "    <tr>\n",
       "      <th>6564</th>\n",
       "      <td>0.9899</td>\n",
       "      <td>Congratulations to Patrick Reed on his great a...</td>\n",
       "    </tr>\n",
       "    <tr>\n",
       "      <th>10110</th>\n",
       "      <td>0.9888</td>\n",
       "      <td>@slh: I follow Mr.Trump at all of his rallies ...</td>\n",
       "    </tr>\n",
       "    <tr>\n",
       "      <th>3660</th>\n",
       "      <td>0.9843</td>\n",
       "      <td>Here we go with Mitt Romney but so fast! Quest...</td>\n",
       "    </tr>\n",
       "    <tr>\n",
       "      <th>4335</th>\n",
       "      <td>0.9841</td>\n",
       "      <td>Congressman Kevin Brady of Texas is so popular...</td>\n",
       "    </tr>\n",
       "    <tr>\n",
       "      <th>3608</th>\n",
       "      <td>0.9837</td>\n",
       "      <td>Congratulations to a truly great football team...</td>\n",
       "    </tr>\n",
       "    <tr>\n",
       "      <th>5722</th>\n",
       "      <td>0.9826</td>\n",
       "      <td>Thank you to all of my great supporters really...</td>\n",
       "    </tr>\n",
       "    <tr>\n",
       "      <th>1160</th>\n",
       "      <td>0.9825</td>\n",
       "      <td>I am at Camp David working on many things incl...</td>\n",
       "    </tr>\n",
       "    <tr>\n",
       "      <th>2137</th>\n",
       "      <td>0.9820</td>\n",
       "      <td>On this day of prayer we once again place our ...</td>\n",
       "    </tr>\n",
       "    <tr>\n",
       "      <th>5771</th>\n",
       "      <td>0.9816</td>\n",
       "      <td>Thank you @WVGovernor Jim Justice for that war...</td>\n",
       "    </tr>\n",
       "    <tr>\n",
       "      <th>14125</th>\n",
       "      <td>0.9814</td>\n",
       "      <td>@bjmgraphics:  @MarkHalperin Trump understands...</td>\n",
       "    </tr>\n",
       "    <tr>\n",
       "      <th>5941</th>\n",
       "      <td>0.9813</td>\n",
       "      <td>Thank you for all of the compliments on gettin...</td>\n",
       "    </tr>\n",
       "    <tr>\n",
       "      <th>16564</th>\n",
       "      <td>0.9806</td>\n",
       "      <td>@hamishjoy: There's no republican field at all...</td>\n",
       "    </tr>\n",
       "    <tr>\n",
       "      <th>8186</th>\n",
       "      <td>0.9805</td>\n",
       "      <td>Hurricane Irma is raging but we have great tea...</td>\n",
       "    </tr>\n",
       "    <tr>\n",
       "      <th>951</th>\n",
       "      <td>0.9796</td>\n",
       "      <td>RT @RandyRRQuaid: Wow! Rousing great speech gr...</td>\n",
       "    </tr>\n",
       "    <tr>\n",
       "      <th>4141</th>\n",
       "      <td>0.9795</td>\n",
       "      <td>.....of money spent on protecting other countr...</td>\n",
       "    </tr>\n",
       "  </tbody>\n",
       "</table>\n",
       "</div>"
      ],
      "text/plain": [
       "       compound                                               text\n",
       "11588    0.9978  @DarrenWaggener: @realDonaldTrump What has hap...\n",
       "12336    0.9965  @vikkideiter: Something VERY close to my heart...\n",
       "13931    0.9963  @Carolin42539648:  @realDonaldTrump oh my word...\n",
       "12486    0.9942  @jojo2foxy: TRUMP IS NOT AFRAID OF ANYTHING OR...\n",
       "15885    0.9932  @WendyJFluga28: DonaldTrump is an emblem of HO...\n",
       "6564     0.9899  Congratulations to Patrick Reed on his great a...\n",
       "10110    0.9888  @slh: I follow Mr.Trump at all of his rallies ...\n",
       "3660     0.9843  Here we go with Mitt Romney but so fast! Quest...\n",
       "4335     0.9841  Congressman Kevin Brady of Texas is so popular...\n",
       "3608     0.9837  Congratulations to a truly great football team...\n",
       "5722     0.9826  Thank you to all of my great supporters really...\n",
       "1160     0.9825  I am at Camp David working on many things incl...\n",
       "2137     0.9820  On this day of prayer we once again place our ...\n",
       "5771     0.9816  Thank you @WVGovernor Jim Justice for that war...\n",
       "14125    0.9814  @bjmgraphics:  @MarkHalperin Trump understands...\n",
       "5941     0.9813  Thank you for all of the compliments on gettin...\n",
       "16564    0.9806  @hamishjoy: There's no republican field at all...\n",
       "8186     0.9805  Hurricane Irma is raging but we have great tea...\n",
       "951      0.9796  RT @RandyRRQuaid: Wow! Rousing great speech gr...\n",
       "4141     0.9795  .....of money spent on protecting other countr..."
      ]
     },
     "execution_count": 22,
     "metadata": {},
     "output_type": "execute_result"
    }
   ],
   "source": [
    "vader_df[['compound','text']].sort_values(by='compound', ascending=False).head(20)"
   ]
  },
  {
   "cell_type": "code",
   "execution_count": 24,
   "metadata": {},
   "outputs": [
    {
     "data": {
      "text/plain": [
       "'Here we go with Mitt Romney but so fast! Question will be is he a Flake?  I hope not. Would much prefer that Mitt focus on Border Security and so many other things where he can be helpful. I won big and he didn’t. He should be happy for all Republicans. Be a TEAM player &amp; WIN!'"
      ]
     },
     "execution_count": 24,
     "metadata": {},
     "output_type": "execute_result"
    }
   ],
   "source": [
    "vader_df.loc[3660]['text']"
   ]
  },
  {
   "cell_type": "code",
   "execution_count": null,
   "metadata": {},
   "outputs": [],
   "source": []
  }
 ],
 "metadata": {
  "kernelspec": {
   "display_name": "Python 3",
   "language": "python",
   "name": "python3"
  },
  "language_info": {
   "codemirror_mode": {
    "name": "ipython",
    "version": 3
   },
   "file_extension": ".py",
   "mimetype": "text/x-python",
   "name": "python",
   "nbconvert_exporter": "python",
   "pygments_lexer": "ipython3",
   "version": "3.7.3"
  }
 },
 "nbformat": 4,
 "nbformat_minor": 2
}
