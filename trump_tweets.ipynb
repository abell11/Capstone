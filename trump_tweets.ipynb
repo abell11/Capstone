{
 "cells": [
  {
   "cell_type": "code",
   "execution_count": 1,
   "metadata": {},
   "outputs": [],
   "source": [
    "import numpy as np\n",
    "import pandas as pd\n",
    "import matplotlib.pyplot as plt\n",
    "import seaborn as sns\n",
    "\n",
    "%matplotlib inline"
   ]
  },
  {
   "cell_type": "code",
   "execution_count": 2,
   "metadata": {},
   "outputs": [
    {
     "name": "stdout",
     "output_type": "stream",
     "text": [
      "Requirement already satisfied: tweepy in /anaconda3/lib/python3.7/site-packages (3.8.0)\n",
      "Requirement already satisfied: PySocks>=1.5.7 in /anaconda3/lib/python3.7/site-packages (from tweepy) (1.6.8)\n",
      "Requirement already satisfied: requests>=2.11.1 in /anaconda3/lib/python3.7/site-packages (from tweepy) (2.21.0)\n",
      "Requirement already satisfied: six>=1.10.0 in /anaconda3/lib/python3.7/site-packages (from tweepy) (1.12.0)\n",
      "Requirement already satisfied: requests-oauthlib>=0.7.0 in /anaconda3/lib/python3.7/site-packages (from tweepy) (1.2.0)\n",
      "Requirement already satisfied: chardet<3.1.0,>=3.0.2 in /anaconda3/lib/python3.7/site-packages (from requests>=2.11.1->tweepy) (3.0.4)\n",
      "Requirement already satisfied: certifi>=2017.4.17 in /anaconda3/lib/python3.7/site-packages (from requests>=2.11.1->tweepy) (2019.3.9)\n",
      "Requirement already satisfied: urllib3<1.25,>=1.21.1 in /anaconda3/lib/python3.7/site-packages (from requests>=2.11.1->tweepy) (1.24.1)\n",
      "Requirement already satisfied: idna<2.9,>=2.5 in /anaconda3/lib/python3.7/site-packages (from requests>=2.11.1->tweepy) (2.8)\n",
      "Requirement already satisfied: oauthlib>=3.0.0 in /anaconda3/lib/python3.7/site-packages (from requests-oauthlib>=0.7.0->tweepy) (3.0.2)\n",
      "Note: you may need to restart the kernel to use updated packages.\n"
     ]
    }
   ],
   "source": [
    "pip install tweepy"
   ]
  },
  {
   "cell_type": "code",
   "execution_count": 3,
   "metadata": {},
   "outputs": [],
   "source": [
    "import json"
   ]
  },
  {
   "cell_type": "code",
   "execution_count": 4,
   "metadata": {},
   "outputs": [],
   "source": [
    "twitter_cred = {}"
   ]
  },
  {
   "cell_type": "code",
   "execution_count": 5,
   "metadata": {},
   "outputs": [],
   "source": [
    "twitter_cred['CONSUMER_KEY'] = 's3LaEU1wYq03aw3LcnFaWI7kM' \n",
    "twitter_cred['CONSUMER_SECRET'] = 'boFMXOSzhL8oFgSMAty2zLXJhgzn6z9qjqiVBzuAVXegr94rVV'\n",
    "twitter_cred['ACCESS_KEY'] = '62892931-Ze6dw1HhNEc46S80PQfEovEDwNfHbFp3xc17sDnPF'\n",
    "twitter_cred['ACCESS_SECRET'] = 'HWbqzY661fB3vJic76vytZqJxa6HzWATliWo9qxrvHVcD'"
   ]
  },
  {
   "cell_type": "code",
   "execution_count": 6,
   "metadata": {},
   "outputs": [],
   "source": [
    "with open('twitter_credentials.json', 'w') as secret_info:\n",
    "    json.dump(twitter_cred, secret_info, indent=4, sort_keys=True)"
   ]
  },
  {
   "cell_type": "code",
   "execution_count": 7,
   "metadata": {},
   "outputs": [],
   "source": [
    "import csv\n",
    "import tweepy\n",
    "import json"
   ]
  },
  {
   "cell_type": "code",
   "execution_count": 8,
   "metadata": {},
   "outputs": [],
   "source": [
    "with open('twitter_credentials.json') as cred_data:\n",
    "    info = json.load(cred_data)\n",
    "    consumer_key = info['CONSUMER_KEY']\n",
    "    consumer_secret = info['CONSUMER_SECRET']\n",
    "    access_key = info['ACCESS_KEY']\n",
    "    access_secret = info['ACCESS_SECRET']"
   ]
  },
  {
   "cell_type": "code",
   "execution_count": 12,
   "metadata": {},
   "outputs": [
    {
     "name": "stdout",
     "output_type": "stream",
     "text": [
      "Enter the twitter handle of the person whose tweets you want to download:- realDonaldTrump\n",
      "...399 tweets have been downloaded so far\n",
      "...599 tweets have been downloaded so far\n",
      "...799 tweets have been downloaded so far\n",
      "...999 tweets have been downloaded so far\n",
      "...1199 tweets have been downloaded so far\n",
      "...1399 tweets have been downloaded so far\n",
      "...1598 tweets have been downloaded so far\n",
      "...1795 tweets have been downloaded so far\n",
      "...1995 tweets have been downloaded so far\n",
      "...2195 tweets have been downloaded so far\n",
      "...2394 tweets have been downloaded so far\n",
      "...2594 tweets have been downloaded so far\n",
      "...2793 tweets have been downloaded so far\n",
      "...2993 tweets have been downloaded so far\n",
      "...3193 tweets have been downloaded so far\n",
      "...3210 tweets have been downloaded so far\n",
      "...3210 tweets have been downloaded so far\n"
     ]
    }
   ],
   "source": [
    "def get_all_tweets(screen_name):\n",
    "    auth = tweepy.OAuthHandler(consumer_key, consumer_secret)\n",
    "    auth.set_access_token(access_key, access_secret)\n",
    "    api = tweepy.API(auth)\n",
    "    \n",
    "    all_the_tweets = []\n",
    "    new_tweets = api.user_timeline(screen_name=screen_name, count=200)\n",
    "    all_the_tweets.extend(new_tweets)\n",
    "    oldest_tweet = all_the_tweets[-1].id - 1\n",
    "    \n",
    "    while len(new_tweets) > 0:\n",
    "        new_tweets = api.user_timeline(screen_name=screen_name, count=200, max_id=oldest_tweet)\n",
    "        all_the_tweets.extend(new_tweets)\n",
    "        oldest_tweet = all_the_tweets[-1].id - 1\n",
    "        print ('...%s tweets have been downloaded so far' % len(all_the_tweets))\n",
    "        \n",
    "        outtweets = [[tweet.id_str, tweet.created_at, tweet.text.encode('utf-8')] for tweet in all_the_tweets]\n",
    "        with open(screen_name + '_tweets.csv', 'w', encoding='utf-8') as f:\n",
    "            writer = csv.writer(f)\n",
    "            writer.writerow(['id','created_at','text'])\n",
    "            writer.writerows(outtweets)\n",
    "            \n",
    "if __name__ == '__main__':\n",
    "    get_all_tweets(input(\"Enter the twitter handle of the person whose tweets you want to download:- \"))"
   ]
  },
  {
   "cell_type": "code",
   "execution_count": 13,
   "metadata": {},
   "outputs": [],
   "source": [
    "tweets = pd.read_csv('realDonaldTrump_tweets.csv')"
   ]
  },
  {
   "cell_type": "code",
   "execution_count": 14,
   "metadata": {},
   "outputs": [
    {
     "data": {
      "text/html": [
       "<div>\n",
       "<style scoped>\n",
       "    .dataframe tbody tr th:only-of-type {\n",
       "        vertical-align: middle;\n",
       "    }\n",
       "\n",
       "    .dataframe tbody tr th {\n",
       "        vertical-align: top;\n",
       "    }\n",
       "\n",
       "    .dataframe thead th {\n",
       "        text-align: right;\n",
       "    }\n",
       "</style>\n",
       "<table border=\"1\" class=\"dataframe\">\n",
       "  <thead>\n",
       "    <tr style=\"text-align: right;\">\n",
       "      <th></th>\n",
       "      <th>id</th>\n",
       "      <th>created_at</th>\n",
       "      <th>text</th>\n",
       "    </tr>\n",
       "  </thead>\n",
       "  <tbody>\n",
       "    <tr>\n",
       "      <th>0</th>\n",
       "      <td>1155547255916642305</td>\n",
       "      <td>2019-07-28 18:35:09</td>\n",
       "      <td>b'There is nothing racist in stating plainly w...</td>\n",
       "    </tr>\n",
       "    <tr>\n",
       "      <th>1</th>\n",
       "      <td>1155543119691206657</td>\n",
       "      <td>2019-07-28 18:18:43</td>\n",
       "      <td>b'RT @KTHopkins: Trump: Baltimore is a violent...</td>\n",
       "    </tr>\n",
       "    <tr>\n",
       "      <th>2</th>\n",
       "      <td>1155450979514560512</td>\n",
       "      <td>2019-07-28 12:12:35</td>\n",
       "      <td>b'\\xe2\\x80\\x9cElijah Cummings has had his chan...</td>\n",
       "    </tr>\n",
       "    <tr>\n",
       "      <th>3</th>\n",
       "      <td>1155442764940812290</td>\n",
       "      <td>2019-07-28 11:39:56</td>\n",
       "      <td>b'Speaking of failing badly, has anyone seen w...</td>\n",
       "    </tr>\n",
       "    <tr>\n",
       "      <th>4</th>\n",
       "      <td>1155439940618129408</td>\n",
       "      <td>2019-07-28 11:28:43</td>\n",
       "      <td>b'....a look, the facts speak far louder than ...</td>\n",
       "    </tr>\n",
       "  </tbody>\n",
       "</table>\n",
       "</div>"
      ],
      "text/plain": [
       "                    id           created_at  \\\n",
       "0  1155547255916642305  2019-07-28 18:35:09   \n",
       "1  1155543119691206657  2019-07-28 18:18:43   \n",
       "2  1155450979514560512  2019-07-28 12:12:35   \n",
       "3  1155442764940812290  2019-07-28 11:39:56   \n",
       "4  1155439940618129408  2019-07-28 11:28:43   \n",
       "\n",
       "                                                text  \n",
       "0  b'There is nothing racist in stating plainly w...  \n",
       "1  b'RT @KTHopkins: Trump: Baltimore is a violent...  \n",
       "2  b'\\xe2\\x80\\x9cElijah Cummings has had his chan...  \n",
       "3  b'Speaking of failing badly, has anyone seen w...  \n",
       "4  b'....a look, the facts speak far louder than ...  "
      ]
     },
     "execution_count": 14,
     "metadata": {},
     "output_type": "execute_result"
    }
   ],
   "source": [
    "tweets.head()"
   ]
  },
  {
   "cell_type": "code",
   "execution_count": 16,
   "metadata": {},
   "outputs": [
    {
     "data": {
      "text/plain": [
       "(3210, 3)"
      ]
     },
     "execution_count": 16,
     "metadata": {},
     "output_type": "execute_result"
    }
   ],
   "source": [
    "tweets.shape"
   ]
  },
  {
   "cell_type": "code",
   "execution_count": 17,
   "metadata": {
    "scrolled": true
   },
   "outputs": [
    {
     "data": {
      "text/plain": [
       "3205    2018-12-21 12:10:36\n",
       "3206    2018-12-21 11:58:29\n",
       "3207    2018-12-21 11:50:53\n",
       "3208    2018-12-21 03:20:29\n",
       "3209    2018-12-21 03:13:54\n",
       "Name: created_at, dtype: object"
      ]
     },
     "execution_count": 17,
     "metadata": {},
     "output_type": "execute_result"
    }
   ],
   "source": [
    "tweets['created_at'].tail()"
   ]
  },
  {
   "cell_type": "code",
   "execution_count": 21,
   "metadata": {},
   "outputs": [
    {
     "data": {
      "text/plain": [
       "\"b'Thank you to our GREAT Republican Members of Congress for your VOTE to fund Border Security and the Wall. The final\\\\xe2\\\\x80\\\\xa6 https://t.co/4zKbeHeK5F'\""
      ]
     },
     "execution_count": 21,
     "metadata": {},
     "output_type": "execute_result"
    }
   ],
   "source": [
    "tweets['text'][3209]"
   ]
  },
  {
   "cell_type": "code",
   "execution_count": 45,
   "metadata": {},
   "outputs": [],
   "source": [
    "df_trump = pd.read_csv('./Trump_tweets_full.csv')"
   ]
  },
  {
   "cell_type": "code",
   "execution_count": 46,
   "metadata": {},
   "outputs": [
    {
     "data": {
      "text/html": [
       "<div>\n",
       "<style scoped>\n",
       "    .dataframe tbody tr th:only-of-type {\n",
       "        vertical-align: middle;\n",
       "    }\n",
       "\n",
       "    .dataframe tbody tr th {\n",
       "        vertical-align: top;\n",
       "    }\n",
       "\n",
       "    .dataframe thead th {\n",
       "        text-align: right;\n",
       "    }\n",
       "</style>\n",
       "<table border=\"1\" class=\"dataframe\">\n",
       "  <thead>\n",
       "    <tr style=\"text-align: right;\">\n",
       "      <th></th>\n",
       "      <th>Unnamed: 0</th>\n",
       "      <th>source</th>\n",
       "      <th>text</th>\n",
       "      <th>created_at</th>\n",
       "      <th>retweet_count</th>\n",
       "      <th>favorite_count</th>\n",
       "      <th>is_retweet</th>\n",
       "      <th>id_str</th>\n",
       "    </tr>\n",
       "  </thead>\n",
       "  <tbody>\n",
       "    <tr>\n",
       "      <th>0</th>\n",
       "      <td>NaN</td>\n",
       "      <td>Twitter for iPhone</td>\n",
       "      <td>RT @WhiteHouse: President Trump signed into la...</td>\n",
       "      <td>07-29-2019 15:55:39</td>\n",
       "      <td>2296</td>\n",
       "      <td>0</td>\n",
       "      <td>True</td>\n",
       "      <td>1155869504347545601</td>\n",
       "    </tr>\n",
       "    <tr>\n",
       "      <th>1</th>\n",
       "      <td>NaN</td>\n",
       "      <td>Twitter for iPhone</td>\n",
       "      <td>RT @WhiteHouse: President Trump gives a statem...</td>\n",
       "      <td>07-29-2019 15:54:37</td>\n",
       "      <td>1584</td>\n",
       "      <td>0</td>\n",
       "      <td>True</td>\n",
       "      <td>1155869245496016897</td>\n",
       "    </tr>\n",
       "    <tr>\n",
       "      <th>2</th>\n",
       "      <td>NaN</td>\n",
       "      <td>Twitter for iPhone</td>\n",
       "      <td>RT @WhiteHouse: President Trump Signs H.R. 132...</td>\n",
       "      <td>07-29-2019 15:54:25</td>\n",
       "      <td>2568</td>\n",
       "      <td>0</td>\n",
       "      <td>True</td>\n",
       "      <td>1155869194002599936</td>\n",
       "    </tr>\n",
       "    <tr>\n",
       "      <th>3</th>\n",
       "      <td>NaN</td>\n",
       "      <td>Twitter for iPhone</td>\n",
       "      <td>The Fed “raised” way too early and way too muc...</td>\n",
       "      <td>07-29-2019 13:18:14</td>\n",
       "      <td>8767</td>\n",
       "      <td>36994</td>\n",
       "      <td>False</td>\n",
       "      <td>1155829888701673472</td>\n",
       "    </tr>\n",
       "    <tr>\n",
       "      <th>4</th>\n",
       "      <td>NaN</td>\n",
       "      <td>Twitter for iPhone</td>\n",
       "      <td>....countries that know how to play the game a...</td>\n",
       "      <td>07-29-2019 13:18:14</td>\n",
       "      <td>7935</td>\n",
       "      <td>34646</td>\n",
       "      <td>False</td>\n",
       "      <td>1155829890903617536</td>\n",
       "    </tr>\n",
       "  </tbody>\n",
       "</table>\n",
       "</div>"
      ],
      "text/plain": [
       "   Unnamed: 0              source  \\\n",
       "0         NaN  Twitter for iPhone   \n",
       "1         NaN  Twitter for iPhone   \n",
       "2         NaN  Twitter for iPhone   \n",
       "3         NaN  Twitter for iPhone   \n",
       "4         NaN  Twitter for iPhone   \n",
       "\n",
       "                                                text           created_at  \\\n",
       "0  RT @WhiteHouse: President Trump signed into la...  07-29-2019 15:55:39   \n",
       "1  RT @WhiteHouse: President Trump gives a statem...  07-29-2019 15:54:37   \n",
       "2  RT @WhiteHouse: President Trump Signs H.R. 132...  07-29-2019 15:54:25   \n",
       "3  The Fed “raised” way too early and way too muc...  07-29-2019 13:18:14   \n",
       "4  ....countries that know how to play the game a...  07-29-2019 13:18:14   \n",
       "\n",
       "   retweet_count  favorite_count is_retweet               id_str  \n",
       "0           2296               0       True  1155869504347545601  \n",
       "1           1584               0       True  1155869245496016897  \n",
       "2           2568               0       True  1155869194002599936  \n",
       "3           8767           36994      False  1155829888701673472  \n",
       "4           7935           34646      False  1155829890903617536  "
      ]
     },
     "execution_count": 46,
     "metadata": {},
     "output_type": "execute_result"
    }
   ],
   "source": [
    "df_trump.head()"
   ]
  },
  {
   "cell_type": "code",
   "execution_count": 47,
   "metadata": {},
   "outputs": [
    {
     "data": {
      "text/html": [
       "<div>\n",
       "<style scoped>\n",
       "    .dataframe tbody tr th:only-of-type {\n",
       "        vertical-align: middle;\n",
       "    }\n",
       "\n",
       "    .dataframe tbody tr th {\n",
       "        vertical-align: top;\n",
       "    }\n",
       "\n",
       "    .dataframe thead th {\n",
       "        text-align: right;\n",
       "    }\n",
       "</style>\n",
       "<table border=\"1\" class=\"dataframe\">\n",
       "  <thead>\n",
       "    <tr style=\"text-align: right;\">\n",
       "      <th></th>\n",
       "      <th>Date</th>\n",
       "      <th>Open</th>\n",
       "      <th>High</th>\n",
       "      <th>Low</th>\n",
       "      <th>Close</th>\n",
       "      <th>Adj Close</th>\n",
       "      <th>Volume</th>\n",
       "    </tr>\n",
       "  </thead>\n",
       "  <tbody>\n",
       "    <tr>\n",
       "      <th>0</th>\n",
       "      <td>2016-11-07</td>\n",
       "      <td>208.550003</td>\n",
       "      <td>213.190002</td>\n",
       "      <td>208.550003</td>\n",
       "      <td>213.149994</td>\n",
       "      <td>202.107758</td>\n",
       "      <td>109794900</td>\n",
       "    </tr>\n",
       "    <tr>\n",
       "      <th>1</th>\n",
       "      <td>2016-11-08</td>\n",
       "      <td>212.690002</td>\n",
       "      <td>214.770004</td>\n",
       "      <td>212.380005</td>\n",
       "      <td>214.110001</td>\n",
       "      <td>203.018021</td>\n",
       "      <td>106772100</td>\n",
       "    </tr>\n",
       "    <tr>\n",
       "      <th>2</th>\n",
       "      <td>2016-11-09</td>\n",
       "      <td>212.369995</td>\n",
       "      <td>217.100006</td>\n",
       "      <td>212.339996</td>\n",
       "      <td>216.380005</td>\n",
       "      <td>205.170456</td>\n",
       "      <td>258429000</td>\n",
       "    </tr>\n",
       "    <tr>\n",
       "      <th>3</th>\n",
       "      <td>2016-11-10</td>\n",
       "      <td>217.300003</td>\n",
       "      <td>218.309998</td>\n",
       "      <td>215.220001</td>\n",
       "      <td>216.919998</td>\n",
       "      <td>205.682465</td>\n",
       "      <td>172113300</td>\n",
       "    </tr>\n",
       "    <tr>\n",
       "      <th>4</th>\n",
       "      <td>2016-11-11</td>\n",
       "      <td>216.080002</td>\n",
       "      <td>216.699997</td>\n",
       "      <td>215.320007</td>\n",
       "      <td>216.419998</td>\n",
       "      <td>205.208359</td>\n",
       "      <td>100552700</td>\n",
       "    </tr>\n",
       "  </tbody>\n",
       "</table>\n",
       "</div>"
      ],
      "text/plain": [
       "         Date        Open        High         Low       Close   Adj Close  \\\n",
       "0  2016-11-07  208.550003  213.190002  208.550003  213.149994  202.107758   \n",
       "1  2016-11-08  212.690002  214.770004  212.380005  214.110001  203.018021   \n",
       "2  2016-11-09  212.369995  217.100006  212.339996  216.380005  205.170456   \n",
       "3  2016-11-10  217.300003  218.309998  215.220001  216.919998  205.682465   \n",
       "4  2016-11-11  216.080002  216.699997  215.320007  216.419998  205.208359   \n",
       "\n",
       "      Volume  \n",
       "0  109794900  \n",
       "1  106772100  \n",
       "2  258429000  \n",
       "3  172113300  \n",
       "4  100552700  "
      ]
     },
     "execution_count": 47,
     "metadata": {},
     "output_type": "execute_result"
    }
   ],
   "source": [
    "spy = pd.read_csv('~/Desktop/SPY.csv')\n",
    "spy.head()"
   ]
  },
  {
   "cell_type": "code",
   "execution_count": 49,
   "metadata": {},
   "outputs": [
    {
     "data": {
      "text/html": [
       "<div>\n",
       "<style scoped>\n",
       "    .dataframe tbody tr th:only-of-type {\n",
       "        vertical-align: middle;\n",
       "    }\n",
       "\n",
       "    .dataframe tbody tr th {\n",
       "        vertical-align: top;\n",
       "    }\n",
       "\n",
       "    .dataframe thead th {\n",
       "        text-align: right;\n",
       "    }\n",
       "</style>\n",
       "<table border=\"1\" class=\"dataframe\">\n",
       "  <thead>\n",
       "    <tr style=\"text-align: right;\">\n",
       "      <th></th>\n",
       "      <th>Date</th>\n",
       "      <th>Open</th>\n",
       "      <th>High</th>\n",
       "      <th>Low</th>\n",
       "      <th>Close</th>\n",
       "      <th>Adj Close</th>\n",
       "      <th>Volume</th>\n",
       "    </tr>\n",
       "  </thead>\n",
       "  <tbody>\n",
       "    <tr>\n",
       "      <th>680</th>\n",
       "      <td>2019-07-24</td>\n",
       "      <td>299.190002</td>\n",
       "      <td>301.440002</td>\n",
       "      <td>299.089996</td>\n",
       "      <td>301.440002</td>\n",
       "      <td>301.440002</td>\n",
       "      <td>47213200</td>\n",
       "    </tr>\n",
       "    <tr>\n",
       "      <th>681</th>\n",
       "      <td>2019-07-25</td>\n",
       "      <td>300.940002</td>\n",
       "      <td>301.000000</td>\n",
       "      <td>299.109985</td>\n",
       "      <td>300.000000</td>\n",
       "      <td>300.000000</td>\n",
       "      <td>55394100</td>\n",
       "    </tr>\n",
       "    <tr>\n",
       "      <th>682</th>\n",
       "      <td>2019-07-26</td>\n",
       "      <td>300.760010</td>\n",
       "      <td>302.230011</td>\n",
       "      <td>300.619995</td>\n",
       "      <td>302.010010</td>\n",
       "      <td>302.010010</td>\n",
       "      <td>45084100</td>\n",
       "    </tr>\n",
       "    <tr>\n",
       "      <th>683</th>\n",
       "      <td>2019-07-29</td>\n",
       "      <td>301.880005</td>\n",
       "      <td>302.010010</td>\n",
       "      <td>300.850006</td>\n",
       "      <td>301.459991</td>\n",
       "      <td>301.459991</td>\n",
       "      <td>37796000</td>\n",
       "    </tr>\n",
       "    <tr>\n",
       "      <th>684</th>\n",
       "      <td>2019-07-30</td>\n",
       "      <td>299.910004</td>\n",
       "      <td>301.170013</td>\n",
       "      <td>299.500000</td>\n",
       "      <td>300.790009</td>\n",
       "      <td>300.790009</td>\n",
       "      <td>40971995</td>\n",
       "    </tr>\n",
       "  </tbody>\n",
       "</table>\n",
       "</div>"
      ],
      "text/plain": [
       "           Date        Open        High         Low       Close   Adj Close  \\\n",
       "680  2019-07-24  299.190002  301.440002  299.089996  301.440002  301.440002   \n",
       "681  2019-07-25  300.940002  301.000000  299.109985  300.000000  300.000000   \n",
       "682  2019-07-26  300.760010  302.230011  300.619995  302.010010  302.010010   \n",
       "683  2019-07-29  301.880005  302.010010  300.850006  301.459991  301.459991   \n",
       "684  2019-07-30  299.910004  301.170013  299.500000  300.790009  300.790009   \n",
       "\n",
       "       Volume  \n",
       "680  47213200  \n",
       "681  55394100  \n",
       "682  45084100  \n",
       "683  37796000  \n",
       "684  40971995  "
      ]
     },
     "execution_count": 49,
     "metadata": {},
     "output_type": "execute_result"
    }
   ],
   "source": [
    "spy.tail()"
   ]
  },
  {
   "cell_type": "code",
   "execution_count": 48,
   "metadata": {},
   "outputs": [
    {
     "data": {
      "text/plain": [
       "(685, 7)"
      ]
     },
     "execution_count": 48,
     "metadata": {},
     "output_type": "execute_result"
    }
   ],
   "source": [
    "spy.shape"
   ]
  },
  {
   "cell_type": "code",
   "execution_count": null,
   "metadata": {},
   "outputs": [],
   "source": []
  }
 ],
 "metadata": {
  "kernelspec": {
   "display_name": "Python 3",
   "language": "python",
   "name": "python3"
  },
  "language_info": {
   "codemirror_mode": {
    "name": "ipython",
    "version": 3
   },
   "file_extension": ".py",
   "mimetype": "text/x-python",
   "name": "python",
   "nbconvert_exporter": "python",
   "pygments_lexer": "ipython3",
   "version": "3.7.3"
  }
 },
 "nbformat": 4,
 "nbformat_minor": 2
}
